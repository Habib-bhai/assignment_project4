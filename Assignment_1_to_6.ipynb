{
  "nbformat": 4,
  "nbformat_minor": 0,
  "metadata": {
    "colab": {
      "provenance": [],
      "collapsed_sections": [
        "OSmjLCq_cPL0",
        "b1TZsDUN1JoJ",
        "J_Yu5s8f6-mY"
      ],
      "authorship_tag": "ABX9TyPSlmV7L7WlzAbaaH/ftMSN",
      "include_colab_link": true
    },
    "kernelspec": {
      "name": "python3",
      "display_name": "Python 3"
    },
    "language_info": {
      "name": "python"
    }
  },
  "cells": [
    {
      "cell_type": "markdown",
      "metadata": {
        "id": "view-in-github",
        "colab_type": "text"
      },
      "source": [
        "<a href=\"https://colab.research.google.com/github/Habib-bhai/assignment_project4/blob/main/Assignment_1_to_6.ipynb\" target=\"_parent\"><img src=\"https://colab.research.google.com/assets/colab-badge.svg\" alt=\"Open In Colab\"/></a>"
      ]
    },
    {
      "cell_type": "markdown",
      "source": [
        "# **Project 1: Mad libs**"
      ],
      "metadata": {
        "id": "OSmjLCq_cPL0"
      }
    },
    {
      "cell_type": "code",
      "source": [
        "def mad_libs():\n",
        "  #\n",
        "\n",
        "    # Collect user inputs\n",
        "    adjective = input(\"\\nEnter an adjective: \")\n",
        "    noun = input(\"\\nEnter a noun: \")\n",
        "    verb = input(\"\\nEnter a verb: \")\n",
        "    place = input(\"\\nEnter a place: \")\n",
        "    adverb = input(\"\\nEnter an adverb: \")\n",
        "\n",
        "    # Construct the Mad Libs story using the inputs\n",
        "    story = (\n",
        "        f\"Today I went to {place} and saw a {adjective} {noun}. \"\n",
        "        f\"It was so {adjective} that it started to {verb} {adverb}. \"\n",
        "        \"I couldn't believe my eyes!\"\n",
        "    )\n",
        "\n",
        "    # Print the final story\n",
        "    print(\"\\nHere's your Mad Libs story:\")\n",
        "    print(story)\n",
        "\n",
        "if __name__ == '__main__':\n",
        "    mad_libs()"
      ],
      "metadata": {
        "colab": {
          "base_uri": "https://localhost:8080/"
        },
        "id": "59NRxjlwcVQ-",
        "outputId": "2950e378-a806-445e-a47f-af590beb9422"
      },
      "execution_count": null,
      "outputs": [
        {
          "output_type": "stream",
          "name": "stdout",
          "text": [
            "\n",
            "Enter an adjective: pretty\n",
            "\n",
            "Enter a noun: charger\n",
            "\n",
            "Enter a verb: play\n",
            "\n",
            "Enter a place: rainforest\n",
            "\n",
            "Enter an adverb: where\n",
            "\n",
            "Here's your Mad Libs story:\n",
            "Today I went to rainforest and saw a pretty charger. It was so pretty that it started to play where. I couldn't believe my eyes!\n"
          ]
        }
      ]
    },
    {
      "cell_type": "markdown",
      "source": [
        "# **Project 2: Guess the Number Game Python Project (user)**"
      ],
      "metadata": {
        "id": "b1TZsDUN1JoJ"
      }
    },
    {
      "cell_type": "code",
      "source": [
        "import random\n",
        "def computer_guess(x: int):\n",
        "  low = 1\n",
        "  high = x\n",
        "  feedback = ''\n",
        "  while feedback != 'c' and low != high:\n",
        "    guess = random.randint(low, high)\n",
        "    feedback = input(f'\\nIs {guess} too high (H), too low (L), or correct (C)?? ').lower()\n",
        "    if feedback == 'h':\n",
        "      high = guess - 1\n",
        "    elif feedback == 'l':\n",
        "      low = guess + 1\n",
        "\n",
        "  print(f'Yay! The computer guessed your number, {guess}, correctly! 😎')\n",
        "\n",
        "computer_guess(10)\n"
      ],
      "metadata": {
        "colab": {
          "base_uri": "https://localhost:8080/"
        },
        "id": "s8jKdHUA1MdV",
        "outputId": "85530841-b58d-4c3b-fc3e-aaa6f0761447"
      },
      "execution_count": 6,
      "outputs": [
        {
          "output_type": "stream",
          "name": "stdout",
          "text": [
            "\n",
            "Is 6 too high (H), too low (L), or correct (C)?? h\n",
            "\n",
            "Is 3 too high (H), too low (L), or correct (C)?? l\n",
            "\n",
            "Is 5 too high (H), too low (L), or correct (C)?? c\n",
            "Yay! The computer guessed your number, 5, correctly! 😎\n"
          ]
        }
      ]
    },
    {
      "cell_type": "markdown",
      "source": [
        "# **Project 2: Guess the Number Game Python Project (computer)**"
      ],
      "metadata": {
        "id": "J_Yu5s8f6-mY"
      }
    },
    {
      "cell_type": "code",
      "source": [
        "def guess(x):\n",
        "  random_number = random.randint(1, x)\n",
        "  guess = 0\n",
        "  while guess != random_number:\n",
        "    guess = int(input(f'Guess a number between 1 and {x}: '))\n",
        "    if guess < random_number:\n",
        "      print(' guess again. Too low.')\n",
        "    elif guess > random_number:\n",
        "      print(' guess again. Too high.')\n",
        "\n",
        "  print(f'Yay, congrats. You have guessed the number {random_number} correctly!!')\n",
        "\n",
        "guess(10)"
      ],
      "metadata": {
        "colab": {
          "base_uri": "https://localhost:8080/"
        },
        "id": "NDMSQK4S7KhY",
        "outputId": "1172a131-6052-4649-b2f4-f05fdd3498f6"
      },
      "execution_count": 9,
      "outputs": [
        {
          "output_type": "stream",
          "name": "stdout",
          "text": [
            "Guess a number between 1 and 10: 5\n",
            " guess again. Too low.\n",
            "Guess a number between 1 and 10: 7\n",
            " guess again. Too low.\n",
            "Guess a number between 1 and 10: 9\n",
            " guess again. Too low.\n",
            "Guess a number between 1 and 10: 10\n",
            "Yay, congrats. You have guessed the number 10 correctly!!\n"
          ]
        }
      ]
    },
    {
      "cell_type": "markdown",
      "source": [
        "# **Project 4: Rock, paper, scissors Python Project**"
      ],
      "metadata": {
        "id": "RkMhfkbp7f-G"
      }
    },
    {
      "cell_type": "code",
      "source": [
        "def rock_paper_scissor():\n",
        "  rock_paper_scissor = [\"rock\", \"paper\", \"scissor\"]\n",
        "  computer = random.choice(rock_paper_scissor)\n",
        "  player_choice = \"\"\n",
        "  while player_choice not in rock_paper_scissor:\n",
        "    player_choice = input(\"rock, paper, or scissor?: \").lower()\n",
        "    if player_choice == computer:\n",
        "      print(f\"Draw!! Computer: {computer}   Player: {player_choice} \")\n",
        "      break\n",
        "\n",
        "    if player_choice == \"rock\" and computer == \"scissor\" or player_choice == \"paper\" and computer == \"rock\" or player_choice == \"scissor\" and computer == \"paper\":\n",
        "      print(f\"PLayer wins Computer: {computer}   Player: {player_choice}\")\n",
        "      break\n",
        "\n",
        "    else:\n",
        "      print(f\"Computer wins Computer: {computer}   Player: {player_choice}\")\n",
        "      break\n",
        "\n",
        "rock_paper_scissor()\n"
      ],
      "metadata": {
        "colab": {
          "base_uri": "https://localhost:8080/"
        },
        "id": "M_rua3P977rt",
        "outputId": "140cb6a3-86f8-4e2d-88ae-82de62f1f5ce"
      },
      "execution_count": 22,
      "outputs": [
        {
          "output_type": "stream",
          "name": "stdout",
          "text": [
            "rock, paper, or scissor?: paper\n",
            "PLayer wins Computer: rock   Player: paper\n"
          ]
        }
      ]
    },
    {
      "cell_type": "markdown",
      "source": [
        "# **Project 5: Hangman Python Project**"
      ],
      "metadata": {
        "id": "kGC0FLyoAGjO"
      }
    },
    {
      "cell_type": "code",
      "source": [
        "words = [\"aback\",\"abaft\",\"abandoned\",\"abashed\",\"aberrant\",\"abhorrent\",\"abiding\",\"abject\",\"ablaze\",\"able\",\"abnormal\",\"aboard\",\"aboriginal\",\"abortive\",\"abounding\",\"abrasive\",\"abrupt\",\"absent\",\"absorbed\",\"absorbing\",\"abstracted\",\"absurd\",\"abundant\",\"abusive\",\"acceptable\",\"accessible\",\"accidental\",\"accurate\",\"acid\",\"acidic\",\"acoustic\",\"acrid\",\"actually\",\"ad hoc\",\"adamant\",\"adaptable\",\"addicted\",\"adhesive\",\"adjoining\",\"adorable\",\"adventurous\",\"afraid\",\"aggressive\",\"agonizing\",\"agreeable\",\"ahead\",\"ajar\",\"alcoholic\",\"alert\",\"alike\",\"alive\",\"alleged\",\"alluring\",\"aloof\",\"amazing\",\"ambiguous\",\"ambitious\",\"amuck\",\"amused\",\"amusing\",\"ancient\",\"angry\",\"animated\",\"annoyed\",\"annoying\",\"anxious\",\"apathetic\",\"aquatic\",\"aromatic\",\"arrogant\",\"ashamed\",\"aspiring\",\"assorted\",\"astonishing\",\"attractive\",\"auspicious\",\"automatic\",\"available\",\"average\",\"awake\",\"aware\",\"awesome\",\"awful\",\"axiomatic\",\"bad\",\"barbarous\",\"bashful\",\"bawdy\",\"beautiful\",\"befitting\",\"belligerent\",\"beneficial\",\"bent\",\"berserk\",\"best\",\"better\",\"bewildered\",\"big\",\"billowy\",\"bite-sized\",\"bitter\",\"bizarre\",\"black\",\"black-and-white\",\"bloody\",\"blue\",\"blue-eyed\",\"blushing\",\"boiling\",\"boorish\",\"bored\",\"boring\",\"bouncy\",\"boundless\",\"brainy\",\"brash\",\"brave\",\"brawny\",\"breakable\",\"breezy\",\"brief\",\"bright\",\"bright\",\"broad\",\"broken\",\"brown\",\"bumpy\",\"burly\",\"bustling\",\"busy\",\"cagey\",\"calculating\",\"callous\",\"calm\",\"capable\",\"capricious\",\"careful\",\"careless\",\"caring\",\"cautious\",\"ceaseless\",\"certain\",\"changeable\",\"charming\",\"cheap\",\"cheerful\",\"chemical\",\"chief\",\"childlike\",\"chilly\",\"chivalrous\",\"chubby\",\"chunky\",\"clammy\",\"classy\",\"clean\",\"clear\",\"clever\",\"cloistered\",\"cloudy\",\"closed\",\"clumsy\",\"cluttered\",\"coherent\",\"cold\",\"colorful\",\"colossal\",\"combative\",\"comfortable\",\"common\",\"complete\",\"complex\",\"concerned\",\"condemned\",\"confused\",\"conscious\",\"cooing\",\"cool\",\"cooperative\",\"coordinated\",\"courageous\",\"cowardly\",\"crabby\",\"craven\",\"crazy\",\"creepy\",\"crooked\",\"crowded\",\"cruel\",\"cuddly\",\"cultured\",\"cumbersome\",\"curious\",\"curly\",\"curved\",\"curvy\",\"cut\",\"cute\",\"cute\",\"cynical\",\"daffy\",\"daily\",\"damaged\",\"damaging\",\"damp\",\"dangerous\",\"dapper\",\"dark\",\"dashing\",\"dazzling\",\"dead\",\"deadpan\",\"deafening\",\"dear\",\"debonair\",\"decisive\",\"decorous\",\"deep\",\"deeply\",\"defeated\",\"defective\",\"defiant\",\"delicate\",\"delicious\",\"delightful\",\"demonic\",\"delirious\",\"dependent\",\"depressed\",\"deranged\",\"descriptive\",\"deserted\",\"detailed\",\"determined\",\"devilish\",\"didactic\",\"different\",\"difficult\",\"diligent\",\"direful\",\"dirty\",\"disagreeable\",\"disastrous\",\"discreet\",\"disgusted\",\"disgusting\",\"disillusioned\",\"dispensable\",\"distinct\",\"disturbed\",\"divergent\",\"dizzy\",\"domineering\",\"doubtful\",\"drab\",\"draconian\",\"dramatic\",\"dreary\",\"drunk\",\"dry\",\"dull\",\"dusty\",\"dusty\",\"dynamic\",\"dysfunctional\",\"eager\",\"early\",\"earsplitting\",\"earthy\",\"easy\",\"eatable\",\"economic\",\"educated\",\"efficacious\",\"efficient\",\"eight\",\"elastic\",\"elated\",\"elderly\",\"electric\",\"elegant\",\"elfin\",\"elite\",\"embarrassed\",\"eminent\",\"empty\",\"enchanted\",\"enchanting\",\"encouraging\",\"endurable\",\"energetic\",\"enormous\",\"entertaining\",\"enthusiastic\",\"envious\",\"equable\",\"equal\",\"erect\",\"erratic\",\"ethereal\",\"evanescent\",\"evasive\",\"even\",\"excellent\",\"excited\",\"exciting\",\"exclusive\",\"exotic\",\"expensive\",\"extra-large\",\"extra-small\",\"exuberant\",\"exultant\",\"fabulous\",\"faded\",\"faint\",\"fair\",\"faithful\",\"fallacious\",\"false\",\"familiar\",\"famous\",\"fanatical\",\"fancy\",\"fantastic\",\"far\",\"far-flung\",\"fascinated\",\"fast\",\"fat\",\"faulty\",\"fearful\",\"fearless\",\"feeble\",\"feigned\",\"female\",\"fertile\",\"festive\",\"few\",\"fierce\",\"filthy\",\"fine\",\"finicky\",\"first\",\"five\",\"fixed\",\"flagrant\",\"flaky\",\"flashy\",\"flat\",\"flawless\",\"flimsy\",\"flippant\",\"flowery\",\"fluffy\",\"fluttering\",\"foamy\",\"foolish\",\"foregoing\",\"forgetful\",\"fortunate\",\"four\",\"frail\",\"fragile\",\"frantic\",\"free\",\"freezing\",\"frequent\",\"fresh\",\"fretful\",\"friendly\",\"frightened\",\"frightening\",\"full\",\"fumbling\",\"functional\",\"funny\",\"furry\",\"furtive\",\"future\",\"futuristic\",\"fuzzy\",\"gabby\",\"gainful\",\"gamy\",\"gaping\",\"garrulous\",\"gaudy\",\"general\",\"gentle\",\"giant\",\"giddy\",\"gifted\",\"gigantic\",\"glamorous\",\"gleaming\",\"glib\",\"glistening\",\"glorious\",\"glossy\",\"godly\",\"good\",\"goofy\",\"gorgeous\",\"graceful\",\"grandiose\",\"grateful\",\"gratis\",\"gray\",\"greasy\",\"great\",\"greedy\",\"green\",\"grey\",\"grieving\",\"groovy\",\"grotesque\",\"grouchy\",\"grubby\",\"gruesome\",\"grumpy\",\"guarded\",\"guiltless\",\"gullible\",\"gusty\",\"guttural\",\"habitual\",\"half\",\"hallowed\",\"halting\",\"handsome\",\"handsomely\",\"handy\",\"hanging\",\"hapless\",\"happy\",\"hard\",\"hard-to-find\",\"harmonious\",\"harsh\",\"hateful\",\"heady\",\"healthy\",\"heartbreaking\",\"heavenly\",\"heavy\",\"hellish\",\"helpful\",\"helpless\",\"hesitant\",\"hideous\",\"high\",\"highfalutin\",\"high-pitched\",\"hilarious\",\"hissing\",\"historical\",\"holistic\",\"hollow\",\"homeless\",\"homely\",\"honorable\",\"horrible\",\"hospitable\",\"hot\",\"huge\",\"hulking\",\"humdrum\",\"humorous\",\"hungry\",\"hurried\",\"hurt\",\"hushed\",\"husky\",\"hypnotic\",\"hysterical\",\"icky\",\"icy\",\"idiotic\",\"ignorant\",\"ill\",\"illegal\",\"ill-fated\",\"ill-informed\",\"illustrious\",\"imaginary\",\"immense\",\"imminent\",\"impartial\",\"imperfect\",\"impolite\",\"important\",\"imported\",\"impossible\",\"incandescent\",\"incompetent\",\"inconclusive\",\"industrious\",\"incredible\",\"inexpensive\",\"infamous\",\"innate\",\"innocent\",\"inquisitive\",\"insidious\",\"instinctive\",\"intelligent\",\"interesting\",\"internal\",\"invincible\",\"irate\",\"irritating\",\"itchy\",\"jaded\",\"jagged\",\"jazzy\",\"jealous\",\"jittery\",\"jobless\",\"jolly\",\"joyous\",\"judicious\",\"juicy\",\"jumbled\",\"jumpy\",\"juvenile\",\"kaput\",\"keen\",\"kind\",\"kindhearted\",\"kindly\",\"knotty\",\"knowing\",\"knowledgeable\",\"known\",\"labored\",\"lackadaisical\",\"lacking\",\"lame\",\"lamentable\",\"languid\",\"large\",\"last\",\"late\",\"laughable\",\"lavish\",\"lazy\",\"lean\",\"learned\",\"left\",\"legal\",\"lethal\",\"level\",\"lewd\",\"light\",\"like\",\"likeable\",\"limping\",\"literate\",\"little\",\"lively\",\"lively\",\"living\",\"lonely\",\"long\",\"longing\",\"long-term\",\"loose\",\"lopsided\",\"loud\",\"loutish\",\"lovely\",\"loving\",\"low\",\"lowly\",\"lucky\",\"ludicrous\",\"lumpy\",\"lush\",\"luxuriant\",\"lying\",\"lyrical\",\"macabre\",\"macho\",\"maddening\",\"madly\",\"magenta\",\"magical\",\"magnificent\",\"majestic\",\"makeshift\",\"male\",\"malicious\",\"mammoth\",\"maniacal\",\"many\",\"marked\",\"massive\",\"married\",\"marvelous\",\"material\",\"materialistic\",\"mature\",\"mean\",\"measly\",\"meaty\",\"medical\",\"meek\",\"mellow\",\"melodic\",\"melted\",\"merciful\",\"mere\",\"messy\",\"mighty\",\"military\",\"milky\",\"mindless\",\"miniature\",\"minor\",\"miscreant\",\"misty\",\"mixed\",\"moaning\",\"modern\",\"moldy\",\"momentous\",\"motionless\",\"mountainous\",\"muddled\",\"mundane\",\"murky\",\"mushy\",\"mute\",\"mysterious\",\"naive\",\"nappy\",\"narrow\",\"nasty\",\"natural\",\"naughty\",\"nauseating\",\"near\",\"neat\",\"nebulous\",\"necessary\",\"needless\",\"needy\",\"neighborly\",\"nervous\",\"new\",\"next\",\"nice\",\"nifty\",\"nimble\",\"nine\",\"nippy\",\"noiseless\",\"noisy\",\"nonchalant\",\"nondescript\",\"nonstop\",\"normal\",\"nostalgic\",\"nosy\",\"noxious\",\"null\",\"numberless\",\"numerous\",\"nutritious\",\"nutty\",\"oafish\",\"obedient\",\"obeisant\",\"obese\",\"obnoxious\",\"obscene\",\"obsequious\",\"observant\",\"obsolete\",\"obtainable\",\"oceanic\",\"odd\",\"offbeat\",\"old\",\"old-fashioned\",\"omniscient\",\"one\",\"onerous\",\"open\",\"opposite\",\"optimal\",\"orange\",\"ordinary\",\"organic\",\"ossified\",\"outgoing\",\"outrageous\",\"outstanding\",\"oval\",\"overconfident\",\"overjoyed\",\"overrated\",\"overt\",\"overwrought\",\"painful\",\"painstaking\",\"pale\",\"paltry\",\"panicky\",\"panoramic\",\"parallel\",\"parched\",\"parsimonious\",\"past\",\"pastoral\",\"pathetic\",\"peaceful\",\"penitent\",\"perfect\",\"periodic\",\"permissible\",\"perpetual\",\"petite\",\"petite\",\"phobic\",\"physical\",\"picayune\",\"pink\",\"piquant\",\"placid\",\"plain\",\"plant\",\"plastic\",\"plausible\",\"pleasant\",\"plucky\",\"pointless\",\"poised\",\"polite\",\"political\",\"poor\",\"possessive\",\"possible\",\"powerful\",\"precious\",\"premium\",\"present\",\"pretty\",\"previous\",\"pricey\",\"prickly\",\"private\",\"probable\",\"productive\",\"profuse\",\"protective\",\"proud\",\"psychedelic\",\"psychotic\",\"public\",\"puffy\",\"pumped\",\"puny\",\"purple\",\"purring\",\"pushy\",\"puzzled\",\"puzzling\",\"quack\",\"quaint\",\"quarrelsome\",\"questionable\",\"quick\",\"quickest\",\"quiet\",\"quirky\",\"quixotic\",\"quizzical\",\"rabid\",\"racial\",\"ragged\",\"rainy\",\"rambunctious\",\"rampant\",\"rapid\",\"rare\",\"raspy\",\"ratty\",\"ready\",\"real\",\"rebel\",\"receptive\",\"recondite\",\"red\",\"redundant\",\"reflective\",\"regular\",\"relieved\",\"remarkable\",\"reminiscent\",\"repulsive\",\"resolute\",\"resonant\",\"responsible\",\"rhetorical\",\"rich\",\"right\",\"righteous\",\"rightful\",\"rigid\",\"ripe\",\"ritzy\",\"roasted\",\"robust\",\"romantic\",\"roomy\",\"rotten\",\"rough\",\"round\",\"royal\",\"ruddy\",\"rude\",\"rural\",\"rustic\",\"ruthless\",\"sable\",\"sad\",\"safe\",\"salty\",\"same\",\"sassy\",\"satisfying\",\"savory\",\"scandalous\",\"scarce\",\"scared\",\"scary\",\"scattered\",\"scientific\",\"scintillating\",\"scrawny\",\"screeching\",\"second\",\"second-hand\",\"secret\",\"secretive\",\"sedate\",\"seemly\",\"selective\",\"selfish\",\"separate\",\"serious\",\"shaggy\",\"shaky\",\"shallow\",\"sharp\",\"shiny\",\"shivering\",\"shocking\",\"short\",\"shrill\",\"shut\",\"shy\",\"sick\",\"silent\",\"silent\",\"silky\",\"silly\",\"simple\",\"simplistic\",\"sincere\",\"six\",\"skillful\",\"skinny\",\"sleepy\",\"slim\",\"slimy\",\"slippery\",\"sloppy\",\"slow\",\"small\",\"smart\",\"smelly\",\"smiling\",\"smoggy\",\"smooth\",\"sneaky\",\"snobbish\",\"snotty\",\"soft\",\"soggy\",\"solid\",\"somber\",\"sophisticated\",\"sordid\",\"sore\",\"sore\",\"sour\",\"sparkling\",\"special\",\"spectacular\",\"spicy\",\"spiffy\",\"spiky\",\"spiritual\",\"spiteful\",\"splendid\",\"spooky\",\"spotless\",\"spotted\",\"spotty\",\"spurious\",\"squalid\",\"square\",\"squealing\",\"squeamish\",\"staking\",\"stale\",\"standing\",\"statuesque\",\"steadfast\",\"steady\",\"steep\",\"stereotyped\",\"sticky\",\"stiff\",\"stimulating\",\"stingy\",\"stormy\",\"straight\",\"strange\",\"striped\",\"strong\",\"stupendous\",\"stupid\",\"sturdy\",\"subdued\",\"subsequent\",\"substantial\",\"successful\",\"succinct\",\"sudden\",\"sulky\",\"super\",\"superb\",\"superficial\",\"supreme\",\"swanky\",\"sweet\",\"sweltering\",\"swift\",\"symptomatic\",\"synonymous\",\"taboo\",\"tacit\",\"tacky\",\"talented\",\"tall\",\"tame\",\"tan\",\"tangible\",\"tangy\",\"tart\",\"tasteful\",\"tasteless\",\"tasty\",\"tawdry\",\"tearful\",\"tedious\",\"teeny\",\"teeny-tiny\",\"telling\",\"temporary\",\"ten\",\"tender\",\"tense\",\"tense\",\"tenuous\",\"terrible\",\"terrific\",\"tested\",\"testy\",\"thankful\",\"therapeutic\",\"thick\",\"thin\",\"thinkable\",\"third\",\"thirsty\",\"thirsty\",\"thoughtful\",\"thoughtless\",\"threatening\",\"three\",\"thundering\",\"tidy\",\"tight\",\"tightfisted\",\"tiny\",\"tired\",\"tiresome\",\"toothsome\",\"torpid\",\"tough\",\"towering\",\"tranquil\",\"trashy\",\"tremendous\",\"tricky\",\"trite\",\"troubled\",\"truculent\",\"true\",\"truthful\",\"two\",\"typical\",\"ubiquitous\",\"ugliest\",\"ugly\",\"ultra\",\"unable\",\"unaccountable\",\"unadvised\",\"unarmed\",\"unbecoming\",\"unbiased\",\"uncovered\",\"understood\",\"undesirable\",\"unequal\",\"unequaled\",\"uneven\",\"unhealthy\",\"uninterested\",\"unique\",\"unkempt\",\"unknown\",\"unnatural\",\"unruly\",\"unsightly\",\"unsuitable\",\"untidy\",\"unused\",\"unusual\",\"unwieldy\",\"unwritten\",\"upbeat\",\"uppity\",\"upset\",\"uptight\",\"used\",\"useful\",\"useless\",\"utopian\",\"utter\",\"uttermost\",\"vacuous\",\"vagabond\",\"vague\",\"valuable\",\"various\",\"vast\",\"vengeful\",\"venomous\",\"verdant\",\"versed\",\"victorious\",\"vigorous\",\"violent\",\"violet\",\"vivacious\",\"voiceless\",\"volatile\",\"voracious\",\"vulgar\",\"wacky\",\"waggish\",\"waiting\",\"wakeful\",\"wandering\",\"wanting\",\"warlike\",\"warm\",\"wary\",\"wasteful\",\"watery\",\"weak\",\"wealthy\",\"weary\",\"well-groomed\",\"well-made\",\"well-off\",\"well-to-do\",\"wet\",\"whimsical\",\"whispering\",\"white\",\"whole\",\"wholesale\",\"wicked\",\"wide\",\"wide-eyed\",\"wiggly\",\"wild\",\"willing\",\"windy\",\"wiry\",\"wise\",\"wistful\",\"witty\",\"woebegone\",\"womanly\",\"wonderful\",\"wooden\",\"woozy\",\"workable\",\"worried\",\"worthless\",\"wrathful\",\"wretched\",\"wrong\",\"wry\",\"yellow\",\"yielding\",\"young\",\"youthful\",\"yummy\",\"zany\",\"zealous\",\"zesty\",\"zippy\",\"zonked\",\"account\",\"achiever\",\"acoustics\",\"act\",\"action\",\"activity\",\"actor\",\"addition\",\"adjustment\",\"advertisement\",\"advice\",\"aftermath\",\"afternoon\",\"afterthought\",\"agreement\",\"air\",\"airplane\",\"airport\",\"alarm\",\"amount\",\"amusement\",\"anger\",\"angle\",\"animal\",\"ants\",\"apparatus\",\"apparel\",\"appliance\",\"approval\",\"arch\",\"argument\",\"arithmetic\",\"arm\",\"army\",\"art\",\"attack\",\"attraction\",\"aunt\",\"authority\",\"babies\",\"baby\",\"back\",\"badge\",\"bag\",\"bait\",\"balance\",\"ball\",\"base\",\"baseball\",\"basin\",\"basket\",\"basketball\",\"bat\",\"bath\",\"battle\",\"bead\",\"bear\",\"bed\",\"bedroom\",\"beds\",\"bee\",\"beef\",\"beginner\",\"behavior\",\"belief\",\"believe\",\"bell\",\"bells\",\"berry\",\"bike\",\"bikes\",\"bird\",\"birds\",\"birth\",\"birthday\",\"bit\",\"bite\",\"blade\",\"blood\",\"blow\",\"board\",\"boat\",\"bomb\",\"bone\",\"book\",\"books\",\"boot\",\"border\",\"bottle\",\"boundary\",\"box\",\"boy\",\"brake\",\"branch\",\"brass\",\"breath\",\"brick\",\"bridge\",\"brother\",\"bubble\",\"bucket\",\"building\",\"bulb\",\"burst\",\"bushes\",\"business\",\"butter\",\"button\",\"cabbage\",\"cable\",\"cactus\",\"cake\",\"cakes\",\"calculator\",\"calendar\",\"camera\",\"camp\",\"can\",\"cannon\",\"canvas\",\"cap\",\"caption\",\"car\",\"card\",\"care\",\"carpenter\",\"carriage\",\"cars\",\"cart\",\"cast\",\"cat\",\"cats\",\"cattle\",\"cause\",\"cave\",\"celery\",\"cellar\",\"cemetery\",\"cent\",\"chalk\",\"chance\",\"change\",\"channel\",\"cheese\",\"cherries\",\"cherry\",\"chess\",\"chicken\",\"chickens\",\"children\",\"chin\",\"church\",\"circle\",\"clam\",\"class\",\"cloth\",\"clover\",\"club\",\"coach\",\"coal\",\"coast\",\"coat\",\"cobweb\",\"coil\",\"collar\",\"color\",\"committee\",\"company\",\"comparison\",\"competition\",\"condition\",\"connection\",\"control\",\"cook\",\"copper\",\"corn\",\"cough\",\"country\",\"cover\",\"cow\",\"cows\",\"crack\",\"cracker\",\"crate\",\"crayon\",\"cream\",\"creator\",\"creature\",\"credit\",\"crib\",\"crime\",\"crook\",\"crow\",\"crowd\",\"crown\",\"cub\",\"cup\",\"current\",\"curtain\",\"curve\",\"cushion\",\"dad\",\"daughter\",\"day\",\"death\",\"debt\",\"decision\",\"deer\",\"degree\",\"design\",\"desire\",\"desk\",\"destruction\",\"detail\",\"development\",\"digestion\",\"dime\",\"dinner\",\"dinosaurs\",\"direction\",\"dirt\",\"discovery\",\"discussion\",\"distance\",\"distribution\",\"division\",\"dock\",\"doctor\",\"dog\",\"dogs\",\"doll\",\"dolls\",\"donkey\",\"door\",\"downtown\",\"drain\",\"drawer\",\"dress\",\"drink\",\"driving\",\"drop\",\"duck\",\"ducks\",\"dust\",\"ear\",\"earth\",\"earthquake\",\"edge\",\"education\",\"effect\",\"egg\",\"eggnog\",\"eggs\",\"elbow\",\"end\",\"engine\",\"error\",\"event\",\"example\",\"exchange\",\"existence\",\"expansion\",\"experience\",\"expert\",\"eye\",\"eyes\",\"face\",\"fact\",\"fairies\",\"fall\",\"fang\",\"farm\",\"fear\",\"feeling\",\"field\",\"finger\",\"finger\",\"fire\",\"fireman\",\"fish\",\"flag\",\"flame\",\"flavor\",\"flesh\",\"flight\",\"flock\",\"floor\",\"flower\",\"flowers\",\"fly\",\"fog\",\"fold\",\"food\",\"foot\",\"force\",\"fork\",\"form\",\"fowl\",\"frame\",\"friction\",\"friend\",\"friends\",\"frog\",\"frogs\",\"front\",\"fruit\",\"fuel\",\"furniture\",\"gate\",\"geese\",\"ghost\",\"giants\",\"giraffe\",\"girl\",\"girls\",\"glass\",\"glove\",\"gold\",\"government\",\"governor\",\"grade\",\"grain\",\"grandfather\",\"grandmother\",\"grape\",\"grass\",\"grip\",\"ground\",\"group\",\"growth\",\"guide\",\"guitar\",\"gun\",\"hair\",\"haircut\",\"hall\",\"hammer\",\"hand\",\"hands\",\"harbor\",\"harmony\",\"hat\",\"hate\",\"head\",\"health\",\"heat\",\"hill\",\"history\",\"hobbies\",\"hole\",\"holiday\",\"home\",\"honey\",\"hook\",\"hope\",\"horn\",\"horse\",\"horses\",\"hose\",\"hospital\",\"hot\",\"hour\",\"house\",\"houses\",\"humor\",\"hydrant\",\"ice\",\"icicle\",\"idea\",\"impulse\",\"income\",\"increase\",\"industry\",\"ink\",\"insect\",\"instrument\",\"insurance\",\"interest\",\"invention\",\"iron\",\"island\",\"jail\",\"jam\",\"jar\",\"jeans\",\"jelly\",\"jellyfish\",\"jewel\",\"join\",\"judge\",\"juice\",\"jump\",\"kettle\",\"key\",\"kick\",\"kiss\",\"kittens\",\"kitty\",\"knee\",\"knife\",\"knot\",\"knowledge\",\"laborer\",\"lace\",\"ladybug\",\"lake\",\"lamp\",\"land\",\"language\",\"laugh\",\"leather\",\"leg\",\"legs\",\"letter\",\"letters\",\"lettuce\",\"level\",\"library\",\"limit\",\"line\",\"linen\",\"lip\",\"liquid\",\"loaf\",\"lock\",\"locket\",\"look\",\"loss\",\"love\",\"low\",\"lumber\",\"lunch\",\"lunchroom\",\"machine\",\"magic\",\"maid\",\"mailbox\",\"man\",\"marble\",\"mark\",\"market\",\"mask\",\"mass\",\"match\",\"meal\",\"measure\",\"meat\",\"meeting\",\"memory\",\"men\",\"metal\",\"mice\",\"middle\",\"milk\",\"mind\",\"mine\",\"minister\",\"mint\",\"minute\",\"mist\",\"mitten\",\"mom\",\"money\",\"monkey\",\"month\",\"moon\",\"morning\",\"mother\",\"motion\",\"mountain\",\"mouth\",\"move\",\"muscle\",\"name\",\"nation\",\"neck\",\"need\",\"needle\",\"nerve\",\"nest\",\"night\",\"noise\",\"north\",\"nose\",\"note\",\"notebook\",\"number\",\"nut\",\"oatmeal\",\"observation\",\"ocean\",\"offer\",\"office\",\"oil\",\"orange\",\"oranges\",\"order\",\"oven\",\"page\",\"pail\",\"pan\",\"pancake\",\"paper\",\"parcel\",\"part\",\"partner\",\"party\",\"passenger\",\"payment\",\"peace\",\"pear\",\"pen\",\"pencil\",\"person\",\"pest\",\"pet\",\"pets\",\"pickle\",\"picture\",\"pie\",\"pies\",\"pig\",\"pigs\",\"pin\",\"pipe\",\"pizzas\",\"place\",\"plane\",\"planes\",\"plant\",\"plantation\",\"plants\",\"plastic\",\"plate\",\"play\",\"playground\",\"pleasure\",\"plot\",\"plough\",\"pocket\",\"point\",\"poison\",\"pollution\",\"popcorn\",\"porter\",\"position\",\"pot\",\"potato\",\"powder\",\"power\",\"price\",\"produce\",\"profit\",\"property\",\"prose\",\"protest\",\"pull\",\"pump\",\"punishment\",\"purpose\",\"push\",\"quarter\",\"quartz\",\"queen\",\"question\",\"quicksand\",\"quiet\",\"quill\",\"quilt\",\"quince\",\"quiver\",\"rabbit\",\"rabbits\",\"rail\",\"railway\",\"rain\",\"rainstorm\",\"rake\",\"range\",\"rat\",\"rate\",\"ray\",\"reaction\",\"reading\",\"reason\",\"receipt\",\"recess\",\"record\",\"regret\",\"relation\",\"religion\",\"representative\",\"request\",\"respect\",\"rest\",\"reward\",\"rhythm\",\"rice\",\"riddle\",\"rifle\",\"ring\",\"rings\",\"river\",\"road\",\"robin\",\"rock\",\"rod\",\"roll\",\"roof\",\"room\",\"root\",\"rose\",\"route\",\"rub\",\"rule\",\"run\",\"sack\",\"sail\",\"salt\",\"sand\",\"scale\",\"scarecrow\",\"scarf\",\"scene\",\"scent\",\"school\",\"science\",\"scissors\",\"screw\",\"sea\",\"seashore\",\"seat\",\"secretary\",\"seed\",\"selection\",\"self\",\"sense\",\"servant\",\"shade\",\"shake\",\"shame\",\"shape\",\"sheep\",\"sheet\",\"shelf\",\"ship\",\"shirt\",\"shock\",\"shoe\",\"shoes\",\"shop\",\"show\",\"side\",\"sidewalk\",\"sign\",\"silk\",\"silver\",\"sink\",\"sister\",\"sisters\",\"size\",\"skate\",\"skin\",\"skirt\",\"sky\",\"slave\",\"sleep\",\"sleet\",\"slip\",\"slope\",\"smash\",\"smell\",\"smile\",\"smoke\",\"snail\",\"snails\",\"snake\",\"snakes\",\"sneeze\",\"snow\",\"soap\",\"society\",\"sock\",\"soda\",\"sofa\",\"son\",\"song\",\"songs\",\"sort\",\"sound\",\"soup\",\"space\",\"spade\",\"spark\",\"spiders\",\"sponge\",\"spoon\",\"spot\",\"spring\",\"spy\",\"square\",\"squirrel\",\"stage\",\"stamp\",\"star\",\"start\",\"statement\",\"station\",\"steam\",\"steel\",\"stem\",\"step\",\"stew\",\"stick\",\"sticks\",\"stitch\",\"stocking\",\"stomach\",\"stone\",\"stop\",\"store\",\"story\",\"stove\",\"stranger\",\"straw\",\"stream\",\"street\",\"stretch\",\"string\",\"structure\",\"substance\",\"sugar\",\"suggestion\",\"suit\",\"summer\",\"sun\",\"support\",\"surprise\",\"sweater\",\"swim\",\"swing\",\"system\",\"table\",\"tail\",\"talk\",\"tank\",\"taste\",\"tax\",\"teaching\",\"team\",\"teeth\",\"temper\",\"tendency\",\"tent\",\"territory\",\"test\",\"texture\",\"theory\",\"thing\",\"things\",\"thought\",\"thread\",\"thrill\",\"throat\",\"throne\",\"thumb\",\"thunder\",\"ticket\",\"tiger\",\"time\",\"tin\",\"title\",\"toad\",\"toe\",\"toes\",\"tomatoes\",\"tongue\",\"tooth\",\"toothbrush\",\"toothpaste\",\"top\",\"touch\",\"town\",\"toy\",\"toys\",\"trade\",\"trail\",\"train\",\"trains\",\"tramp\",\"transport\",\"tray\",\"treatment\",\"tree\",\"trees\",\"trick\",\"trip\",\"trouble\",\"trousers\",\"truck\",\"trucks\",\"tub\",\"turkey\",\"turn\",\"twig\",\"twist\",\"umbrella\",\"uncle\",\"underwear\",\"unit\",\"use\",\"vacation\",\"value\",\"van\",\"vase\",\"vegetable\",\"veil\",\"vein\",\"verse\",\"vessel\",\"vest\",\"view\",\"visitor\",\"voice\",\"volcano\",\"volleyball\",\"voyage\",\"walk\",\"wall\",\"war\",\"wash\",\"waste\",\"watch\",\"water\",\"wave\",\"waves\",\"wax\",\"way\",\"wealth\",\"weather\",\"week\",\"weight\",\"wheel\",\"whip\",\"whistle\",\"wilderness\",\"wind\",\"window\",\"wine\",\"wing\",\"winter\",\"wire\",\"wish\",\"woman\",\"women\",\"wood\",\"wool\",\"word\",\"work\",\"worm\",\"wound\",\"wren\",\"wrench\",\"wrist\",\"writer\",\"writing\",\"yak\",\"yam\",\"yard\",\"yarn\",\"year\",\"yoke\",\"zebra\",\"zephyr\",\"zinc\",\"zipper\",\"zoo\",\"accept\",\"add\",\"admire\",\"admit\",\"advise\",\"afford\",\"agree\",\"alert\",\"allow\",\"amuse\",\"analyse\",\"announce\",\"annoy\",\"answer\",\"apologise\",\"appear\",\"applaud\",\"appreciate\",\"approve\",\"argue\",\"arrange\",\"arrest\",\"arrive\",\"ask\",\"attach\",\"attack\",\"attempt\",\"attend\",\"attract\",\"avoid\",\"back\",\"bake\",\"balance\",\"ban\",\"bang\",\"bare\",\"bat\",\"bathe\",\"battle\",\"beam\",\"beg\",\"behave\",\"belong\",\"bleach\",\"bless\",\"blind\",\"blink\",\"blot\",\"blush\",\"boast\",\"boil\",\"bolt\",\"bomb\",\"book\",\"bore\",\"borrow\",\"bounce\",\"bow\",\"box\",\"brake\",\"branch\",\"breathe\",\"bruise\",\"brush\",\"bubble\",\"bump\",\"burn\",\"bury\",\"buzz\",\"calculate\",\"call\",\"camp\",\"care\",\"carry\",\"carve\",\"cause\",\"challenge\",\"change\",\"charge\",\"chase\",\"cheat\",\"check\",\"cheer\",\"chew\",\"choke\",\"chop\",\"claim\",\"clap\",\"clean\",\"clear\",\"clip\",\"close\",\"coach\",\"coil\",\"collect\",\"colour\",\"comb\",\"command\",\"communicate\",\"compare\",\"compete\",\"complain\",\"complete\",\"concentrate\",\"concern\",\"confess\",\"confuse\",\"connect\",\"consider\",\"consist\",\"contain\",\"continue\",\"copy\",\"correct\",\"cough\",\"count\",\"cover\",\"crack\",\"crash\",\"crawl\",\"cross\",\"crush\",\"cry\",\"cure\",\"curl\",\"curve\",\"cycle\",\"dam\",\"damage\",\"dance\",\"dare\",\"decay\",\"deceive\",\"decide\",\"decorate\",\"delay\",\"delight\",\"deliver\",\"depend\",\"describe\",\"desert\",\"deserve\",\"destroy\",\"detect\",\"develop\",\"disagree\",\"disappear\",\"disapprove\",\"disarm\",\"discover\",\"dislike\",\"divide\",\"double\",\"doubt\",\"drag\",\"drain\",\"dream\",\"dress\",\"drip\",\"drop\",\"drown\",\"drum\",\"dry\",\"dust\",\"earn\",\"educate\",\"embarrass\",\"employ\",\"empty\",\"encourage\",\"end\",\"enjoy\",\"enter\",\"entertain\",\"escape\",\"examine\",\"excite\",\"excuse\",\"exercise\",\"exist\",\"expand\",\"expect\",\"explain\",\"explode\",\"extend\",\"face\",\"fade\",\"fail\",\"fancy\",\"fasten\",\"fax\",\"fear\",\"fence\",\"fetch\",\"file\",\"fill\",\"film\",\"fire\",\"fit\",\"fix\",\"flap\",\"flash\",\"float\",\"flood\",\"flow\",\"flower\",\"fold\",\"follow\",\"fool\",\"force\",\"form\",\"found\",\"frame\",\"frighten\",\"fry\",\"gather\",\"gaze\",\"glow\",\"glue\",\"grab\",\"grate\",\"grease\",\"greet\",\"grin\",\"grip\",\"groan\",\"guarantee\",\"guard\",\"guess\",\"guide\",\"hammer\",\"hand\",\"handle\",\"hang\",\"happen\",\"harass\",\"harm\",\"hate\",\"haunt\",\"head\",\"heal\",\"heap\",\"heat\",\"help\",\"hook\",\"hop\",\"hope\",\"hover\",\"hug\",\"hum\",\"hunt\",\"hurry\",\"identify\",\"ignore\",\"imagine\",\"impress\",\"improve\",\"include\",\"increase\",\"influence\",\"inform\",\"inject\",\"injure\",\"instruct\",\"intend\",\"interest\",\"interfere\",\"interrupt\",\"introduce\",\"invent\",\"invite\",\"irritate\",\"itch\",\"jail\",\"jam\",\"jog\",\"join\",\"joke\",\"judge\",\"juggle\",\"jump\",\"kick\",\"kill\",\"kiss\",\"kneel\",\"knit\",\"knock\",\"knot\",\"label\",\"land\",\"last\",\"laugh\",\"launch\",\"learn\",\"level\",\"license\",\"lick\",\"lie\",\"lighten\",\"like\",\"list\",\"listen\",\"live\",\"load\",\"lock\",\"long\",\"look\",\"love\",\"man\",\"manage\",\"march\",\"mark\",\"marry\",\"match\",\"mate\",\"matter\",\"measure\",\"meddle\",\"melt\",\"memorise\",\"mend\",\"mess up\",\"milk\",\"mine\",\"miss\",\"mix\",\"moan\",\"moor\",\"mourn\",\"move\",\"muddle\",\"mug\",\"multiply\",\"murder\",\"nail\",\"name\",\"need\",\"nest\",\"nod\",\"note\",\"notice\",\"number\",\"obey\",\"object\",\"observe\",\"obtain\",\"occur\",\"offend\",\"offer\",\"open\",\"order\",\"overflow\",\"owe\",\"own\",\"pack\",\"paddle\",\"paint\",\"park\",\"part\",\"pass\",\"paste\",\"pat\",\"pause\",\"peck\",\"pedal\",\"peel\",\"peep\",\"perform\",\"permit\",\"phone\",\"pick\",\"pinch\",\"pine\",\"place\",\"plan\",\"plant\",\"play\",\"please\",\"plug\",\"point\",\"poke\",\"polish\",\"pop\",\"possess\",\"post\",\"pour\",\"practise\",\"pray\",\"preach\",\"precede\",\"prefer\",\"prepare\",\"present\",\"preserve\",\"press\",\"pretend\",\"prevent\",\"prick\",\"print\",\"produce\",\"program\",\"promise\",\"protect\",\"provide\",\"pull\",\"pump\",\"punch\",\"puncture\",\"punish\",\"push\",\"question\",\"queue\",\"race\",\"radiate\",\"rain\",\"raise\",\"reach\",\"realise\",\"receive\",\"recognise\",\"record\",\"reduce\",\"reflect\",\"refuse\",\"regret\",\"reign\",\"reject\",\"rejoice\",\"relax\",\"release\",\"rely\",\"remain\",\"remember\",\"remind\",\"remove\",\"repair\",\"repeat\",\"replace\",\"reply\",\"report\",\"reproduce\",\"request\",\"rescue\",\"retire\",\"return\",\"rhyme\",\"rinse\",\"risk\",\"rob\",\"rock\",\"roll\",\"rot\",\"rub\",\"ruin\",\"rule\",\"rush\",\"sack\",\"sail\",\"satisfy\",\"save\",\"saw\",\"scare\",\"scatter\",\"scold\",\"scorch\",\"scrape\",\"scratch\",\"scream\",\"screw\",\"scribble\",\"scrub\",\"seal\",\"search\",\"separate\",\"serve\",\"settle\",\"shade\",\"share\",\"shave\",\"shelter\",\"shiver\",\"shock\",\"shop\",\"shrug\",\"sigh\",\"sign\",\"signal\",\"sin\",\"sip\",\"ski\",\"skip\",\"slap\",\"slip\",\"slow\",\"smash\",\"smell\",\"smile\",\"smoke\",\"snatch\",\"sneeze\",\"sniff\",\"snore\",\"snow\",\"soak\",\"soothe\",\"sound\",\"spare\",\"spark\",\"sparkle\",\"spell\",\"spill\",\"spoil\",\"spot\",\"spray\",\"sprout\",\"squash\",\"squeak\",\"squeal\",\"squeeze\",\"stain\",\"stamp\",\"stare\",\"start\",\"stay\",\"steer\",\"step\",\"stir\",\"stitch\",\"stop\",\"store\",\"strap\",\"strengthen\",\"stretch\",\"strip\",\"stroke\",\"stuff\",\"subtract\",\"succeed\",\"suck\",\"suffer\",\"suggest\",\"suit\",\"supply\",\"support\",\"suppose\",\"surprise\",\"surround\",\"suspect\",\"suspend\",\"switch\",\"talk\",\"tame\",\"tap\",\"taste\",\"tease\",\"telephone\",\"tempt\",\"terrify\",\"test\",\"thank\",\"thaw\",\"tick\",\"tickle\",\"tie\",\"time\",\"tip\",\"tire\",\"touch\",\"tour\",\"tow\",\"trace\",\"trade\",\"train\",\"transport\",\"trap\",\"travel\",\"treat\",\"tremble\",\"trick\",\"trip\",\"trot\",\"trouble\",\"trust\",\"try\",\"tug\",\"tumble\",\"turn\",\"twist\",\"type\",\"undress\",\"unfasten\",\"unite\",\"unlock\",\"unpack\",\"untidy\",\"use\",\"vanish\",\"visit\",\"wail\",\"wait\",\"walk\",\"wander\",\"want\",\"warm\",\"warn\",\"wash\",\"waste\",\"watch\",\"water\",\"wave\",\"weigh\",\"welcome\",\"whine\",\"whip\",\"whirl\",\"whisper\",\"whistle\",\"wink\",\"wipe\",\"wish\",\"wobble\",\"wonder\",\"work\",\"worry\",\"wrap\",\"wreck\",\"wrestle\",\"wriggle\",\"x-ray\",\"yawn\",\"yell\",\"zip\",\"zoom\"]"
      ],
      "metadata": {
        "id": "BQYMTbLrAIV-"
      },
      "execution_count": 4,
      "outputs": []
    },
    {
      "cell_type": "code",
      "source": [
        "import random\n",
        "import string\n",
        "def get_correct_word(words):\n",
        "  word = random.choice(words) # choosing a random word from the list \"words\"\n",
        "\n",
        "  while \"-\" in word or \" \" in word:  # loop to choose a word that doesn't contain \"-\" or \" \" blank spaces.\n",
        "    word = random.choice(words)\n",
        "\n",
        "  return word.upper()\n",
        "\n",
        "\n",
        "def hangman():\n",
        "  word = get_correct_word(words) #get that random word\n",
        "  word_letters = set(word) # letters in the word or converted that words into separate letters\n",
        "  alphabet = set(string.ascii_uppercase)   #got all the UpperCase alphabets\n",
        "  used_letters = set() # what the user has guessed\n",
        "  lives = 8\n",
        "\n",
        "  while len(word_letters) > 0 and lives > 0:\n",
        "\n",
        "    print(\"Letters used: \", \" \".join(used_letters))\n",
        "    print(\"Lives Remaining: \", lives)\n",
        "\n",
        "    word_list = [letter if letter in used_letters else \"-\" for letter in word]\n",
        "    print(\"Current word: \", \" \".join(word_list))\n",
        "\n",
        "    # taking input with some logic applied to it after.\n",
        "    user_input_letter = input(\"\\nEnter a letter: \").upper()\n",
        "    if user_input_letter in alphabet - used_letters: # if the user input letter is in the alphabets list (after deducting used letters in it) add that letter into the used letters set\n",
        "      used_letters.add(user_input_letter)\n",
        "\n",
        "      if user_input_letter in word_letters:  # if that letter is also in the words remove that letter from the word.\n",
        "        word_letters.remove(user_input_letter)\n",
        "      else:\n",
        "        lives -= 1\n",
        "\n",
        "\n",
        "    elif user_input_letter in used_letters:\n",
        "      print(\"\\nYou have already used that character. Please try again.\")\n",
        "\n",
        "    else:\n",
        "      print(\"\\nInvalid character. Please try again.\")\n",
        "\n",
        "\n",
        "  if lives == 0:\n",
        "    print(f\"You died the word was: {word}\")\n",
        "  else:\n",
        "    print(f\"You guessed the word: {word}\")\n",
        "\n",
        "hangman()"
      ],
      "metadata": {
        "colab": {
          "base_uri": "https://localhost:8080/"
        },
        "id": "-DCgr0vwDjis",
        "outputId": "d2d0c96d-bff8-4079-89c8-243d2de546f4"
      },
      "execution_count": 11,
      "outputs": [
        {
          "output_type": "stream",
          "name": "stdout",
          "text": [
            "Letters used:  \n",
            "Lives Remaining:  8\n",
            "Current word:  - - - - -\n",
            "\n",
            "Enter a letter: r\n",
            "Letters used:  R\n",
            "Lives Remaining:  8\n",
            "Current word:  - R - - -\n",
            "\n",
            "Enter a letter: e\n",
            "Letters used:  E R\n",
            "Lives Remaining:  8\n",
            "Current word:  - R E E -\n",
            "\n",
            "Enter a letter: t\n",
            "Letters used:  E R T\n",
            "Lives Remaining:  7\n",
            "Current word:  - R E E -\n",
            "\n",
            "Enter a letter: b\n",
            "Letters used:  E R T B\n",
            "Lives Remaining:  6\n",
            "Current word:  - R E E -\n",
            "\n",
            "Enter a letter: d\n",
            "Letters used:  T D E R B\n",
            "Lives Remaining:  5\n",
            "Current word:  - R E E -\n",
            "\n",
            "Enter a letter: p\n",
            "Letters used:  T D P E R B\n",
            "Lives Remaining:  4\n",
            "Current word:  - R E E -\n",
            "\n",
            "Enter a letter: c\n",
            "Letters used:  T D P E R C B\n",
            "Lives Remaining:  3\n",
            "Current word:  - R E E -\n",
            "\n",
            "Enter a letter: g\n",
            "Letters used:  T D P E G R C B\n",
            "Lives Remaining:  3\n",
            "Current word:  G R E E -\n",
            "\n",
            "Enter a letter: d\n",
            "\n",
            "You have already used that character. Please try again.\n",
            "Letters used:  T D P E G R C B\n",
            "Lives Remaining:  3\n",
            "Current word:  G R E E -\n",
            "\n",
            "Enter a letter: s\n",
            "Letters used:  T D P S E G R C B\n",
            "Lives Remaining:  2\n",
            "Current word:  G R E E -\n",
            "\n",
            "Enter a letter: f\n",
            "Letters used:  T D P S E G R C F B\n",
            "Lives Remaining:  1\n",
            "Current word:  G R E E -\n",
            "\n",
            "Enter a letter: k\n",
            "You died the word was: GREEN\n"
          ]
        }
      ]
    },
    {
      "cell_type": "markdown",
      "source": [
        "# **Project 6: Countdown Timer Python Project**"
      ],
      "metadata": {
        "id": "-YozYuEDR3rL"
      }
    },
    {
      "cell_type": "code",
      "source": [
        "import time\n",
        "from IPython.display import clear_output  # Import clear_output\n",
        "\n",
        "def countdown(t):\n",
        "    while t:\n",
        "        mins, secs = divmod(t, 60)\n",
        "        timer = '{:02d}:{:02d}'.format(mins, secs)\n",
        "        clear_output(wait=True)\n",
        "        print(timer)\n",
        "        time.sleep(1)\n",
        "        t -= 1\n",
        "    print(\"Timer Complete\")\n",
        "\n",
        "countdown(10)"
      ],
      "metadata": {
        "colab": {
          "base_uri": "https://localhost:8080/"
        },
        "id": "pHwTGjH_R_L0",
        "outputId": "0a75d3e7-e781-4aba-c48f-7234f13a1f9f"
      },
      "execution_count": 17,
      "outputs": [
        {
          "output_type": "stream",
          "name": "stdout",
          "text": [
            "00:01\n",
            "Timer Complete\n"
          ]
        }
      ]
    },
    {
      "cell_type": "markdown",
      "source": [
        "# **Project 7: Password Generator Python Project**"
      ],
      "metadata": {
        "id": "GGji62oyZ0Pb"
      }
    },
    {
      "cell_type": "code",
      "source": [
        "def password_genertor():\n",
        "  characters_to_select = 'abcdefghijklmnopqrstuvwxyzABCDEFGHIJKLMNOPQRSTUVWXYZ1234567890!@#$%^&*()'\n",
        "\n",
        "  number_of_passwords = int(input(\"Enter, how many passwords you want: \"))\n",
        "  each_password_length =int(input(\"Enter the length of each password: \"))\n",
        "\n",
        "  for _ in range(number_of_passwords):\n",
        "    password = ''\n",
        "    for _ in range(each_password_length):\n",
        "      password += random.choice(characters_to_select)\n",
        "    print(password)\n",
        "\n",
        "password_genertor()\n"
      ],
      "metadata": {
        "colab": {
          "base_uri": "https://localhost:8080/"
        },
        "id": "s_MUe798Z4YD",
        "outputId": "72dee060-038b-4dd8-fc08-368dc4235064"
      },
      "execution_count": 18,
      "outputs": [
        {
          "output_type": "stream",
          "name": "stdout",
          "text": [
            "Enter, how many passwords you want: 2\n",
            "Enter the length of each password: 10\n",
            "X#G%N*TbKX\n",
            "HE9ibFEN&u\n"
          ]
        }
      ]
    },
    {
      "cell_type": "markdown",
      "source": [
        "# **Project 8: Create a Python Streamlit BMI Calculator Web App in Just 6 Minutes**"
      ],
      "metadata": {
        "id": "7KKpi01AcVtr"
      }
    },
    {
      "cell_type": "code",
      "source": [],
      "metadata": {
        "id": "QkowSl6bcan_"
      },
      "execution_count": null,
      "outputs": []
    }
  ]
}