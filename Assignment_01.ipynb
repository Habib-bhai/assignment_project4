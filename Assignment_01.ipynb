{
  "nbformat": 4,
  "nbformat_minor": 0,
  "metadata": {
    "colab": {
      "provenance": [],
      "authorship_tag": "ABX9TyNrOW/DVHDQn5pTu4q452bb",
      "include_colab_link": true
    },
    "kernelspec": {
      "name": "python3",
      "display_name": "Python 3"
    },
    "language_info": {
      "name": "python"
    }
  },
  "cells": [
    {
      "cell_type": "markdown",
      "metadata": {
        "id": "view-in-github",
        "colab_type": "text"
      },
      "source": [
        "<a href=\"https://colab.research.google.com/github/Habib-bhai/assignment_project4/blob/main/Assignment_01.ipynb\" target=\"_parent\"><img src=\"https://colab.research.google.com/assets/colab-badge.svg\" alt=\"Open In Colab\"/></a>"
      ]
    },
    {
      "cell_type": "markdown",
      "source": [
        "# ***01_basics***"
      ],
      "metadata": {
        "id": "ZTVnUY5ZsAqY"
      }
    },
    {
      "cell_type": "markdown",
      "source": [
        "# **00 joke_bot**"
      ],
      "metadata": {
        "id": "t-RlNytrrVij"
      }
    },
    {
      "cell_type": "code",
      "source": [
        "PROMPT = \"What you want?\"\n",
        "JOKE = \"Panaversity GPT - Sophia is heading out to the grocery store. A programmer tells her: get a liter of milk, and if they have eggs, get 12. Sophia returns with 13 liters of milk. The programmer asks why and Sophia replies: 'because they had eggs\"\n",
        "SORRY = \"SORRY, I ONLY TELL JOKES\"\n",
        "def main():\n",
        "  user_input = input(PROMPT).lower()\n",
        "  if user_input == \"joke\":\n",
        "    print(JOKE)\n",
        "  else:\n",
        "    print(SORRY)\n",
        "main()\n",
        "\n"
      ],
      "metadata": {
        "colab": {
          "base_uri": "https://localhost:8080/"
        },
        "id": "ksS77xMsrX8g",
        "outputId": "a88e03c9-b4ac-43d2-d2ed-7f7ea454aad6"
      },
      "execution_count": 4,
      "outputs": [
        {
          "output_type": "stream",
          "name": "stdout",
          "text": [
            "What you want?joKe\n",
            "Panaversity GPT - Sophia is heading out to the grocery store. A programmer tells her: get a liter of milk, and if they have eggs, get 12. Sophia returns with 13 liters of milk. The programmer asks why and Sophia replies: 'because they had eggs\n"
          ]
        }
      ]
    },
    {
      "cell_type": "markdown",
      "source": [
        "# **01_double_it**"
      ],
      "metadata": {
        "id": "86sPSlUCsHw8"
      }
    },
    {
      "cell_type": "code",
      "source": [
        "def double_it_until_100():\n",
        "  user_input = int(input(\"Enter a number to double it: \"))\n",
        "  while user_input <= 100:\n",
        "    user_input *= 2\n",
        "    print(user_input)\n",
        "\n",
        "double_it_until_100()"
      ],
      "metadata": {
        "colab": {
          "base_uri": "https://localhost:8080/"
        },
        "id": "4cbMowX_sMVB",
        "outputId": "9742452b-965a-404b-e509-7a0913abcff5"
      },
      "execution_count": 8,
      "outputs": [
        {
          "output_type": "stream",
          "name": "stdout",
          "text": [
            "Enter a number to double it: 5\n",
            "10\n",
            "20\n",
            "40\n",
            "80\n",
            "160\n"
          ]
        }
      ]
    },
    {
      "cell_type": "markdown",
      "source": [
        "# **02 liftoff**"
      ],
      "metadata": {
        "id": "9iF_R1gxvU3I"
      }
    },
    {
      "cell_type": "code",
      "source": [
        "import time\n",
        "def liftoff(x:int):\n",
        "  for countdown in range(x, 0, -1):\n",
        "    print(countdown)\n",
        "    time.sleep(1)\n",
        "  print(\"LiftOff 🚀\")\n",
        "\n",
        "liftoff(10)\n"
      ],
      "metadata": {
        "colab": {
          "base_uri": "https://localhost:8080/"
        },
        "id": "Ud5v3oMLvZJO",
        "outputId": "b1f4e7ed-aff5-48bd-8a68-d00db90ab079"
      },
      "execution_count": 10,
      "outputs": [
        {
          "output_type": "stream",
          "name": "stdout",
          "text": [
            "10\n",
            "9\n",
            "8\n",
            "7\n",
            "6\n",
            "5\n",
            "4\n",
            "3\n",
            "2\n",
            "1\n",
            "LiftOff 🚀\n"
          ]
        }
      ]
    },
    {
      "cell_type": "markdown",
      "source": [
        "# **03 guess_my_number**"
      ],
      "metadata": {
        "id": "M-gR2dauv2tF"
      }
    },
    {
      "cell_type": "code",
      "source": [
        "import random\n",
        "def guess_my_number():\n",
        "  user_input = 0\n",
        "  random_number = random.randint(1, 100)\n",
        "\n",
        "  while user_input != random_number:\n",
        "    user_input = int(input(\"Enter a number between 1 and 100: \"))\n",
        "    if user_input < random_number:\n",
        "      print(f\"{ user_input} Too low, try again\")\n",
        "    else:\n",
        "      print(f\"{ user_input} Too high, try again\")\n",
        "\n",
        "  print(f\"{user_input} Congrats, you guessed it, {random_number}\")\n",
        "\n",
        "\n",
        "guess_my_number()\n"
      ],
      "metadata": {
        "colab": {
          "base_uri": "https://localhost:8080/"
        },
        "id": "cT40lHpNv9AJ",
        "outputId": "af13e1a4-d783-4ccb-f7a3-fc743b95bc46"
      },
      "execution_count": 1,
      "outputs": [
        {
          "output_type": "stream",
          "name": "stdout",
          "text": [
            "Enter a number between 1 and 100: 50\n",
            "50 Too low, try again\n",
            "Enter a number between 1 and 100: 80\n",
            "80 Too low, try again\n",
            "Enter a number between 1 and 100: 90\n",
            "90 Too low, try again\n",
            "Enter a number between 1 and 100: 95\n",
            "95 Too low, try again\n",
            "Enter a number between 1 and 100: 99\n",
            "99 Too high, try again\n",
            "Enter a number between 1 and 100: 98\n",
            "98 Too high, try again\n",
            "98 Congrats, you guessed it, 98\n"
          ]
        }
      ]
    },
    {
      "cell_type": "markdown",
      "source": [
        "# **04_random_numbers**"
      ],
      "metadata": {
        "id": "AVMEiLLjxGF9"
      }
    },
    {
      "cell_type": "code",
      "source": [
        "import random\n",
        "\n",
        "def main():\n",
        "  for _ in range(10):\n",
        "    random_number = random.randint(1, 100)\n",
        "    print(random_number, end=\" \")\n",
        "\n",
        "main()"
      ],
      "metadata": {
        "colab": {
          "base_uri": "https://localhost:8080/"
        },
        "id": "blwRpmMBxKDx",
        "outputId": "246051d3-c2d8-4db8-db96-6059b76a9b2f"
      },
      "execution_count": 12,
      "outputs": [
        {
          "output_type": "stream",
          "name": "stdout",
          "text": [
            "91 45 100 32 92 60 78 79 88 13 "
          ]
        }
      ]
    },
    {
      "cell_type": "markdown",
      "source": [
        "# ***02_intermediate***"
      ],
      "metadata": {
        "id": "MB5smgDsxtcI"
      }
    },
    {
      "cell_type": "markdown",
      "source": [
        "# **Control Flow for Console**"
      ],
      "metadata": {
        "id": "kdd6T1G7xviH"
      }
    },
    {
      "cell_type": "code",
      "source": [
        "# HIGH LOW GAME.\n",
        "import random\n",
        "\n",
        "\n",
        "\n",
        "def main():\n",
        "\n",
        "  total_rounds = 5\n",
        "  player_points = 0\n",
        "  computer_points = 0\n",
        "  for round in range(total_rounds):\n",
        "\n",
        "    users_number = random.randint(1, 100)\n",
        "    computers_number = random.randint(1,100)\n",
        "\n",
        "    print(\"-\" * 30)\n",
        "    print(\"\\nWELCOME TO HIGH LOW GAME.\")\n",
        "\n",
        "    print(\"_\" * 30)\n",
        "\n",
        "    print(f\"Round {round}\\n\")\n",
        "    print(f\"Your points are {player_points}\")\n",
        "    print(f\"Computer points are {computer_points}\\n\")\n",
        "\n",
        "    print(f\"your number is {users_number}\\n\\n\")\n",
        "\n",
        "    print(\"Do you think your number is Higher, Lower Or Equal (H-> high, L-> low, E -> Equal ): \")\n",
        "    user_input = input().lower()\n",
        "\n",
        "    if user_input == 'h' and users_number > computers_number:\n",
        "      print(f\"You were right! The computer's number was, LOWER, {computers_number} \\n\")\n",
        "      player_points += 1\n",
        "\n",
        "    elif user_input == 'l' and users_number < computers_number:\n",
        "      print(f\"You were right! The computer's number was, HIGHER, {computers_number}\\n\")\n",
        "      player_points += 1\n",
        "\n",
        "    elif user_input == 'e' and users_number == computers_number:\n",
        "      print(f\"You were right! The computer's number was, Equal {computers_number} 'computer got point'\\n\")\n",
        "      computer_points += 1\n",
        "\n",
        "    else:\n",
        "      print(f\"You were wrong!, computer's number was {computers_number}\")\n",
        "      computer_points += 1\n",
        "\n",
        "  if player_points > computer_points:\n",
        "    print(\"YOU WON!\")\n",
        "  elif player_points == computer_points:\n",
        "    print(\"TIE\")\n",
        "  else:\n",
        "    print(\"Computer won!\")\n",
        "\n",
        "\n",
        "main()\n"
      ],
      "metadata": {
        "colab": {
          "base_uri": "https://localhost:8080/"
        },
        "id": "cEGMmigjxzhB",
        "outputId": "96999290-ae01-47d4-fb13-98ce0af29806"
      },
      "execution_count": 20,
      "outputs": [
        {
          "output_type": "stream",
          "name": "stdout",
          "text": [
            "------------------------------\n",
            "\n",
            "WELCOME TO HIGH LOW GAME.\n",
            "______________________________\n",
            "Round 0\n",
            "\n",
            "Your points are 0\n",
            "Computer points are 0\n",
            "\n",
            "your number is 59\n",
            "\n",
            "\n",
            "Do you think your number is Higher, Lower Or Equal (H-> high, L-> low, E -> Equal ): \n",
            "h\n",
            "You were right! The computer's number was, LOWER, 38 \n",
            "\n",
            "------------------------------\n",
            "\n",
            "WELCOME TO HIGH LOW GAME.\n",
            "______________________________\n",
            "Round 1\n",
            "\n",
            "Your points are 1\n",
            "Computer points are 0\n",
            "\n",
            "your number is 71\n",
            "\n",
            "\n",
            "Do you think your number is Higher, Lower Or Equal (H-> high, L-> low, E -> Equal ): \n",
            "l\n",
            "You were wrong!, computer's number was 51\n",
            "------------------------------\n",
            "\n",
            "WELCOME TO HIGH LOW GAME.\n",
            "______________________________\n",
            "Round 2\n",
            "\n",
            "Your points are 1\n",
            "Computer points are 1\n",
            "\n",
            "your number is 64\n",
            "\n",
            "\n",
            "Do you think your number is Higher, Lower Or Equal (H-> high, L-> low, E -> Equal ): \n",
            "h\n",
            "You were wrong!, computer's number was 97\n",
            "------------------------------\n",
            "\n",
            "WELCOME TO HIGH LOW GAME.\n",
            "______________________________\n",
            "Round 3\n",
            "\n",
            "Your points are 1\n",
            "Computer points are 2\n",
            "\n",
            "your number is 39\n",
            "\n",
            "\n",
            "Do you think your number is Higher, Lower Or Equal (H-> high, L-> low, E -> Equal ): \n",
            "l\n",
            "You were wrong!, computer's number was 33\n",
            "------------------------------\n",
            "\n",
            "WELCOME TO HIGH LOW GAME.\n",
            "______________________________\n",
            "Round 4\n",
            "\n",
            "Your points are 1\n",
            "Computer points are 3\n",
            "\n",
            "your number is 75\n",
            "\n",
            "\n",
            "Do you think your number is Higher, Lower Or Equal (H-> high, L-> low, E -> Equal ): \n",
            "h\n",
            "You were wrong!, computer's number was 96\n",
            "Computer won!\n"
          ]
        }
      ]
    },
    {
      "cell_type": "markdown",
      "source": [
        "# **Intro to Python**"
      ],
      "metadata": {
        "id": "FJHRq-_N5lDt"
      }
    },
    {
      "cell_type": "code",
      "source": [
        "# WEIGHT ON DIFFERENT PLANETS\n",
        "\n",
        "# weight in percentages on these planets, as compared to earth\n",
        "\n",
        "MERCURY =  37.6\n",
        "\n",
        "VENUS = 88.9\n",
        "\n",
        "MARS=  37.8\n",
        "\n",
        "JUPITER =  236.0\n",
        "\n",
        "SATURN =  108.1\n",
        "\n",
        "URANUS =  81.5\n",
        "\n",
        "NEPTUNE =  114.0\n",
        "\n",
        "\n",
        "def main():\n",
        "  user_input = float(input(\"Enter a weight on Earth: \"))\n",
        "\n",
        "  print(\"Select planet\\n\\n\")\n",
        "  print( \"-\" * 50)\n",
        "\n",
        "  print(\"A. Mercury\\n\")\n",
        "  print(\"B. Venus\\n\")\n",
        "  print(\"C. Mars\\n\")\n",
        "  print(\"D. Jupiter\\n\")\n",
        "  print(\"E. Saturn\\n\")\n",
        "  print(\"F. Uranus\\n\")\n",
        "  print(\"g. Neptune\\n\")\n",
        "  choise = input(\"Your choice: \").lower()\n",
        "\n",
        "  match choise:\n",
        "    case 'a':\n",
        "      weight = user_input * (MERCURY / 100)\n",
        "      print(f\"Your weight on Mercury is {round(weight,2)}\")\n",
        "    case 'b':\n",
        "      weight = user_input * (VENUS / 100)\n",
        "      print(f\"Your weight on Venus is {round(weight,2)}\")\n",
        "    case 'c':\n",
        "      weight = user_input * (MARS / 100)\n",
        "      print(f\"Your weight on MARS is {round(weight,2)}\")\n",
        "\n",
        "    case 'd':\n",
        "      weight = user_input * (JUPITER / 100)\n",
        "      print(f\"Your weight on Jupiter is {round(weight,2)}\")\n",
        "    case 'e':\n",
        "      weight = user_input * (SATURN / 100)\n",
        "      print(f\"Your weight on Saturn is {round(weight,2)}\")\n",
        "    case 'f':\n",
        "      weight = user_input * (URANUS / 100)\n",
        "      print(f\"Your weight on Uranus is {round(weight,2)}\")\n",
        "    case 'g':\n",
        "      weight = user_input * (NEPTUNE / 100)\n",
        "      print(f\"Your weight on Neptune is {round(weight,2)}\")\n",
        "    case _:\n",
        "      print(\"Invalid input\")\n",
        "\n",
        "main()\n",
        "\n"
      ],
      "metadata": {
        "colab": {
          "base_uri": "https://localhost:8080/"
        },
        "id": "_sLe2r3D5q7e",
        "outputId": "a689f500-49ed-48a7-8c9e-ccc6fa82448c"
      },
      "execution_count": 28,
      "outputs": [
        {
          "output_type": "stream",
          "name": "stdout",
          "text": [
            "Enter a weight on Earth: 80\n",
            "Select planet\n",
            "\n",
            "\n",
            "--------------------------------------------------\n",
            "A. Mercury\n",
            "\n",
            "B. Venus\n",
            "\n",
            "C. Mars\n",
            "\n",
            "D. Jupiter\n",
            "\n",
            "E. Saturn\n",
            "\n",
            "F. Uranus\n",
            "\n",
            "g. Neptune\n",
            "\n",
            "Your choice: c\n",
            "Your weight on MARS is 30.24\n"
          ]
        }
      ]
    },
    {
      "cell_type": "markdown",
      "source": [
        "# **Lists and Dicts**"
      ],
      "metadata": {
        "id": "TSQVn_uN-IzA"
      }
    },
    {
      "cell_type": "code",
      "source": [
        "# Problem #1: List Practice\n",
        "\n",
        "\n",
        "def list_practice():\n",
        "  fruit_list = ['apple','banana','orange','grape','pineapple']\n",
        "\n",
        "  print(len(fruit_list)) #length of the list\n",
        "\n",
        "  # adding 'mango' at last\n",
        "  fruit_list.append(\"mango\")\n",
        "\n",
        "  print(fruit_list)\n",
        "\n",
        "list_practice()"
      ],
      "metadata": {
        "colab": {
          "base_uri": "https://localhost:8080/"
        },
        "id": "3_IGm1nY-Mtt",
        "outputId": "288781b8-2fe2-43d2-9b20-f93685452af3"
      },
      "execution_count": 3,
      "outputs": [
        {
          "output_type": "stream",
          "name": "stdout",
          "text": [
            "5\n",
            "['apple', 'banana', 'orange', 'grape', 'pineapple', 'mango']\n"
          ]
        }
      ]
    },
    {
      "cell_type": "code",
      "source": [
        "# Problem #2: Index Game\n",
        "\n",
        "def accessing_elements(lst: list, index: int):\n",
        "  if index >= 0 and index < len(lst):\n",
        "    return lst[index]\n",
        "  else:\n",
        "    return \"Inappropriate index\"\n",
        "\n",
        "\n",
        "def slicing(lst: list, start: int, end: int):\n",
        "  if start < 0 or end > len(lst) or start > end:\n",
        "    return \"Inappropriate slicing\"\n",
        "  return lst[start:end]\n",
        "\n",
        "\n",
        "\n",
        "\n",
        "def list_manipulation():\n",
        "  lst = [\"hello\", 19 , \"world\", \"gemini\", 2006]\n",
        "\n",
        "  print(accessing_elements(lst, 0))\n",
        "\n",
        "  # slicing list\n",
        "  print(slicing(lst, 0, 3))\n",
        "\n",
        "list_manipulation()"
      ],
      "metadata": {
        "colab": {
          "base_uri": "https://localhost:8080/"
        },
        "id": "_0UEDsaMvvnv",
        "outputId": "97f7f753-9865-45a5-dce5-5bd5c0c395f4"
      },
      "execution_count": 5,
      "outputs": [
        {
          "output_type": "stream",
          "name": "stdout",
          "text": [
            "hello\n",
            "['hello', 19, 'world']\n"
          ]
        }
      ]
    },
    {
      "cell_type": "code",
      "source": [
        "def accessing_elements(lst: list):\n",
        "  print(lst)\n",
        "  index = int(input(\"Enter index of element you want: \"))\n",
        "  if index >= 0 and index < len(lst):\n",
        "    return lst[index]\n",
        "  else:\n",
        "    return \"Inappropriate index\"\n",
        "\n",
        "\n",
        "\n",
        "def slicing(lst: list):\n",
        "  print(lst)\n",
        "  start = int(input(\"Enter start index: \"))\n",
        "  end = int(input(\"Enter end index: \"))\n",
        "\n",
        "  if start < 0 or end > len(lst) or start > end:\n",
        "    return \"Inappropriate slicing\"\n",
        "  return lst[start:end]\n",
        "\n",
        "\n",
        "\n",
        "def modify_list(lst: list):\n",
        "  print(lst)\n",
        "\n",
        "  print(\"Select Operation\\n\")\n",
        "  print(\"1. Add element one element (at last)\")\n",
        "  print(\"-\" * 50)\n",
        "  print(\"2. Add element multiple elements (at last)\")\n",
        "  print(\"-\" * 50)\n",
        "  print(\"3. Insert element at arbitrary position\")\n",
        "  print(\"-\" * 50)\n",
        "  print(\"4. Remove element (from last)\")\n",
        "  print(\"-\" * 50)\n",
        "  print(\"5. Remove element of your choice\")\n",
        "  print(\"-\" * 50)\n",
        "  print(\"6. Replace element with your choice\")\n",
        "  print(\"-\" * 50)\n",
        "  print(\"7. Sort in ascending order\")\n",
        "  print(\"-\" * 50)\n",
        "  print(\"8. Sort in descending (reveresed) order\")\n",
        "  print(\"-\" * 50)\n",
        "\n",
        "  user_choice = int(input(\"Enter your choice: \"))\n",
        "  match user_choice:\n",
        "\n",
        "    case 1:\n",
        "      element = input(\"Enter element to add: \")\n",
        "      lst.append(element)\n",
        "      print( \"UPDATED =====>\",lst ) #updated list\n",
        "\n",
        "    case 2:\n",
        "      element = input(\"Enter element to add separate by ',': \")\n",
        "      elements = element.split(',')\n",
        "      lst.extend(element)\n",
        "      print( \"UPDATED =====>\",lst ) #updated list\n",
        "\n",
        "    case 3:\n",
        "      index = int(input(\"Give your INDEX choice (Note: index starts from 0): \"))\n",
        "      element = input(\"Enter value to add : \")\n",
        "      lst[index] = element\n",
        "      print( \"UPDATED =====>\",lst ) #updated list\n",
        "\n",
        "    case 4:\n",
        "      removed = lst.pop()\n",
        "      print( \"REMOVED =====>\",removed ) #removed element\n",
        "      print( \"UPDATED =====>\",lst ) #updated list\n",
        "\n",
        "    case 5:\n",
        "      element = input(\"Enter element you want to  remove: \")\n",
        "      lst.remove(element)\n",
        "      print( \"UPDATED =====>\",lst ) #updated list\n",
        "\n",
        "    case 6:\n",
        "      index = int(input(\"Give index of element your wanna replace with your value: \"))\n",
        "      value = input(\"Give the new value for that index: \")\n",
        "      lst[index] = value\n",
        "      print( \"UPDATED =====>\",lst ) #updated list\n",
        "\n",
        "    case 7:\n",
        "      lst.sort()\n",
        "      print( \"sorted =====>\",lst ) #updated list\n",
        "    case 8:\n",
        "      lst.reverse()\n",
        "      print( \"Reversed =====>\",lst ) #updated list\n",
        "\n",
        "\n",
        "def game_with_list():\n",
        "  lst = [20, 12, 19, 33, 2006, 303]\n",
        "\n",
        "  print(\"1. access\")\n",
        "  print(\"2. modify\")\n",
        "  print(\"3. slice\")\n",
        "  user_choice = int(input(\"Select operation (just enter its number): \"))\n",
        "\n",
        "  if user_choice == 1:\n",
        "    print(accessing_elements(lst))\n",
        "\n",
        "  elif user_choice == 2:\n",
        "    modify_list(lst)\n",
        "\n",
        "  elif user_choice == 3:\n",
        "    print(slicing(lst))\n",
        "\n",
        "game_with_list()\n"
      ],
      "metadata": {
        "colab": {
          "base_uri": "https://localhost:8080/",
          "height": 373
        },
        "id": "HInunK7UyNnh",
        "outputId": "4d2bd82f-bd6a-4adc-e70e-6c37de1a9b93"
      },
      "execution_count": 16,
      "outputs": [
        {
          "output_type": "stream",
          "name": "stdout",
          "text": [
            "1. access\n",
            "2. modify\n",
            "3. slice\n"
          ]
        },
        {
          "output_type": "error",
          "ename": "KeyboardInterrupt",
          "evalue": "Interrupted by user",
          "traceback": [
            "\u001b[0;31m---------------------------------------------------------------------------\u001b[0m",
            "\u001b[0;31mKeyboardInterrupt\u001b[0m                         Traceback (most recent call last)",
            "\u001b[0;32m<ipython-input-16-99bce2024235>\u001b[0m in \u001b[0;36m<cell line: 0>\u001b[0;34m()\u001b[0m\n\u001b[1;32m    102\u001b[0m     \u001b[0mprint\u001b[0m\u001b[0;34m(\u001b[0m\u001b[0mslicing\u001b[0m\u001b[0;34m(\u001b[0m\u001b[0mlst\u001b[0m\u001b[0;34m)\u001b[0m\u001b[0;34m)\u001b[0m\u001b[0;34m\u001b[0m\u001b[0;34m\u001b[0m\u001b[0m\n\u001b[1;32m    103\u001b[0m \u001b[0;34m\u001b[0m\u001b[0m\n\u001b[0;32m--> 104\u001b[0;31m \u001b[0mgame_with_list\u001b[0m\u001b[0;34m(\u001b[0m\u001b[0;34m)\u001b[0m\u001b[0;34m\u001b[0m\u001b[0;34m\u001b[0m\u001b[0m\n\u001b[0m",
            "\u001b[0;32m<ipython-input-16-99bce2024235>\u001b[0m in \u001b[0;36mgame_with_list\u001b[0;34m()\u001b[0m\n\u001b[1;32m     91\u001b[0m   \u001b[0mprint\u001b[0m\u001b[0;34m(\u001b[0m\u001b[0;34m\"2. modify\"\u001b[0m\u001b[0;34m)\u001b[0m\u001b[0;34m\u001b[0m\u001b[0;34m\u001b[0m\u001b[0m\n\u001b[1;32m     92\u001b[0m   \u001b[0mprint\u001b[0m\u001b[0;34m(\u001b[0m\u001b[0;34m\"3. slice\"\u001b[0m\u001b[0;34m)\u001b[0m\u001b[0;34m\u001b[0m\u001b[0;34m\u001b[0m\u001b[0m\n\u001b[0;32m---> 93\u001b[0;31m   \u001b[0muser_choice\u001b[0m \u001b[0;34m=\u001b[0m \u001b[0mint\u001b[0m\u001b[0;34m(\u001b[0m\u001b[0minput\u001b[0m\u001b[0;34m(\u001b[0m\u001b[0;34m\"Select operation (just enter its number): \"\u001b[0m\u001b[0;34m)\u001b[0m\u001b[0;34m)\u001b[0m\u001b[0;34m\u001b[0m\u001b[0;34m\u001b[0m\u001b[0m\n\u001b[0m\u001b[1;32m     94\u001b[0m \u001b[0;34m\u001b[0m\u001b[0m\n\u001b[1;32m     95\u001b[0m   \u001b[0;32mif\u001b[0m \u001b[0muser_choice\u001b[0m \u001b[0;34m==\u001b[0m \u001b[0;36m1\u001b[0m\u001b[0;34m:\u001b[0m\u001b[0;34m\u001b[0m\u001b[0;34m\u001b[0m\u001b[0m\n",
            "\u001b[0;32m/usr/local/lib/python3.11/dist-packages/ipykernel/kernelbase.py\u001b[0m in \u001b[0;36mraw_input\u001b[0;34m(self, prompt)\u001b[0m\n\u001b[1;32m   1175\u001b[0m                 \u001b[0;34m\"raw_input was called, but this frontend does not support input requests.\"\u001b[0m\u001b[0;34m\u001b[0m\u001b[0;34m\u001b[0m\u001b[0m\n\u001b[1;32m   1176\u001b[0m             )\n\u001b[0;32m-> 1177\u001b[0;31m         return self._input_request(\n\u001b[0m\u001b[1;32m   1178\u001b[0m             \u001b[0mstr\u001b[0m\u001b[0;34m(\u001b[0m\u001b[0mprompt\u001b[0m\u001b[0;34m)\u001b[0m\u001b[0;34m,\u001b[0m\u001b[0;34m\u001b[0m\u001b[0;34m\u001b[0m\u001b[0m\n\u001b[1;32m   1179\u001b[0m             \u001b[0mself\u001b[0m\u001b[0;34m.\u001b[0m\u001b[0m_parent_ident\u001b[0m\u001b[0;34m[\u001b[0m\u001b[0;34m\"shell\"\u001b[0m\u001b[0;34m]\u001b[0m\u001b[0;34m,\u001b[0m\u001b[0;34m\u001b[0m\u001b[0;34m\u001b[0m\u001b[0m\n",
            "\u001b[0;32m/usr/local/lib/python3.11/dist-packages/ipykernel/kernelbase.py\u001b[0m in \u001b[0;36m_input_request\u001b[0;34m(self, prompt, ident, parent, password)\u001b[0m\n\u001b[1;32m   1217\u001b[0m             \u001b[0;32mexcept\u001b[0m \u001b[0mKeyboardInterrupt\u001b[0m\u001b[0;34m:\u001b[0m\u001b[0;34m\u001b[0m\u001b[0;34m\u001b[0m\u001b[0m\n\u001b[1;32m   1218\u001b[0m                 \u001b[0;31m# re-raise KeyboardInterrupt, to truncate traceback\u001b[0m\u001b[0;34m\u001b[0m\u001b[0;34m\u001b[0m\u001b[0m\n\u001b[0;32m-> 1219\u001b[0;31m                 \u001b[0;32mraise\u001b[0m \u001b[0mKeyboardInterrupt\u001b[0m\u001b[0;34m(\u001b[0m\u001b[0;34m\"Interrupted by user\"\u001b[0m\u001b[0;34m)\u001b[0m \u001b[0;32mfrom\u001b[0m \u001b[0;32mNone\u001b[0m\u001b[0;34m\u001b[0m\u001b[0;34m\u001b[0m\u001b[0m\n\u001b[0m\u001b[1;32m   1220\u001b[0m             \u001b[0;32mexcept\u001b[0m \u001b[0mException\u001b[0m\u001b[0;34m:\u001b[0m\u001b[0;34m\u001b[0m\u001b[0;34m\u001b[0m\u001b[0m\n\u001b[1;32m   1221\u001b[0m                 \u001b[0mself\u001b[0m\u001b[0;34m.\u001b[0m\u001b[0mlog\u001b[0m\u001b[0;34m.\u001b[0m\u001b[0mwarning\u001b[0m\u001b[0;34m(\u001b[0m\u001b[0;34m\"Invalid Message:\"\u001b[0m\u001b[0;34m,\u001b[0m \u001b[0mexc_info\u001b[0m\u001b[0;34m=\u001b[0m\u001b[0;32mTrue\u001b[0m\u001b[0;34m)\u001b[0m\u001b[0;34m\u001b[0m\u001b[0;34m\u001b[0m\u001b[0m\n",
            "\u001b[0;31mKeyboardInterrupt\u001b[0m: Interrupted by user"
          ]
        }
      ]
    }
  ]
}