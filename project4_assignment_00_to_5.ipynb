{
  "nbformat": 4,
  "nbformat_minor": 0,
  "metadata": {
    "colab": {
      "provenance": [],
      "authorship_tag": "ABX9TyPyB3N5uW3n9xaUMA/Mk8GM",
      "include_colab_link": true
    },
    "kernelspec": {
      "name": "python3",
      "display_name": "Python 3"
    },
    "language_info": {
      "name": "python"
    }
  },
  "cells": [
    {
      "cell_type": "markdown",
      "metadata": {
        "id": "view-in-github",
        "colab_type": "text"
      },
      "source": [
        "<a href=\"https://colab.research.google.com/github/Habib-bhai/assignment_project4/blob/main/project4_assignment_00_to_5.ipynb\" target=\"_parent\"><img src=\"https://colab.research.google.com/assets/colab-badge.svg\" alt=\"Open In Colab\"/></a>"
      ]
    },
    {
      "cell_type": "markdown",
      "source": [
        "# ***00_intro_python***"
      ],
      "metadata": {
        "id": "__KwG16DFQdF"
      }
    },
    {
      "cell_type": "markdown",
      "source": [
        "# **01 add two numbers**"
      ],
      "metadata": {
        "id": "yO1m0sLXFCi3"
      }
    },
    {
      "cell_type": "code",
      "execution_count": null,
      "metadata": {
        "id": "4wU1oXbAPVgw",
        "colab": {
          "base_uri": "https://localhost:8080/"
        },
        "outputId": "18185743-5ce8-4b6d-f65f-a1b29facf76d"
      },
      "outputs": [
        {
          "output_type": "stream",
          "name": "stdout",
          "text": [
            "Enter first number01\n",
            "Enter first number01\n",
            "1 + 1 = 2\n"
          ]
        }
      ],
      "source": [
        "#\n",
        "def main():\n",
        "\n",
        "  first_input = int(input(\"Enter first number: \"))\n",
        "  second_input = int(input(\"Enter first number: \"))\n",
        "\n",
        "  print(f\"{first_input} + {second_input} = {first_input + second_input}\")\n",
        "\n",
        "if __name__ == \"__main__\":\n",
        "  main()\n",
        "\n"
      ]
    },
    {
      "cell_type": "markdown",
      "source": [
        "# 02 **Agreement Bot**"
      ],
      "metadata": {
        "id": "5I3L2Qn23c9S"
      }
    },
    {
      "cell_type": "code",
      "source": [
        "def main():\n",
        "  favourite_animal: str = input(\"What is your Favourite animal? \")\n",
        "  print(f\"My favorite animal is also {favourite_animal}\" )\n",
        "\n",
        "if __name__ == \"__main__\":\n",
        "  main()"
      ],
      "metadata": {
        "colab": {
          "base_uri": "https://localhost:8080/"
        },
        "id": "yKejUWlW3k0P",
        "outputId": "a8a1da4c-20c7-4737-cb68-ee73f5644f3b"
      },
      "execution_count": null,
      "outputs": [
        {
          "output_type": "stream",
          "name": "stdout",
          "text": [
            "What is your Favourite animal? FOX\n",
            "My favorite animal is also FOX\n"
          ]
        }
      ]
    },
    {
      "cell_type": "markdown",
      "source": [
        "# **03 Fahrenhite to celcius**"
      ],
      "metadata": {
        "id": "KYWYG3ci-dvm"
      }
    },
    {
      "cell_type": "code",
      "source": [
        "def main():\n",
        "  user_input = float(input(\"Enter temperature in Fahrenhite: \"))\n",
        "  temp_in_degrees = (user_input - 32) * 5.0/9.0\n",
        "  print(f\"{user_input} Fahrenhite is equal to {temp_in_degrees} degrees celcius\")\n",
        "\n",
        "if __name__ == \"__main__\":\n",
        "  main()\n"
      ],
      "metadata": {
        "id": "6Uu9HCwx-nVr",
        "colab": {
          "base_uri": "https://localhost:8080/"
        },
        "outputId": "5cc976a6-72fb-454e-fd13-bf89e62a464f"
      },
      "execution_count": 3,
      "outputs": [
        {
          "output_type": "stream",
          "name": "stdout",
          "text": [
            "Enter temperature in Fahrenhite: 88.2\n",
            "88.2 Fahrenhite is equal to 31.22222222222222 degrees celcius\n"
          ]
        }
      ]
    },
    {
      "cell_type": "markdown",
      "source": [
        "# **04 how old are they**"
      ],
      "metadata": {
        "id": "kFVmN5zHBqfK"
      }
    },
    {
      "cell_type": "code",
      "source": [
        "def main():\n",
        "  Anton = 21\n",
        "  Beth = Anton + 6\n",
        "  Chen = 20 + Beth\n",
        "  Drew = Chen + Anton\n",
        "  Ethan = Chen\n",
        "\n",
        "  print(f\"Anton is {Anton} years old\")\n",
        "  print(f\"Beth is {Beth} years old\")\n",
        "  print(f\"Chen is {Chen} years old\")\n",
        "  print(f\"Drew is {Drew} years old\")\n",
        "  print(f\"Ethan is {Ethan} years old\")\n",
        "\n",
        "if __name__ == \"__main__\":\n",
        "  main()"
      ],
      "metadata": {
        "colab": {
          "base_uri": "https://localhost:8080/"
        },
        "id": "DqBqNQMsBz4L",
        "outputId": "2d5c3fe4-8418-42b1-8dea-5d17a07dfc1d"
      },
      "execution_count": 4,
      "outputs": [
        {
          "output_type": "stream",
          "name": "stdout",
          "text": [
            "Anton is 21 years old\n",
            "Beth is 27 years old\n",
            "Chen is 47 years old\n",
            "Drew is 68 years old\n",
            "Ethan is 47 years old\n"
          ]
        }
      ]
    },
    {
      "cell_type": "markdown",
      "source": [
        "# **05 triangle perimeter**"
      ],
      "metadata": {
        "id": "jyJv66yuDRT7"
      }
    },
    {
      "cell_type": "code",
      "source": [
        "def main():\n",
        "  side_a = float(input(\"Enter side a: \"))\n",
        "  side_b = float(input(\"Enter side b: \"))\n",
        "  side_c = float(input(\"Enter side c: \"))\n",
        "\n",
        "  perimeter = side_a + side_b + side_c\n",
        "  print(f\"The perimeter of the triangle is {perimeter}\")\n",
        "\n",
        "if __name__ == \"__main__\":\n",
        "  main()"
      ],
      "metadata": {
        "colab": {
          "base_uri": "https://localhost:8080/"
        },
        "id": "ZVHLL1mCDXIK",
        "outputId": "0306db1f-5cd1-4f86-aa5d-df521f7bd0df"
      },
      "execution_count": 5,
      "outputs": [
        {
          "output_type": "stream",
          "name": "stdout",
          "text": [
            "Enter side a: 12\n",
            "Enter side b: 33\n",
            "Enter side c: 78\n",
            "The perimeter of the triangle is 123.0\n"
          ]
        }
      ]
    },
    {
      "cell_type": "markdown",
      "source": [
        "# **06 square number**"
      ],
      "metadata": {
        "id": "MCjDKOWmDr-w"
      }
    },
    {
      "cell_type": "code",
      "source": [
        "def main():\n",
        "  user_input = float(input(\"Enter a number: \"))\n",
        "  square = user_input * user_input\n",
        "  print(f\"{user_input} squared is {square}\")\n",
        "\n",
        "if __name__ == \"__main__\":\n",
        "   main()"
      ],
      "metadata": {
        "colab": {
          "base_uri": "https://localhost:8080/"
        },
        "id": "PkN3KLupFfxy",
        "outputId": "838276a1-4e07-443e-aa0f-cda3c1393015"
      },
      "execution_count": 7,
      "outputs": [
        {
          "output_type": "stream",
          "name": "stdout",
          "text": [
            "Enter a number: 88\n",
            "88.0 squared is 7744.0\n"
          ]
        }
      ]
    },
    {
      "cell_type": "markdown",
      "source": [
        "# ***01_expressions***"
      ],
      "metadata": {
        "id": "YpPakP8HFwo0"
      }
    },
    {
      "cell_type": "markdown",
      "source": [
        "# **01 dicesimulator**\n"
      ],
      "metadata": {
        "id": "nx2XB60wFoVd"
      }
    },
    {
      "cell_type": "code",
      "source": [
        "import random\n",
        "\n",
        "def die_roll():\n",
        "   die1 = random.randint(1, 6)\n",
        "   die2 = random.randint(1, 6)\n",
        "\n",
        "   print(f\"Die 1: {die1}\")\n",
        "   print(f\"Die 2: {die2}\")\n",
        "   print(f\"Sum of both die: {die1 + die2}\")\n",
        "\n",
        "\n",
        "\n",
        "def main():\n",
        "  die_roll()\n",
        "  die_roll()\n",
        "  die_roll()\n",
        "\n",
        "if __name__ == \"__main__\":\n",
        "  main()\n"
      ],
      "metadata": {
        "colab": {
          "base_uri": "https://localhost:8080/"
        },
        "id": "2RK087aPFtuH",
        "outputId": "da74fad4-5c3d-48fa-eba3-44b1b81b75a2"
      },
      "execution_count": 8,
      "outputs": [
        {
          "output_type": "stream",
          "name": "stdout",
          "text": [
            "Die 1: 5\n",
            "Die 2: 3\n",
            "Sum of both die: 8\n",
            "Die 1: 6\n",
            "Die 2: 3\n",
            "Sum of both die: 9\n",
            "Die 1: 5\n",
            "Die 2: 6\n",
            "Sum of both die: 11\n"
          ]
        }
      ]
    },
    {
      "cell_type": "markdown",
      "source": [
        "# **02 e=mc2**"
      ],
      "metadata": {
        "id": "HLmQfVbWIIGo"
      }
    },
    {
      "cell_type": "code",
      "source": [
        "def main():\n",
        "  user_input = float(input(\"Enter mass in KG: \"))\n",
        "  Energy = user_input * 299792458\n",
        "  print(f\"The energy in Joules is {Energy}\")\n",
        "\n",
        "if __name__ == \"__main__\":\n",
        "  main()\n"
      ],
      "metadata": {
        "colab": {
          "base_uri": "https://localhost:8080/"
        },
        "id": "WChUgHRBINgO",
        "outputId": "f7e3bf14-ca2d-4be5-c317-6a1c5135a0bf"
      },
      "execution_count": 10,
      "outputs": [
        {
          "output_type": "stream",
          "name": "stdout",
          "text": [
            "Enter mass in KG: 75\n",
            "The energy in Joules is 22484434350.0\n"
          ]
        }
      ]
    },
    {
      "cell_type": "markdown",
      "source": [
        "# **03 feet_to_inches**"
      ],
      "metadata": {
        "id": "S-nGOQPfIvAB"
      }
    },
    {
      "cell_type": "code",
      "source": [
        "def main():\n",
        "  user_input = float(input(\"Enter length in feet: \"))\n",
        "  inches = user_input * 12\n",
        "  print(f\"{user_input} feet = {inches} inches\")\n",
        "\n",
        "if __name__ == \"__main__\":\n",
        "  main()\n"
      ],
      "metadata": {
        "colab": {
          "base_uri": "https://localhost:8080/"
        },
        "id": "Cv71jpSeIx9F",
        "outputId": "7054cad0-81ed-4639-eae4-ec44a6a07c67"
      },
      "execution_count": 11,
      "outputs": [
        {
          "output_type": "stream",
          "name": "stdout",
          "text": [
            "Enter length in feet: 4.5\n",
            "4.5 feet = 54.0 inches\n"
          ]
        }
      ]
    },
    {
      "cell_type": "markdown",
      "source": [
        "# **04 pythagorean_theorem**"
      ],
      "metadata": {
        "id": "6vlCS4kbI8pD"
      }
    },
    {
      "cell_type": "code",
      "source": [
        "import math\n",
        "\n",
        "def main():\n",
        "  base = float(input(\"Enter Measure of base: \"))\n",
        "  perpendicular = float(input(\"Enter Measure of perpendicular: \"))\n",
        "\n",
        "  hyp = math.sqrt(base**2 + perpendicular**2)\n",
        "\n",
        "  print(f\"Hypotenuse of triangle having base {base} and perpendicular {perpendicular} is: {hyp}\")\n",
        "\n",
        "if __name__ == \"__main__\":\n",
        "  main()\n"
      ],
      "metadata": {
        "colab": {
          "base_uri": "https://localhost:8080/"
        },
        "id": "fQOeArU0JCS3",
        "outputId": "6f8eb38e-b593-4227-e360-f09c8f031986"
      },
      "execution_count": 21,
      "outputs": [
        {
          "output_type": "stream",
          "name": "stdout",
          "text": [
            "Enter Measure of base: 9\n",
            "Enter Measure of perpendicular: 9\n",
            "Hypotenuse of triangle having base 9.0 and perpendicular 9.0 is: 12.727922061357855\n"
          ]
        }
      ]
    },
    {
      "cell_type": "markdown",
      "source": [
        "# **05 remainder_division**"
      ],
      "metadata": {
        "id": "h1bstyGsLNbj"
      }
    },
    {
      "cell_type": "code",
      "source": [
        "def main():\n",
        "  first_num = int(input(\"Enter first number: \"))\n",
        "  second_num = int(input(\"Enter second number: \"))\n",
        "\n",
        "  if second_num == 0:\n",
        "    print(\"Cannot divide by zero\")\n",
        "    return\n",
        "  remainder = first_num % second_num\n",
        "  print(f\"The remainder of {first_num} divided by {second_num} = {remainder}\")\n",
        "if __name__ == \"__main__\":\n",
        "  main()"
      ],
      "metadata": {
        "colab": {
          "base_uri": "https://localhost:8080/"
        },
        "id": "luX-qYH0LRuo",
        "outputId": "0af586b1-d674-4392-ae9e-9c2cf5bf757a"
      },
      "execution_count": 24,
      "outputs": [
        {
          "output_type": "stream",
          "name": "stdout",
          "text": [
            "Enter first number: 12\n",
            "Enter second number: 2\n",
            "The remainder of 12 divided by 2 = 0\n"
          ]
        }
      ]
    },
    {
      "cell_type": "markdown",
      "source": [
        "# **06 rolldice**"
      ],
      "metadata": {
        "id": "0U-xbKwwMUrB"
      }
    },
    {
      "cell_type": "code",
      "source": [
        "import random\n",
        "\n",
        "def main():\n",
        "    die_roll()\n",
        "\n",
        "\n",
        "if __name__ == '__main__':\n",
        "    main()\n"
      ],
      "metadata": {
        "colab": {
          "base_uri": "https://localhost:8080/"
        },
        "id": "PaUPKsntMcI2",
        "outputId": "84665fd4-3298-4f06-f830-0e4aa82c47dc"
      },
      "execution_count": 31,
      "outputs": [
        {
          "output_type": "stream",
          "name": "stdout",
          "text": [
            "Die 1: 4\n",
            "Die 2: 6\n",
            "Sum of both die: 10\n"
          ]
        }
      ]
    },
    {
      "cell_type": "markdown",
      "source": [
        "# **06 seconds_in_year**\n",
        "\n"
      ],
      "metadata": {
        "id": "XPQHveO6M4Xh"
      }
    },
    {
      "cell_type": "code",
      "source": [
        "DAYS_IN_YEAR = 365\n",
        "HOURS_IN_A_DAY = 24\n",
        "MINIUTES_IN_AN_HOUR = 60\n",
        "SECONDS_IN_A_MINUTE = 60\n",
        "\n",
        "\n",
        "def main():\n",
        "  print(f\"There are {DAYS_IN_YEAR * HOURS_IN_A_DAY * MINIUTES_IN_AN_HOUR * SECONDS_IN_A_MINUTE} seconds in a year\")\n",
        "\n",
        "if __name__ == \"__main__\":\n",
        "  main()"
      ],
      "metadata": {
        "colab": {
          "base_uri": "https://localhost:8080/"
        },
        "id": "dycP8B17NWX3",
        "outputId": "840a7057-15a1-497a-96c6-1338af96eb66"
      },
      "execution_count": 32,
      "outputs": [
        {
          "output_type": "stream",
          "name": "stdout",
          "text": [
            "There are 31536000 seconds in a year\n"
          ]
        }
      ]
    },
    {
      "cell_type": "markdown",
      "source": [
        "# **07 tiny_mad_lib**"
      ],
      "metadata": {
        "id": "jTIZVWjbN2WC"
      }
    },
    {
      "cell_type": "code",
      "source": [
        "SENTENCE_START: str = \"Panaversity is fun. I learned to program and used Python to make my \"\n",
        "\n",
        "\n",
        "def main():\n",
        "  adjective: str  = input(\"Enter an adjective: \")\n",
        "  noun: str  = input(\"Enter an noun: \")\n",
        "  verb: str  = input(\"Enter an verb: \")\n",
        "\n",
        "  print(f\"{SENTENCE_START} {adjective} {noun} {verb} \")\n",
        "\n",
        "if __name__ == \"__main__\":\n",
        "  main()"
      ],
      "metadata": {
        "colab": {
          "base_uri": "https://localhost:8080/"
        },
        "id": "14HjtO5zN8IU",
        "outputId": "77727897-e851-47f5-c2b5-21935f77a441"
      },
      "execution_count": 33,
      "outputs": [
        {
          "output_type": "stream",
          "name": "stdout",
          "text": [
            "Enter an adjective: naughty\n",
            "Enter an noun: boy\n",
            "Enter an verb: play\n",
            "Panaversity is fun. I learned to program and used Python to make my  naughty boy play \n"
          ]
        }
      ]
    },
    {
      "cell_type": "markdown",
      "source": [
        "# ***02_lists***"
      ],
      "metadata": {
        "id": "9Bej3GMuPICW"
      }
    },
    {
      "cell_type": "markdown",
      "source": [
        "# **01 add_many_number**"
      ],
      "metadata": {
        "id": "_n0iwo0WPA-5"
      }
    },
    {
      "cell_type": "code",
      "source": [
        "def sum_of_many(nums: list) -> int:\n",
        "  return sum(nums)\n",
        "\n",
        "def main():\n",
        "  print(sum([1,2,3,4,5]))\n",
        "\n",
        "if __name__ == \"__main__\":\n",
        "  main()\n"
      ],
      "metadata": {
        "colab": {
          "base_uri": "https://localhost:8080/"
        },
        "id": "XdEOgoAxPGsp",
        "outputId": "62524bcc-d6dd-4e4d-cda1-942474c48096"
      },
      "execution_count": 35,
      "outputs": [
        {
          "output_type": "stream",
          "name": "stdout",
          "text": [
            "15\n"
          ]
        }
      ]
    },
    {
      "cell_type": "markdown",
      "source": [
        "# **02_double_list**"
      ],
      "metadata": {
        "id": "shEwYmiOUTfd"
      }
    },
    {
      "cell_type": "code",
      "source": [
        "def main():\n",
        "  num_list = [1,2,3,4,5]\n",
        "\n",
        "  print(f\"list before: {num_list}\")\n",
        "\n",
        "  print(f\"list doubled: {[num + num for num in num_list]}\")\n",
        "\n",
        "if __name__ == \"__main__\":\n",
        "  main()"
      ],
      "metadata": {
        "colab": {
          "base_uri": "https://localhost:8080/"
        },
        "id": "9o7E7joHUVdP",
        "outputId": "fbf7d90c-9338-43c6-c07c-5eaa4ba8d3ba"
      },
      "execution_count": 37,
      "outputs": [
        {
          "output_type": "stream",
          "name": "stdout",
          "text": [
            "list before: [1, 2, 3, 4, 5]\n",
            "list doubled: [2, 4, 6, 8, 10]\n"
          ]
        }
      ]
    },
    {
      "cell_type": "markdown",
      "source": [
        "# **03 erase_canvas**"
      ],
      "metadata": {
        "id": "IjNEixijc1eF"
      }
    },
    {
      "cell_type": "code",
      "source": [
        "from graphics import Canvas\n",
        "import time\n",
        "\n",
        "CANVAS_WIDTH : int = 400\n",
        "CANVAS_HEIGHT : int = 400\n",
        "\n",
        "CELL_SIZE : int = 40\n",
        "ERASER_SIZE : int = 20\n",
        "\n",
        "def erase_objects(canvas, eraser):\n",
        "    \"\"\"Erase objects in contact with the eraser\"\"\"\n",
        "    # Get mouse info to help us know which cells to delete\n",
        "    mouse_x = canvas.get_mouse_x()\n",
        "    mouse_y = canvas.get_mouse_y()\n",
        "\n",
        "    # Calculate where our eraser is\n",
        "    left_x = mouse_x\n",
        "    top_y = mouse_y\n",
        "    right_x = left_x + ERASER_SIZE\n",
        "    bottom_y = top_y + ERASER_SIZE\n",
        "\n",
        "    # Find things that overlap with our eraser\n",
        "    overlapping_objects = canvas.find_overlapping(left_x, top_y, right_x, bottom_y)\n",
        "\n",
        "    # For everything that overlaps with our eraser (that isn't our eraser), change\n",
        "    # its color to white\n",
        "    for overlapping_object in overlapping_objects:\n",
        "        if overlapping_object != eraser:\n",
        "            canvas.set_color(overlapping_object, 'white')\n",
        "\n",
        "# There is no need to edit code beyond this point\n",
        "\n",
        "def main():\n",
        "    canvas = Canvas(CANVAS_WIDTH, CANVAS_HEIGHT)\n",
        "\n",
        "    num_rows = CANVAS_HEIGHT // CELL_SIZE  # Figure out how many rows of cells we need\n",
        "    num_cols = CANVAS_WIDTH // CELL_SIZE   # Figure out how many columns of cells we need\n",
        "\n",
        "    # Make a grid of squares based on the number of rows and columns.\n",
        "    # The rows and columns along with our cell size help determine where\n",
        "    # each individual cell belongs in our grid!\n",
        "    for row in range(num_rows):\n",
        "        for col in range(num_cols):\n",
        "            left_x = col * CELL_SIZE\n",
        "            top_y = row * CELL_SIZE\n",
        "            right_x = left_x + CELL_SIZE   # The right coordinate of the cell is CELL_SIZE pixels away from the left\n",
        "            bottom_y = top_y + CELL_SIZE   # The bottom coordinate of the cell is CELL_SIZE pixels away from the top\n",
        "\n",
        "            # Create a single cell in the grid\n",
        "            cell = canvas.create_rectangle(left_x, top_y, right_x, bottom_y, 'blue')\n",
        "\n",
        "\n",
        "    canvas.wait_for_click()  # Wait for the user to click before creating the eraser\n",
        "\n",
        "    last_click_x, last_click_y = canvas.get_last_click()  # Get the starting location for the eraser\n",
        "\n",
        "    # Create our eraser\n",
        "    eraser = canvas.create_rectangle(\n",
        "        last_click_x,\n",
        "        last_click_y,\n",
        "        last_click_x + ERASER_SIZE,\n",
        "        last_click_y + ERASER_SIZE,\n",
        "        'pink'\n",
        "    )\n",
        "\n",
        "    # Move the eraser, and erase what it's touching\n",
        "    while True:\n",
        "        # Get where our mouse is and move the eraser to there\n",
        "        mouse_x = canvas.get_mouse_x()\n",
        "        mouse_y = canvas.get_mouse_y()\n",
        "        canvas.moveto(eraser, mouse_x, mouse_y)\n",
        "\n",
        "        # Erase anything touching the eraser\n",
        "        erase_objects(canvas, eraser)\n",
        "\n",
        "        time.sleep(0.05)\n",
        "\n",
        "\n",
        "if __name__ == '__main__':\n",
        "    main()"
      ],
      "metadata": {
        "colab": {
          "base_uri": "https://localhost:8080/",
          "height": 385
        },
        "id": "S8ALvmizc5d5",
        "outputId": "3a7627b4-87f4-4122-abd9-90dc20cfd775"
      },
      "execution_count": 2,
      "outputs": [
        {
          "output_type": "error",
          "ename": "ModuleNotFoundError",
          "evalue": "No module named 'graphics'",
          "traceback": [
            "\u001b[0;31m---------------------------------------------------------------------------\u001b[0m",
            "\u001b[0;31mModuleNotFoundError\u001b[0m                       Traceback (most recent call last)",
            "\u001b[0;32m<ipython-input-2-fe2cd1c6f4c4>\u001b[0m in \u001b[0;36m<cell line: 0>\u001b[0;34m()\u001b[0m\n\u001b[0;32m----> 1\u001b[0;31m \u001b[0;32mfrom\u001b[0m \u001b[0mgraphics\u001b[0m \u001b[0;32mimport\u001b[0m \u001b[0mCanvas\u001b[0m\u001b[0;34m\u001b[0m\u001b[0;34m\u001b[0m\u001b[0m\n\u001b[0m\u001b[1;32m      2\u001b[0m \u001b[0;32mimport\u001b[0m \u001b[0mtime\u001b[0m\u001b[0;34m\u001b[0m\u001b[0;34m\u001b[0m\u001b[0m\n\u001b[1;32m      3\u001b[0m \u001b[0;34m\u001b[0m\u001b[0m\n\u001b[1;32m      4\u001b[0m \u001b[0mCANVAS_WIDTH\u001b[0m \u001b[0;34m:\u001b[0m \u001b[0mint\u001b[0m \u001b[0;34m=\u001b[0m \u001b[0;36m400\u001b[0m\u001b[0;34m\u001b[0m\u001b[0;34m\u001b[0m\u001b[0m\n\u001b[1;32m      5\u001b[0m \u001b[0mCANVAS_HEIGHT\u001b[0m \u001b[0;34m:\u001b[0m \u001b[0mint\u001b[0m \u001b[0;34m=\u001b[0m \u001b[0;36m400\u001b[0m\u001b[0;34m\u001b[0m\u001b[0;34m\u001b[0m\u001b[0m\n",
            "\u001b[0;31mModuleNotFoundError\u001b[0m: No module named 'graphics'",
            "",
            "\u001b[0;31m---------------------------------------------------------------------------\u001b[0;32m\nNOTE: If your import is failing due to a missing package, you can\nmanually install dependencies using either !pip or !apt.\n\nTo view examples of installing some common dependencies, click the\n\"Open Examples\" button below.\n\u001b[0;31m---------------------------------------------------------------------------\u001b[0m\n"
          ],
          "errorDetails": {
            "actions": [
              {
                "action": "open_url",
                "actionText": "Open Examples",
                "url": "/notebooks/snippets/importing_libraries.ipynb"
              }
            ]
          }
        }
      ]
    },
    {
      "cell_type": "markdown",
      "source": [
        "# **04 flowing_with_data_structures**"
      ],
      "metadata": {
        "id": "Wf2r5C8EiWdD"
      }
    },
    {
      "cell_type": "code",
      "source": [
        "def add_three_copies(li: list, data):\n",
        "  li.append(data)\n",
        "  li.append(data)\n",
        "  li.append(data)\n",
        "\n",
        "\n",
        "def num_without_return(x: int):\n",
        "  x += 10\n",
        "\n",
        "def num_with_return(x: int) -> int:\n",
        "  x+= 10\n",
        "  return x\n",
        "\n",
        "def main():\n",
        "\n",
        "  my_list = []\n",
        "  variable = 5\n",
        "\n",
        "  # num_without_return(variable)  #didn't modified the variable\n",
        "\n",
        "  variable = num_with_return(variable)\n",
        "\n",
        "  add_three_copies(my_list, \"Hello\")\n",
        "\n",
        "  print(variable)\n",
        "  print(my_list)\n",
        "\n",
        "\n",
        "if __name__ == \"__main__\":\n",
        "  main()\n",
        "\n",
        "\n",
        "\n"
      ],
      "metadata": {
        "colab": {
          "base_uri": "https://localhost:8080/"
        },
        "id": "in218pd8iv4v",
        "outputId": "1ca85fb4-47dc-4203-ae29-5fb5ffc4a58c"
      },
      "execution_count": 13,
      "outputs": [
        {
          "output_type": "stream",
          "name": "stdout",
          "text": [
            "15\n",
            "['Hello', 'Hello', 'Hello']\n"
          ]
        }
      ]
    },
    {
      "cell_type": "markdown",
      "source": [
        "# **05 get_first_element**"
      ],
      "metadata": {
        "id": "ApdXIdiRtPpv"
      }
    },
    {
      "cell_type": "code",
      "source": [
        "def get_first_element(lst: list):\n",
        "  print(lst[0])\n",
        "\n",
        "\n",
        "def main():\n",
        "  this_is_a_list = []\n",
        "\n",
        "  while True:\n",
        "    user_input = input(\"Enter a value to add in the list, 'PRESS ENTER WHEN YOU ARE DONE' : \")\n",
        "    if user_input == \"\":\n",
        "      break\n",
        "    this_is_a_list.append(user_input)\n",
        "\n",
        "  if len(this_is_a_list) == 0:\n",
        "    print(\"list is empty\")\n",
        "  get_first_element(this_is_a_list)\n",
        "\n",
        "if __name__ == \"__main__\":\n",
        "  main()\n",
        ""
      ],
      "metadata": {
        "colab": {
          "base_uri": "https://localhost:8080/"
        },
        "id": "hmvv9tGYtxTi",
        "outputId": "012bc0d3-66cd-4739-8765-2b0dabc73e75"
      },
      "execution_count": 15,
      "outputs": [
        {
          "output_type": "stream",
          "name": "stdout",
          "text": [
            "Enter a value to add in the list, 'PRESS ENTER WHEN YOU ARE DONE' : hello\n",
            "Enter a value to add in the list, 'PRESS ENTER WHEN YOU ARE DONE' : 1\n",
            "Enter a value to add in the list, 'PRESS ENTER WHEN YOU ARE DONE' : two\n",
            "Enter a value to add in the list, 'PRESS ENTER WHEN YOU ARE DONE' : 3\n",
            "Enter a value to add in the list, 'PRESS ENTER WHEN YOU ARE DONE' : \n",
            "hello\n"
          ]
        }
      ]
    },
    {
      "cell_type": "markdown",
      "source": [
        "# **06_get_last_element**"
      ],
      "metadata": {
        "id": "8qtvvkwNvd_P"
      }
    },
    {
      "cell_type": "code",
      "source": [
        "def get_last_element(lst: list):\n",
        "  print(lst.pop(), \"last element\")\n",
        "\n",
        "\n",
        "def main():\n",
        "  this_is_a_list = []\n",
        "\n",
        "  while True:\n",
        "    user_input = input(\"Enter a value to add in the list, 'PRESS ENTER WHEN YOU ARE DONE' : \")\n",
        "    if user_input == \"\":\n",
        "      break\n",
        "    this_is_a_list.append(user_input)\n",
        "\n",
        "  if len(this_is_a_list) == 0:\n",
        "    print(\"list is empty\")\n",
        "  get_last_element(this_is_a_list)\n",
        "\n",
        "if __name__ == \"__main__\":\n",
        "  main()\n"
      ],
      "metadata": {
        "colab": {
          "base_uri": "https://localhost:8080/"
        },
        "id": "7Gsm7WcEvzdM",
        "outputId": "5b8fbcaa-a2e2-4191-fd67-23d14d22f78b"
      },
      "execution_count": 22,
      "outputs": [
        {
          "output_type": "stream",
          "name": "stdout",
          "text": [
            "Enter a value to add in the list, 'PRESS ENTER WHEN YOU ARE DONE' : hello ]\n",
            "Enter a value to add in the list, 'PRESS ENTER WHEN YOU ARE DONE' : world\n",
            "Enter a value to add in the list, 'PRESS ENTER WHEN YOU ARE DONE' : \n",
            "world last element\n"
          ]
        }
      ]
    },
    {
      "cell_type": "markdown",
      "source": [
        "# **07 get_list**"
      ],
      "metadata": {
        "id": "uhSb_FB5xDGC"
      }
    },
    {
      "cell_type": "code",
      "source": [
        "def main():\n",
        "  li= []\n",
        "  while True:\n",
        "    user_input: str = input(\"Enter value to be added in the list: 'PRESS ENTER WHEN YOU ARE DONE' : \")\n",
        "    if user_input == \"\":\n",
        "      print(li)\n",
        "      break\n",
        "    li.append(user_input)\n",
        "\n",
        "if __name__ == \"__main__\":\n",
        "  main()"
      ],
      "metadata": {
        "colab": {
          "base_uri": "https://localhost:8080/"
        },
        "id": "QM8x4EutxJJW",
        "outputId": "113f01ed-d3ae-41da-99ab-3462f46de84c"
      },
      "execution_count": 23,
      "outputs": [
        {
          "output_type": "stream",
          "name": "stdout",
          "text": [
            "Enter value to be added in the list: 'PRESS ENTER WHEN YOU ARE DONE' : hello\n",
            "Enter value to be added in the list: 'PRESS ENTER WHEN YOU ARE DONE' : world\n",
            "Enter value to be added in the list: 'PRESS ENTER WHEN YOU ARE DONE' : how\n",
            "Enter value to be added in the list: 'PRESS ENTER WHEN YOU ARE DONE' : are \n",
            "Enter value to be added in the list: 'PRESS ENTER WHEN YOU ARE DONE' : you\n",
            "Enter value to be added in the list: 'PRESS ENTER WHEN YOU ARE DONE' : \n",
            "['hello', 'world', 'how', 'are ', 'you']\n"
          ]
        }
      ]
    },
    {
      "cell_type": "markdown",
      "source": [
        "# **08 shorten**"
      ],
      "metadata": {
        "id": "nj9QBsqsxrN8"
      }
    },
    {
      "cell_type": "code",
      "source": [
        "MAX_LENGTH = 4\n",
        "def shorten(lst):\n",
        "  while len(lst) >= MAX_LENGTH:\n",
        "    popped_item =  lst.pop()\n",
        "    print(f\"\\nPopped {popped_item}\")\n",
        "  print(lst)\n",
        "\n",
        "\n",
        "def main():\n",
        "  li = []\n",
        "  while True:\n",
        "    user_input: str = input(\"Enter value to be added in the list: 'PRESS ENTER WHEN YOU ARE DONE' : \")\n",
        "    if user_input == \"\":\n",
        "      break\n",
        "    li.append(user_input)\n",
        "\n",
        "  shorten(li)\n",
        "\n",
        "\n",
        "if __name__ == \"__main__\":\n",
        "  main()\n"
      ],
      "metadata": {
        "colab": {
          "base_uri": "https://localhost:8080/"
        },
        "id": "I8v4vUx6xvyz",
        "outputId": "f054d584-e74f-4cfc-838b-0000d5001cad"
      },
      "execution_count": 27,
      "outputs": [
        {
          "output_type": "stream",
          "name": "stdout",
          "text": [
            "Enter value to be added in the list: 'PRESS ENTER WHEN YOU ARE DONE' : 1\n",
            "Enter value to be added in the list: 'PRESS ENTER WHEN YOU ARE DONE' : 2\n",
            "Enter value to be added in the list: 'PRESS ENTER WHEN YOU ARE DONE' : 4\n",
            "Enter value to be added in the list: 'PRESS ENTER WHEN YOU ARE DONE' : 5\n",
            "Enter value to be added in the list: 'PRESS ENTER WHEN YOU ARE DONE' : 3\n",
            "Enter value to be added in the list: 'PRESS ENTER WHEN YOU ARE DONE' : \n",
            "\n",
            "Popped 3\n",
            "\n",
            "Popped 5\n",
            "['1', '2', '4']\n"
          ]
        }
      ]
    },
    {
      "cell_type": "markdown",
      "source": [
        "# ***03_if_statements***"
      ],
      "metadata": {
        "id": "hhhC-Kz9zVDv"
      }
    },
    {
      "cell_type": "markdown",
      "source": [
        "# **01 print_events**"
      ],
      "metadata": {
        "id": "HdYt91AYzPmn"
      }
    },
    {
      "cell_type": "code",
      "source": [
        "def main():\n",
        "  i = 0\n",
        "  while i < 20:\n",
        "    print(i * 2, end=\" \")\n",
        "    i += 1\n",
        "\n",
        "if __name__ == \"__main__\":\n",
        "  main()"
      ],
      "metadata": {
        "colab": {
          "base_uri": "https://localhost:8080/"
        },
        "id": "swZeUOhTzTaQ",
        "outputId": "9370e66e-0713-494e-90c9-efa6c331cbb7"
      },
      "execution_count": 1,
      "outputs": [
        {
          "output_type": "stream",
          "name": "stdout",
          "text": [
            "0 2 4 6 8 10 12 14 16 18 20 22 24 26 28 30 32 34 36 38 40 "
          ]
        }
      ]
    },
    {
      "cell_type": "markdown",
      "source": [
        "# **New Section**"
      ],
      "metadata": {
        "id": "awxUkWPq1iMp"
      }
    }
  ]
}