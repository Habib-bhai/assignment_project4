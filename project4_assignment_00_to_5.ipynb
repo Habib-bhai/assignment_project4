{
  "nbformat": 4,
  "nbformat_minor": 0,
  "metadata": {
    "colab": {
      "provenance": [],
      "collapsed_sections": [
        "yO1m0sLXFCi3",
        "5I3L2Qn23c9S",
        "KYWYG3ci-dvm",
        "kFVmN5zHBqfK",
        "jyJv66yuDRT7",
        "MCjDKOWmDr-w",
        "nx2XB60wFoVd",
        "HLmQfVbWIIGo",
        "S-nGOQPfIvAB",
        "6vlCS4kbI8pD",
        "h1bstyGsLNbj",
        "0U-xbKwwMUrB",
        "XPQHveO6M4Xh",
        "jTIZVWjbN2WC",
        "_n0iwo0WPA-5",
        "IjNEixijc1eF",
        "HdYt91AYzPmn",
        "6G3x32pE2qfx",
        "-WJTxWM_5Re-",
        "mFr0w142654_"
      ],
      "authorship_tag": "ABX9TyO5Wc2R166lfAK2bhMi1sdO",
      "include_colab_link": true
    },
    "kernelspec": {
      "name": "python3",
      "display_name": "Python 3"
    },
    "language_info": {
      "name": "python"
    }
  },
  "cells": [
    {
      "cell_type": "markdown",
      "metadata": {
        "id": "view-in-github",
        "colab_type": "text"
      },
      "source": [
        "<a href=\"https://colab.research.google.com/github/Habib-bhai/assignment_project4/blob/main/project4_assignment_00_to_5.ipynb\" target=\"_parent\"><img src=\"https://colab.research.google.com/assets/colab-badge.svg\" alt=\"Open In Colab\"/></a>"
      ]
    },
    {
      "cell_type": "markdown",
      "source": [
        "# ***00_intro_python***"
      ],
      "metadata": {
        "id": "__KwG16DFQdF"
      }
    },
    {
      "cell_type": "markdown",
      "source": [
        "# **01 add two numbers**"
      ],
      "metadata": {
        "id": "yO1m0sLXFCi3"
      }
    },
    {
      "cell_type": "code",
      "execution_count": null,
      "metadata": {
        "id": "4wU1oXbAPVgw",
        "colab": {
          "base_uri": "https://localhost:8080/"
        },
        "outputId": "18185743-5ce8-4b6d-f65f-a1b29facf76d"
      },
      "outputs": [
        {
          "output_type": "stream",
          "name": "stdout",
          "text": [
            "Enter first number01\n",
            "Enter first number01\n",
            "1 + 1 = 2\n"
          ]
        }
      ],
      "source": [
        "#\n",
        "def main():\n",
        "\n",
        "  first_input = int(input(\"Enter first number: \"))\n",
        "  second_input = int(input(\"Enter first number: \"))\n",
        "\n",
        "  print(f\"{first_input} + {second_input} = {first_input + second_input}\")\n",
        "\n",
        "if __name__ == \"__main__\":\n",
        "  main()\n",
        "\n"
      ]
    },
    {
      "cell_type": "markdown",
      "source": [
        "# 02 **Agreement Bot**"
      ],
      "metadata": {
        "id": "5I3L2Qn23c9S"
      }
    },
    {
      "cell_type": "code",
      "source": [
        "def main():\n",
        "  favourite_animal: str = input(\"What is your Favourite animal? \")\n",
        "  print(f\"My favorite animal is also {favourite_animal}\" )\n",
        "\n",
        "if __name__ == \"__main__\":\n",
        "  main()"
      ],
      "metadata": {
        "colab": {
          "base_uri": "https://localhost:8080/"
        },
        "id": "yKejUWlW3k0P",
        "outputId": "a8a1da4c-20c7-4737-cb68-ee73f5644f3b"
      },
      "execution_count": null,
      "outputs": [
        {
          "output_type": "stream",
          "name": "stdout",
          "text": [
            "What is your Favourite animal? FOX\n",
            "My favorite animal is also FOX\n"
          ]
        }
      ]
    },
    {
      "cell_type": "markdown",
      "source": [
        "# **03 Fahrenhite to celcius**"
      ],
      "metadata": {
        "id": "KYWYG3ci-dvm"
      }
    },
    {
      "cell_type": "code",
      "source": [
        "def main():\n",
        "  user_input = float(input(\"Enter temperature in Fahrenhite: \"))\n",
        "  temp_in_degrees = (user_input - 32) * 5.0/9.0\n",
        "  print(f\"{user_input} Fahrenhite is equal to {temp_in_degrees} degrees celcius\")\n",
        "\n",
        "if __name__ == \"__main__\":\n",
        "  main()\n"
      ],
      "metadata": {
        "id": "6Uu9HCwx-nVr",
        "colab": {
          "base_uri": "https://localhost:8080/"
        },
        "outputId": "5cc976a6-72fb-454e-fd13-bf89e62a464f"
      },
      "execution_count": null,
      "outputs": [
        {
          "output_type": "stream",
          "name": "stdout",
          "text": [
            "Enter temperature in Fahrenhite: 88.2\n",
            "88.2 Fahrenhite is equal to 31.22222222222222 degrees celcius\n"
          ]
        }
      ]
    },
    {
      "cell_type": "markdown",
      "source": [
        "# **04 how old are they**"
      ],
      "metadata": {
        "id": "kFVmN5zHBqfK"
      }
    },
    {
      "cell_type": "code",
      "source": [
        "def main():\n",
        "  Anton = 21\n",
        "  Beth = Anton + 6\n",
        "  Chen = 20 + Beth\n",
        "  Drew = Chen + Anton\n",
        "  Ethan = Chen\n",
        "\n",
        "  print(f\"Anton is {Anton} years old\")\n",
        "  print(f\"Beth is {Beth} years old\")\n",
        "  print(f\"Chen is {Chen} years old\")\n",
        "  print(f\"Drew is {Drew} years old\")\n",
        "  print(f\"Ethan is {Ethan} years old\")\n",
        "\n",
        "if __name__ == \"__main__\":\n",
        "  main()"
      ],
      "metadata": {
        "colab": {
          "base_uri": "https://localhost:8080/"
        },
        "id": "DqBqNQMsBz4L",
        "outputId": "2d5c3fe4-8418-42b1-8dea-5d17a07dfc1d"
      },
      "execution_count": null,
      "outputs": [
        {
          "output_type": "stream",
          "name": "stdout",
          "text": [
            "Anton is 21 years old\n",
            "Beth is 27 years old\n",
            "Chen is 47 years old\n",
            "Drew is 68 years old\n",
            "Ethan is 47 years old\n"
          ]
        }
      ]
    },
    {
      "cell_type": "markdown",
      "source": [
        "# **05 triangle perimeter**"
      ],
      "metadata": {
        "id": "jyJv66yuDRT7"
      }
    },
    {
      "cell_type": "code",
      "source": [
        "def main():\n",
        "  side_a = float(input(\"Enter side a: \"))\n",
        "  side_b = float(input(\"Enter side b: \"))\n",
        "  side_c = float(input(\"Enter side c: \"))\n",
        "\n",
        "  perimeter = side_a + side_b + side_c\n",
        "  print(f\"The perimeter of the triangle is {perimeter}\")\n",
        "\n",
        "if __name__ == \"__main__\":\n",
        "  main()"
      ],
      "metadata": {
        "colab": {
          "base_uri": "https://localhost:8080/"
        },
        "id": "ZVHLL1mCDXIK",
        "outputId": "0306db1f-5cd1-4f86-aa5d-df521f7bd0df"
      },
      "execution_count": null,
      "outputs": [
        {
          "output_type": "stream",
          "name": "stdout",
          "text": [
            "Enter side a: 12\n",
            "Enter side b: 33\n",
            "Enter side c: 78\n",
            "The perimeter of the triangle is 123.0\n"
          ]
        }
      ]
    },
    {
      "cell_type": "markdown",
      "source": [
        "# **06 square number**"
      ],
      "metadata": {
        "id": "MCjDKOWmDr-w"
      }
    },
    {
      "cell_type": "code",
      "source": [
        "def main():\n",
        "  user_input = float(input(\"Enter a number: \"))\n",
        "  square = user_input * user_input\n",
        "  print(f\"{user_input} squared is {square}\")\n",
        "\n",
        "if __name__ == \"__main__\":\n",
        "   main()"
      ],
      "metadata": {
        "colab": {
          "base_uri": "https://localhost:8080/"
        },
        "id": "PkN3KLupFfxy",
        "outputId": "838276a1-4e07-443e-aa0f-cda3c1393015"
      },
      "execution_count": null,
      "outputs": [
        {
          "output_type": "stream",
          "name": "stdout",
          "text": [
            "Enter a number: 88\n",
            "88.0 squared is 7744.0\n"
          ]
        }
      ]
    },
    {
      "cell_type": "markdown",
      "source": [
        "# ***01_expressions***"
      ],
      "metadata": {
        "id": "YpPakP8HFwo0"
      }
    },
    {
      "cell_type": "markdown",
      "source": [
        "# **01 dicesimulator**\n"
      ],
      "metadata": {
        "id": "nx2XB60wFoVd"
      }
    },
    {
      "cell_type": "code",
      "source": [
        "import random\n",
        "\n",
        "def die_roll():\n",
        "   die1 = random.randint(1, 6)\n",
        "   die2 = random.randint(1, 6)\n",
        "\n",
        "   print(f\"Die 1: {die1}\")\n",
        "   print(f\"Die 2: {die2}\")\n",
        "   print(f\"Sum of both die: {die1 + die2}\")\n",
        "\n",
        "\n",
        "\n",
        "def main():\n",
        "  die_roll()\n",
        "  die_roll()\n",
        "  die_roll()\n",
        "\n",
        "if __name__ == \"__main__\":\n",
        "  main()\n"
      ],
      "metadata": {
        "colab": {
          "base_uri": "https://localhost:8080/"
        },
        "id": "2RK087aPFtuH",
        "outputId": "da74fad4-5c3d-48fa-eba3-44b1b81b75a2"
      },
      "execution_count": null,
      "outputs": [
        {
          "output_type": "stream",
          "name": "stdout",
          "text": [
            "Die 1: 5\n",
            "Die 2: 3\n",
            "Sum of both die: 8\n",
            "Die 1: 6\n",
            "Die 2: 3\n",
            "Sum of both die: 9\n",
            "Die 1: 5\n",
            "Die 2: 6\n",
            "Sum of both die: 11\n"
          ]
        }
      ]
    },
    {
      "cell_type": "markdown",
      "source": [
        "# **02 e=mc2**"
      ],
      "metadata": {
        "id": "HLmQfVbWIIGo"
      }
    },
    {
      "cell_type": "code",
      "source": [
        "def main():\n",
        "  user_input = float(input(\"Enter mass in KG: \"))\n",
        "  Energy = user_input * 299792458\n",
        "  print(f\"The energy in Joules is {Energy}\")\n",
        "\n",
        "if __name__ == \"__main__\":\n",
        "  main()\n"
      ],
      "metadata": {
        "colab": {
          "base_uri": "https://localhost:8080/"
        },
        "id": "WChUgHRBINgO",
        "outputId": "f7e3bf14-ca2d-4be5-c317-6a1c5135a0bf"
      },
      "execution_count": null,
      "outputs": [
        {
          "output_type": "stream",
          "name": "stdout",
          "text": [
            "Enter mass in KG: 75\n",
            "The energy in Joules is 22484434350.0\n"
          ]
        }
      ]
    },
    {
      "cell_type": "markdown",
      "source": [
        "# **03 feet_to_inches**"
      ],
      "metadata": {
        "id": "S-nGOQPfIvAB"
      }
    },
    {
      "cell_type": "code",
      "source": [
        "def main():\n",
        "  user_input = float(input(\"Enter length in feet: \"))\n",
        "  inches = user_input * 12\n",
        "  print(f\"{user_input} feet = {inches} inches\")\n",
        "\n",
        "if __name__ == \"__main__\":\n",
        "  main()\n"
      ],
      "metadata": {
        "colab": {
          "base_uri": "https://localhost:8080/"
        },
        "id": "Cv71jpSeIx9F",
        "outputId": "7054cad0-81ed-4639-eae4-ec44a6a07c67"
      },
      "execution_count": null,
      "outputs": [
        {
          "output_type": "stream",
          "name": "stdout",
          "text": [
            "Enter length in feet: 4.5\n",
            "4.5 feet = 54.0 inches\n"
          ]
        }
      ]
    },
    {
      "cell_type": "markdown",
      "source": [
        "# **04 pythagorean_theorem**"
      ],
      "metadata": {
        "id": "6vlCS4kbI8pD"
      }
    },
    {
      "cell_type": "code",
      "source": [
        "import math\n",
        "\n",
        "def main():\n",
        "  base = float(input(\"Enter Measure of base: \"))\n",
        "  perpendicular = float(input(\"Enter Measure of perpendicular: \"))\n",
        "\n",
        "  hyp = math.sqrt(base**2 + perpendicular**2)\n",
        "\n",
        "  print(f\"Hypotenuse of triangle having base {base} and perpendicular {perpendicular} is: {hyp}\")\n",
        "\n",
        "if __name__ == \"__main__\":\n",
        "  main()\n"
      ],
      "metadata": {
        "colab": {
          "base_uri": "https://localhost:8080/"
        },
        "id": "fQOeArU0JCS3",
        "outputId": "6f8eb38e-b593-4227-e360-f09c8f031986"
      },
      "execution_count": null,
      "outputs": [
        {
          "output_type": "stream",
          "name": "stdout",
          "text": [
            "Enter Measure of base: 9\n",
            "Enter Measure of perpendicular: 9\n",
            "Hypotenuse of triangle having base 9.0 and perpendicular 9.0 is: 12.727922061357855\n"
          ]
        }
      ]
    },
    {
      "cell_type": "markdown",
      "source": [
        "# **05 remainder_division**"
      ],
      "metadata": {
        "id": "h1bstyGsLNbj"
      }
    },
    {
      "cell_type": "code",
      "source": [
        "def main():\n",
        "  first_num = int(input(\"Enter first number: \"))\n",
        "  second_num = int(input(\"Enter second number: \"))\n",
        "\n",
        "  if second_num == 0:\n",
        "    print(\"Cannot divide by zero\")\n",
        "    return\n",
        "  remainder = first_num % second_num\n",
        "  print(f\"The remainder of {first_num} divided by {second_num} = {remainder}\")\n",
        "if __name__ == \"__main__\":\n",
        "  main()"
      ],
      "metadata": {
        "colab": {
          "base_uri": "https://localhost:8080/"
        },
        "id": "luX-qYH0LRuo",
        "outputId": "0af586b1-d674-4392-ae9e-9c2cf5bf757a"
      },
      "execution_count": null,
      "outputs": [
        {
          "output_type": "stream",
          "name": "stdout",
          "text": [
            "Enter first number: 12\n",
            "Enter second number: 2\n",
            "The remainder of 12 divided by 2 = 0\n"
          ]
        }
      ]
    },
    {
      "cell_type": "markdown",
      "source": [
        "# **06 rolldice**"
      ],
      "metadata": {
        "id": "0U-xbKwwMUrB"
      }
    },
    {
      "cell_type": "code",
      "source": [
        "import random\n",
        "\n",
        "def main():\n",
        "    die_roll()\n",
        "\n",
        "\n",
        "if __name__ == '__main__':\n",
        "    main()\n"
      ],
      "metadata": {
        "colab": {
          "base_uri": "https://localhost:8080/"
        },
        "id": "PaUPKsntMcI2",
        "outputId": "84665fd4-3298-4f06-f830-0e4aa82c47dc"
      },
      "execution_count": null,
      "outputs": [
        {
          "output_type": "stream",
          "name": "stdout",
          "text": [
            "Die 1: 4\n",
            "Die 2: 6\n",
            "Sum of both die: 10\n"
          ]
        }
      ]
    },
    {
      "cell_type": "markdown",
      "source": [
        "# **06 seconds_in_year**\n",
        "\n"
      ],
      "metadata": {
        "id": "XPQHveO6M4Xh"
      }
    },
    {
      "cell_type": "code",
      "source": [
        "DAYS_IN_YEAR = 365\n",
        "HOURS_IN_A_DAY = 24\n",
        "MINIUTES_IN_AN_HOUR = 60\n",
        "SECONDS_IN_A_MINUTE = 60\n",
        "\n",
        "\n",
        "def main():\n",
        "  print(f\"There are {DAYS_IN_YEAR * HOURS_IN_A_DAY * MINIUTES_IN_AN_HOUR * SECONDS_IN_A_MINUTE} seconds in a year\")\n",
        "\n",
        "if __name__ == \"__main__\":\n",
        "  main()"
      ],
      "metadata": {
        "colab": {
          "base_uri": "https://localhost:8080/"
        },
        "id": "dycP8B17NWX3",
        "outputId": "840a7057-15a1-497a-96c6-1338af96eb66"
      },
      "execution_count": null,
      "outputs": [
        {
          "output_type": "stream",
          "name": "stdout",
          "text": [
            "There are 31536000 seconds in a year\n"
          ]
        }
      ]
    },
    {
      "cell_type": "markdown",
      "source": [
        "# **07 tiny_mad_lib**"
      ],
      "metadata": {
        "id": "jTIZVWjbN2WC"
      }
    },
    {
      "cell_type": "code",
      "source": [
        "SENTENCE_START: str = \"Panaversity is fun. I learned to program and used Python to make my \"\n",
        "\n",
        "\n",
        "def main():\n",
        "  adjective: str  = input(\"Enter an adjective: \")\n",
        "  noun: str  = input(\"Enter an noun: \")\n",
        "  verb: str  = input(\"Enter an verb: \")\n",
        "\n",
        "  print(f\"{SENTENCE_START} {adjective} {noun} {verb} \")\n",
        "\n",
        "if __name__ == \"__main__\":\n",
        "  main()"
      ],
      "metadata": {
        "colab": {
          "base_uri": "https://localhost:8080/"
        },
        "id": "14HjtO5zN8IU",
        "outputId": "77727897-e851-47f5-c2b5-21935f77a441"
      },
      "execution_count": null,
      "outputs": [
        {
          "output_type": "stream",
          "name": "stdout",
          "text": [
            "Enter an adjective: naughty\n",
            "Enter an noun: boy\n",
            "Enter an verb: play\n",
            "Panaversity is fun. I learned to program and used Python to make my  naughty boy play \n"
          ]
        }
      ]
    },
    {
      "cell_type": "markdown",
      "source": [
        "# ***02_lists***"
      ],
      "metadata": {
        "id": "9Bej3GMuPICW"
      }
    },
    {
      "cell_type": "markdown",
      "source": [
        "# **01 add_many_number**"
      ],
      "metadata": {
        "id": "_n0iwo0WPA-5"
      }
    },
    {
      "cell_type": "code",
      "source": [
        "def sum_of_many(nums: list) -> int:\n",
        "  return sum(nums)\n",
        "\n",
        "def main():\n",
        "  print(sum([1,2,3,4,5]))\n",
        "\n",
        "if __name__ == \"__main__\":\n",
        "  main()\n"
      ],
      "metadata": {
        "colab": {
          "base_uri": "https://localhost:8080/"
        },
        "id": "XdEOgoAxPGsp",
        "outputId": "62524bcc-d6dd-4e4d-cda1-942474c48096"
      },
      "execution_count": null,
      "outputs": [
        {
          "output_type": "stream",
          "name": "stdout",
          "text": [
            "15\n"
          ]
        }
      ]
    },
    {
      "cell_type": "markdown",
      "source": [
        "# **02_double_list**"
      ],
      "metadata": {
        "id": "shEwYmiOUTfd"
      }
    },
    {
      "cell_type": "code",
      "source": [
        "def main():\n",
        "  num_list = [1,2,3,4,5]\n",
        "\n",
        "  print(f\"list before: {num_list}\")\n",
        "\n",
        "  print(f\"list doubled: {[num + num for num in num_list]}\")\n",
        "\n",
        "if __name__ == \"__main__\":\n",
        "  main()"
      ],
      "metadata": {
        "colab": {
          "base_uri": "https://localhost:8080/"
        },
        "id": "9o7E7joHUVdP",
        "outputId": "fbf7d90c-9338-43c6-c07c-5eaa4ba8d3ba"
      },
      "execution_count": null,
      "outputs": [
        {
          "output_type": "stream",
          "name": "stdout",
          "text": [
            "list before: [1, 2, 3, 4, 5]\n",
            "list doubled: [2, 4, 6, 8, 10]\n"
          ]
        }
      ]
    },
    {
      "cell_type": "markdown",
      "source": [
        "# **03 erase_canvas**"
      ],
      "metadata": {
        "id": "IjNEixijc1eF"
      }
    },
    {
      "cell_type": "code",
      "source": [
        "from graphics import Canvas\n",
        "import time\n",
        "\n",
        "CANVAS_WIDTH : int = 400\n",
        "CANVAS_HEIGHT : int = 400\n",
        "\n",
        "CELL_SIZE : int = 40\n",
        "ERASER_SIZE : int = 20\n",
        "\n",
        "def erase_objects(canvas, eraser):\n",
        "    \"\"\"Erase objects in contact with the eraser\"\"\"\n",
        "    # Get mouse info to help us know which cells to delete\n",
        "    mouse_x = canvas.get_mouse_x()\n",
        "    mouse_y = canvas.get_mouse_y()\n",
        "\n",
        "    # Calculate where our eraser is\n",
        "    left_x = mouse_x\n",
        "    top_y = mouse_y\n",
        "    right_x = left_x + ERASER_SIZE\n",
        "    bottom_y = top_y + ERASER_SIZE\n",
        "\n",
        "    # Find things that overlap with our eraser\n",
        "    overlapping_objects = canvas.find_overlapping(left_x, top_y, right_x, bottom_y)\n",
        "\n",
        "    # For everything that overlaps with our eraser (that isn't our eraser), change\n",
        "    # its color to white\n",
        "    for overlapping_object in overlapping_objects:\n",
        "        if overlapping_object != eraser:\n",
        "            canvas.set_color(overlapping_object, 'white')\n",
        "\n",
        "# There is no need to edit code beyond this point\n",
        "\n",
        "def main():\n",
        "    canvas = Canvas(CANVAS_WIDTH, CANVAS_HEIGHT)\n",
        "\n",
        "    num_rows = CANVAS_HEIGHT // CELL_SIZE  # Figure out how many rows of cells we need\n",
        "    num_cols = CANVAS_WIDTH // CELL_SIZE   # Figure out how many columns of cells we need\n",
        "\n",
        "    # Make a grid of squares based on the number of rows and columns.\n",
        "    # The rows and columns along with our cell size help determine where\n",
        "    # each individual cell belongs in our grid!\n",
        "    for row in range(num_rows):\n",
        "        for col in range(num_cols):\n",
        "            left_x = col * CELL_SIZE\n",
        "            top_y = row * CELL_SIZE\n",
        "            right_x = left_x + CELL_SIZE   # The right coordinate of the cell is CELL_SIZE pixels away from the left\n",
        "            bottom_y = top_y + CELL_SIZE   # The bottom coordinate of the cell is CELL_SIZE pixels away from the top\n",
        "\n",
        "            # Create a single cell in the grid\n",
        "            cell = canvas.create_rectangle(left_x, top_y, right_x, bottom_y, 'blue')\n",
        "\n",
        "\n",
        "    canvas.wait_for_click()  # Wait for the user to click before creating the eraser\n",
        "\n",
        "    last_click_x, last_click_y = canvas.get_last_click()  # Get the starting location for the eraser\n",
        "\n",
        "    # Create our eraser\n",
        "    eraser = canvas.create_rectangle(\n",
        "        last_click_x,\n",
        "        last_click_y,\n",
        "        last_click_x + ERASER_SIZE,\n",
        "        last_click_y + ERASER_SIZE,\n",
        "        'pink'\n",
        "    )\n",
        "\n",
        "    # Move the eraser, and erase what it's touching\n",
        "    while True:\n",
        "        # Get where our mouse is and move the eraser to there\n",
        "        mouse_x = canvas.get_mouse_x()\n",
        "        mouse_y = canvas.get_mouse_y()\n",
        "        canvas.moveto(eraser, mouse_x, mouse_y)\n",
        "\n",
        "        # Erase anything touching the eraser\n",
        "        erase_objects(canvas, eraser)\n",
        "\n",
        "        time.sleep(0.05)\n",
        "\n",
        "\n",
        "if __name__ == '__main__':\n",
        "    main()"
      ],
      "metadata": {
        "colab": {
          "base_uri": "https://localhost:8080/",
          "height": 385
        },
        "id": "S8ALvmizc5d5",
        "outputId": "3a7627b4-87f4-4122-abd9-90dc20cfd775"
      },
      "execution_count": null,
      "outputs": [
        {
          "output_type": "error",
          "ename": "ModuleNotFoundError",
          "evalue": "No module named 'graphics'",
          "traceback": [
            "\u001b[0;31m---------------------------------------------------------------------------\u001b[0m",
            "\u001b[0;31mModuleNotFoundError\u001b[0m                       Traceback (most recent call last)",
            "\u001b[0;32m<ipython-input-2-fe2cd1c6f4c4>\u001b[0m in \u001b[0;36m<cell line: 0>\u001b[0;34m()\u001b[0m\n\u001b[0;32m----> 1\u001b[0;31m \u001b[0;32mfrom\u001b[0m \u001b[0mgraphics\u001b[0m \u001b[0;32mimport\u001b[0m \u001b[0mCanvas\u001b[0m\u001b[0;34m\u001b[0m\u001b[0;34m\u001b[0m\u001b[0m\n\u001b[0m\u001b[1;32m      2\u001b[0m \u001b[0;32mimport\u001b[0m \u001b[0mtime\u001b[0m\u001b[0;34m\u001b[0m\u001b[0;34m\u001b[0m\u001b[0m\n\u001b[1;32m      3\u001b[0m \u001b[0;34m\u001b[0m\u001b[0m\n\u001b[1;32m      4\u001b[0m \u001b[0mCANVAS_WIDTH\u001b[0m \u001b[0;34m:\u001b[0m \u001b[0mint\u001b[0m \u001b[0;34m=\u001b[0m \u001b[0;36m400\u001b[0m\u001b[0;34m\u001b[0m\u001b[0;34m\u001b[0m\u001b[0m\n\u001b[1;32m      5\u001b[0m \u001b[0mCANVAS_HEIGHT\u001b[0m \u001b[0;34m:\u001b[0m \u001b[0mint\u001b[0m \u001b[0;34m=\u001b[0m \u001b[0;36m400\u001b[0m\u001b[0;34m\u001b[0m\u001b[0;34m\u001b[0m\u001b[0m\n",
            "\u001b[0;31mModuleNotFoundError\u001b[0m: No module named 'graphics'",
            "",
            "\u001b[0;31m---------------------------------------------------------------------------\u001b[0;32m\nNOTE: If your import is failing due to a missing package, you can\nmanually install dependencies using either !pip or !apt.\n\nTo view examples of installing some common dependencies, click the\n\"Open Examples\" button below.\n\u001b[0;31m---------------------------------------------------------------------------\u001b[0m\n"
          ],
          "errorDetails": {
            "actions": [
              {
                "action": "open_url",
                "actionText": "Open Examples",
                "url": "/notebooks/snippets/importing_libraries.ipynb"
              }
            ]
          }
        }
      ]
    },
    {
      "cell_type": "markdown",
      "source": [
        "# **04 flowing_with_data_structures**"
      ],
      "metadata": {
        "id": "Wf2r5C8EiWdD"
      }
    },
    {
      "cell_type": "code",
      "source": [
        "def add_three_copies(li: list, data):\n",
        "  li.append(data)\n",
        "  li.append(data)\n",
        "  li.append(data)\n",
        "\n",
        "\n",
        "def num_without_return(x: int):\n",
        "  x += 10\n",
        "\n",
        "def num_with_return(x: int) -> int:\n",
        "  x+= 10\n",
        "  return x\n",
        "\n",
        "def main():\n",
        "\n",
        "  my_list = []\n",
        "  variable = 5\n",
        "\n",
        "  # num_without_return(variable)  #didn't modified the variable\n",
        "\n",
        "  variable = num_with_return(variable)\n",
        "\n",
        "  add_three_copies(my_list, \"Hello\")\n",
        "\n",
        "  print(variable)\n",
        "  print(my_list)\n",
        "\n",
        "\n",
        "if __name__ == \"__main__\":\n",
        "  main()\n",
        "\n",
        "\n",
        "\n"
      ],
      "metadata": {
        "colab": {
          "base_uri": "https://localhost:8080/"
        },
        "id": "in218pd8iv4v",
        "outputId": "1ca85fb4-47dc-4203-ae29-5fb5ffc4a58c"
      },
      "execution_count": null,
      "outputs": [
        {
          "output_type": "stream",
          "name": "stdout",
          "text": [
            "15\n",
            "['Hello', 'Hello', 'Hello']\n"
          ]
        }
      ]
    },
    {
      "cell_type": "markdown",
      "source": [
        "# **05 get_first_element**"
      ],
      "metadata": {
        "id": "ApdXIdiRtPpv"
      }
    },
    {
      "cell_type": "code",
      "source": [
        "def get_first_element(lst: list):\n",
        "  print(lst[0])\n",
        "\n",
        "\n",
        "def main():\n",
        "  this_is_a_list = []\n",
        "\n",
        "  while True:\n",
        "    user_input = input(\"Enter a value to add in the list, 'PRESS ENTER WHEN YOU ARE DONE' : \")\n",
        "    if user_input == \"\":\n",
        "      break\n",
        "    this_is_a_list.append(user_input)\n",
        "\n",
        "  if len(this_is_a_list) == 0:\n",
        "    print(\"list is empty\")\n",
        "  get_first_element(this_is_a_list)\n",
        "\n",
        "if __name__ == \"__main__\":\n",
        "  main()\n"
      ],
      "metadata": {
        "colab": {
          "base_uri": "https://localhost:8080/"
        },
        "id": "hmvv9tGYtxTi",
        "outputId": "012bc0d3-66cd-4739-8765-2b0dabc73e75"
      },
      "execution_count": null,
      "outputs": [
        {
          "output_type": "stream",
          "name": "stdout",
          "text": [
            "Enter a value to add in the list, 'PRESS ENTER WHEN YOU ARE DONE' : hello\n",
            "Enter a value to add in the list, 'PRESS ENTER WHEN YOU ARE DONE' : 1\n",
            "Enter a value to add in the list, 'PRESS ENTER WHEN YOU ARE DONE' : two\n",
            "Enter a value to add in the list, 'PRESS ENTER WHEN YOU ARE DONE' : 3\n",
            "Enter a value to add in the list, 'PRESS ENTER WHEN YOU ARE DONE' : \n",
            "hello\n"
          ]
        }
      ]
    },
    {
      "cell_type": "markdown",
      "source": [
        "# **06_get_last_element**"
      ],
      "metadata": {
        "id": "8qtvvkwNvd_P"
      }
    },
    {
      "cell_type": "code",
      "source": [
        "def get_last_element(lst: list):\n",
        "  print(lst.pop(), \"last element\")\n",
        "\n",
        "\n",
        "def main():\n",
        "  this_is_a_list = []\n",
        "\n",
        "  while True:\n",
        "    user_input = input(\"Enter a value to add in the list, 'PRESS ENTER WHEN YOU ARE DONE' : \")\n",
        "    if user_input == \"\":\n",
        "      break\n",
        "    this_is_a_list.append(user_input)\n",
        "\n",
        "  if len(this_is_a_list) == 0:\n",
        "    print(\"list is empty\")\n",
        "  get_last_element(this_is_a_list)\n",
        "\n",
        "if __name__ == \"__main__\":\n",
        "  main()\n"
      ],
      "metadata": {
        "colab": {
          "base_uri": "https://localhost:8080/"
        },
        "id": "7Gsm7WcEvzdM",
        "outputId": "5b8fbcaa-a2e2-4191-fd67-23d14d22f78b"
      },
      "execution_count": null,
      "outputs": [
        {
          "output_type": "stream",
          "name": "stdout",
          "text": [
            "Enter a value to add in the list, 'PRESS ENTER WHEN YOU ARE DONE' : hello ]\n",
            "Enter a value to add in the list, 'PRESS ENTER WHEN YOU ARE DONE' : world\n",
            "Enter a value to add in the list, 'PRESS ENTER WHEN YOU ARE DONE' : \n",
            "world last element\n"
          ]
        }
      ]
    },
    {
      "cell_type": "markdown",
      "source": [
        "# **07 get_list**"
      ],
      "metadata": {
        "id": "uhSb_FB5xDGC"
      }
    },
    {
      "cell_type": "code",
      "source": [
        "def main():\n",
        "  li= []\n",
        "  while True:\n",
        "    user_input: str = input(\"Enter value to be added in the list: 'PRESS ENTER WHEN YOU ARE DONE' : \")\n",
        "    if user_input == \"\":\n",
        "      print(li)\n",
        "      break\n",
        "    li.append(user_input)\n",
        "\n",
        "if __name__ == \"__main__\":\n",
        "  main()"
      ],
      "metadata": {
        "colab": {
          "base_uri": "https://localhost:8080/"
        },
        "id": "QM8x4EutxJJW",
        "outputId": "113f01ed-d3ae-41da-99ab-3462f46de84c"
      },
      "execution_count": null,
      "outputs": [
        {
          "output_type": "stream",
          "name": "stdout",
          "text": [
            "Enter value to be added in the list: 'PRESS ENTER WHEN YOU ARE DONE' : hello\n",
            "Enter value to be added in the list: 'PRESS ENTER WHEN YOU ARE DONE' : world\n",
            "Enter value to be added in the list: 'PRESS ENTER WHEN YOU ARE DONE' : how\n",
            "Enter value to be added in the list: 'PRESS ENTER WHEN YOU ARE DONE' : are \n",
            "Enter value to be added in the list: 'PRESS ENTER WHEN YOU ARE DONE' : you\n",
            "Enter value to be added in the list: 'PRESS ENTER WHEN YOU ARE DONE' : \n",
            "['hello', 'world', 'how', 'are ', 'you']\n"
          ]
        }
      ]
    },
    {
      "cell_type": "markdown",
      "source": [
        "# **08 shorten**"
      ],
      "metadata": {
        "id": "nj9QBsqsxrN8"
      }
    },
    {
      "cell_type": "code",
      "source": [
        "MAX_LENGTH = 4\n",
        "def shorten(lst):\n",
        "  while len(lst) >= MAX_LENGTH:\n",
        "    popped_item =  lst.pop()\n",
        "    print(f\"\\nPopped {popped_item}\")\n",
        "  print(lst)\n",
        "\n",
        "\n",
        "def main():\n",
        "  li = []\n",
        "  while True:\n",
        "    user_input: str = input(\"Enter value to be added in the list: 'PRESS ENTER WHEN YOU ARE DONE' : \")\n",
        "    if user_input == \"\":\n",
        "      break\n",
        "    li.append(user_input)\n",
        "\n",
        "  shorten(li)\n",
        "\n",
        "\n",
        "if __name__ == \"__main__\":\n",
        "  main()\n"
      ],
      "metadata": {
        "colab": {
          "base_uri": "https://localhost:8080/"
        },
        "id": "I8v4vUx6xvyz",
        "outputId": "f054d584-e74f-4cfc-838b-0000d5001cad"
      },
      "execution_count": null,
      "outputs": [
        {
          "output_type": "stream",
          "name": "stdout",
          "text": [
            "Enter value to be added in the list: 'PRESS ENTER WHEN YOU ARE DONE' : 1\n",
            "Enter value to be added in the list: 'PRESS ENTER WHEN YOU ARE DONE' : 2\n",
            "Enter value to be added in the list: 'PRESS ENTER WHEN YOU ARE DONE' : 4\n",
            "Enter value to be added in the list: 'PRESS ENTER WHEN YOU ARE DONE' : 5\n",
            "Enter value to be added in the list: 'PRESS ENTER WHEN YOU ARE DONE' : 3\n",
            "Enter value to be added in the list: 'PRESS ENTER WHEN YOU ARE DONE' : \n",
            "\n",
            "Popped 3\n",
            "\n",
            "Popped 5\n",
            "['1', '2', '4']\n"
          ]
        }
      ]
    },
    {
      "cell_type": "markdown",
      "source": [
        "# ***03_if_statements***"
      ],
      "metadata": {
        "id": "hhhC-Kz9zVDv"
      }
    },
    {
      "cell_type": "markdown",
      "source": [
        "# **01 print_events**"
      ],
      "metadata": {
        "id": "HdYt91AYzPmn"
      }
    },
    {
      "cell_type": "code",
      "source": [
        "def main():\n",
        "  i = 0\n",
        "  while i < 20:\n",
        "    print(i * 2, end=\" \")\n",
        "    i += 1\n",
        "\n",
        "if __name__ == \"__main__\":\n",
        "  main()"
      ],
      "metadata": {
        "colab": {
          "base_uri": "https://localhost:8080/"
        },
        "id": "swZeUOhTzTaQ",
        "outputId": "9370e66e-0713-494e-90c9-efa6c331cbb7"
      },
      "execution_count": null,
      "outputs": [
        {
          "output_type": "stream",
          "name": "stdout",
          "text": [
            "0 2 4 6 8 10 12 14 16 18 20 22 24 26 28 30 32 34 36 38 40 "
          ]
        }
      ]
    },
    {
      "cell_type": "markdown",
      "source": [
        "# **02 international_voting_age**"
      ],
      "metadata": {
        "id": "6G3x32pE2qfx"
      }
    },
    {
      "cell_type": "code",
      "source": [
        "\n",
        "PETURKSBOUIPO =16\n",
        "STANLAU = 25\n",
        "MAYENGUA = 48\n",
        "\n",
        "\n",
        "def main():\n",
        "  age : int = int(input(\"Enter your age: \"))\n",
        "\n",
        "  if age >= PETURKSBOUIPO and age < STANLAU:\n",
        "    print(\"You are eligible to vote in PETURKSBOUIPO, but not in STANLAU & MAYENGUA\")\n",
        "  elif age >= STANLAU and age < MAYENGUA:\n",
        "    print(\"You are eligible to vote in STANLAU & PETURKSBOUIPO but not in MAYENGUA\")\n",
        "  elif age >= MAYENGUA:\n",
        "    print(\"You are eligible to vote in MAYENGUA, STANLAU & PETURKSBOUIPO \")\n",
        "  else:\n",
        "    print(\" you can't vote, WAIT FOR YOUR TIME\")\n",
        "\n",
        "if __name__ == \"__main__\":\n",
        "  main()"
      ],
      "metadata": {
        "colab": {
          "base_uri": "https://localhost:8080/"
        },
        "id": "mbHs6hPK2uEt",
        "outputId": "d6e6461e-7533-4381-ba31-3c2dceaa4e6f"
      },
      "execution_count": null,
      "outputs": [
        {
          "output_type": "stream",
          "name": "stdout",
          "text": [
            "Enter your age: 48\n",
            "You are eligible to vote in MAYENGUA, STANLAU & PETURKSBOUIPO \n"
          ]
        }
      ]
    },
    {
      "cell_type": "markdown",
      "source": [
        "# **03 leap_year**"
      ],
      "metadata": {
        "id": "-WJTxWM_5Re-"
      }
    },
    {
      "cell_type": "code",
      "source": [
        "def main():\n",
        "  year : int = int(input(\"Enter year : \"))\n",
        "\n",
        "  if year % 100 == 0:\n",
        "    print(f\"{year} is not a leap year\")\n",
        "  elif year % 4 == 0:\n",
        "    print(f\"{year} is a leap year!\")\n",
        "  elif year % 400 == 0:\n",
        "    print(f\"{year} is a leap year\")\n",
        "\n",
        "  else:\n",
        "    print(f\"{year} is not a leap year\")\n",
        "\n",
        "if __name__ == \"__main__\":\n",
        "  main()\n"
      ],
      "metadata": {
        "colab": {
          "base_uri": "https://localhost:8080/"
        },
        "id": "RNxZQUk75YUq",
        "outputId": "ff9f1de1-313d-43f8-bea2-06eddd29a475"
      },
      "execution_count": null,
      "outputs": [
        {
          "output_type": "stream",
          "name": "stdout",
          "text": [
            "Enter year : 2024\n",
            "2024 is a leap year!\n"
          ]
        }
      ]
    },
    {
      "cell_type": "markdown",
      "source": [
        "# **04 tall_enough_to_ride**"
      ],
      "metadata": {
        "id": "mFr0w142654_"
      }
    },
    {
      "cell_type": "code",
      "source": [
        "def main():\n",
        "  height = int(input(\"Enter your height: \"))\n",
        "\n",
        "  if height > 50:\n",
        "    print(\"you are eligible for the Ride\")\n",
        "  else:\n",
        "    print(\"you are not Eligible!\")\n",
        "\n",
        "if __name__ == \"__main__\":\n",
        "  main()\n"
      ],
      "metadata": {
        "colab": {
          "base_uri": "https://localhost:8080/"
        },
        "id": "JiQ8Y0dc68hl",
        "outputId": "0bbfc863-a028-4851-c88b-dbab9bafd0ea"
      },
      "execution_count": null,
      "outputs": [
        {
          "output_type": "stream",
          "name": "stdout",
          "text": [
            "Enter your height: 60\n",
            "you are eligible for the Ride\n"
          ]
        }
      ]
    },
    {
      "cell_type": "markdown",
      "source": [
        "# **05 random_numbers**"
      ],
      "metadata": {
        "id": "f4lwyLft_I6F"
      }
    },
    {
      "cell_type": "code",
      "source": [
        "import random\n",
        "\n",
        "def main():\n",
        "  print(random.randint(1, 100))\n",
        "\n",
        "\n",
        "if __name__ == \"__main__\":\n",
        "  main()"
      ],
      "metadata": {
        "colab": {
          "base_uri": "https://localhost:8080/"
        },
        "id": "h2qJDL6r_N5P",
        "outputId": "932e7c25-255e-4701-dd8a-960487266ffb"
      },
      "execution_count": null,
      "outputs": [
        {
          "output_type": "stream",
          "name": "stdout",
          "text": [
            "23\n"
          ]
        }
      ]
    },
    {
      "cell_type": "markdown",
      "source": [
        "# ***04 dictionaries***"
      ],
      "metadata": {
        "id": "peYpqaqsATdh"
      }
    },
    {
      "cell_type": "markdown",
      "source": [
        "# **00 count_nums**"
      ],
      "metadata": {
        "id": "3smqHK6RANuU"
      }
    },
    {
      "cell_type": "code",
      "source": [
        "def main():\n",
        "  num_counter: dict = {}\n",
        "\n",
        "  while True:\n",
        "    user_input = input(\"Enter numbers, 'PRESS ENTER, WHEN DONE': \")\n",
        "    if user_input == \"\":\n",
        "      break\n",
        "    if user_input in num_counter:\n",
        "      num_counter[user_input] += 1\n",
        "    else:\n",
        "      num_counter[user_input] = 1\n",
        "\n",
        "  for key, value in num_counter.items():\n",
        "    print(f\"{key} appeared {value} times\")\n",
        "\n",
        "\n",
        "if __name__ == \"__main__\":\n",
        "    main()\n"
      ],
      "metadata": {
        "colab": {
          "base_uri": "https://localhost:8080/"
        },
        "id": "emwLZgJMAScu",
        "outputId": "b2a9682a-06c2-4bee-b844-02da3a555e51"
      },
      "execution_count": null,
      "outputs": [
        {
          "output_type": "stream",
          "name": "stdout",
          "text": [
            "Enter numbers, 'PRESS ENTER, WHEN DONE': 1\n",
            "Enter numbers, 'PRESS ENTER, WHEN DONE': 1\n",
            "Enter numbers, 'PRESS ENTER, WHEN DONE': 2\n",
            "Enter numbers, 'PRESS ENTER, WHEN DONE': \n",
            "1 appeared 2 times\n",
            "2 appeared 1 times\n"
          ]
        }
      ]
    },
    {
      "cell_type": "markdown",
      "source": [
        "# **01 phonebook**"
      ],
      "metadata": {
        "id": "RzjtUVN8CvW7"
      }
    },
    {
      "cell_type": "code",
      "source": [
        "def phonebook():\n",
        "\n",
        "  phonebook = {}\n",
        "  while True:\n",
        "    print(\"\\n1. Add Contact\")\n",
        "    print(\"2. Lookup Contact\")\n",
        "    print(\"3. Quit\\n\")\n",
        "    choice = input(\"Enter your choice: \")\n",
        "    if choice == \"1\":\n",
        "      while True:\n",
        "        name = input(\"Enter name, 'Hit Enter When done': \")\n",
        "        if name == \"\":\n",
        "          break\n",
        "        phone = input(\"Enter phone number, 'Hit Enter When done': \")\n",
        "        if phone == \"\":\n",
        "          break\n",
        "        phonebook[name] = phone\n",
        "\n",
        "    elif choice == \"2\":\n",
        "      name = input(\"Enter name: \")\n",
        "      if name in phonebook:\n",
        "        print(phonebook[name])\n",
        "      else:\n",
        "        print(\"Contact not found\")\n",
        "\n",
        "    if choice == \"3\":\n",
        "      break\n",
        "\n",
        "\n",
        "\n",
        "\n",
        "def main():\n",
        "  phonebook()\n",
        "\n",
        "if __name__ == \"__main__\":\n",
        "  main()\n"
      ],
      "metadata": {
        "colab": {
          "base_uri": "https://localhost:8080/"
        },
        "id": "7b6DiQy7C1c-",
        "outputId": "8a00b313-8882-4f63-a7ff-216ea2197e55"
      },
      "execution_count": null,
      "outputs": [
        {
          "name": "stdout",
          "output_type": "stream",
          "text": [
            "1. Add Contact\n",
            "2. Lookup Contact\n",
            "3. Quit\n",
            "Enter your choice: 1\n",
            "Enter name: habib\n",
            "Enter phone number: 3343295024\n",
            "Enter name: \n",
            "1. Add Contact\n",
            "2. Lookup Contact\n",
            "3. Quit\n",
            "Enter your choice: 2\n",
            "Enter name: habib\n",
            "3343295024\n",
            "1. Add Contact\n",
            "2. Lookup Contact\n",
            "3. Quit\n",
            "Enter your choice: 3\n"
          ]
        }
      ]
    },
    {
      "cell_type": "markdown",
      "source": [
        "# **02 pop_up_shop**"
      ],
      "metadata": {
        "id": "XG_0Wf2rHaB0"
      }
    },
    {
      "cell_type": "code",
      "source": [
        "fruits = {\n",
        "\n",
        "          \"apple\":200,\n",
        "          \"orange\":300,\n",
        "          \"kela\": 200\n",
        "}\n",
        "\n",
        "\n",
        "def purchase_fruit():\n",
        "\n",
        "  total_price = 0\n",
        "  for key, value in fruits.items():\n",
        "    fruit_quantity = int(input(f\"How many {key} you want: \"))\n",
        "    total_price += fruit_quantity * value\n",
        "\n",
        "  print(f\"Total price: {total_price}\")\n",
        "\n",
        "\n",
        "def main():\n",
        "  purchase_fruit()\n",
        "\n",
        "if __name__ == \"__main__\":\n",
        "  main()\n"
      ],
      "metadata": {
        "colab": {
          "base_uri": "https://localhost:8080/"
        },
        "id": "WMGWCLkNHfMB",
        "outputId": "5bc63234-de24-4da3-f8ab-560f90ce814a"
      },
      "execution_count": null,
      "outputs": [
        {
          "output_type": "stream",
          "name": "stdout",
          "text": [
            "How many apple you want: 2\n",
            "Total price: 400\n",
            "How many orange you want: 3\n",
            "Total price: 1300\n",
            "How many kela you want: 1\n",
            "Total price: 1500\n"
          ]
        }
      ]
    },
    {
      "cell_type": "markdown",
      "source": [
        "# **03 powerful_passwords**"
      ],
      "metadata": {
        "id": "Hrdi9FXAL369"
      }
    },
    {
      "cell_type": "code",
      "source": [
        "from hashlib import sha256\n",
        "\n",
        "\n",
        "def login(email, password_to_check, stored_credentials):\n",
        "\n",
        "  if stored_credentials[email] == convert_to_hash(password_to_check):\n",
        "    print(\"Login successful\")\n",
        "  else:\n",
        "    print(\"Login failed\")\n",
        "\n",
        "\n",
        "def convert_to_hash(password):\n",
        "  return sha256(password.encode()).hexdigest()\n",
        "\n",
        "def main():\n",
        "  stored_credentials = {\n",
        "      \"habib@khatarnak.com\":\"2cf24dba5fb0a30e26e83b2ac5b9e29e1b161e5c1fa7425e73043362938b9824\",\n",
        "      \"newworldorder@gmail.com\": \"5e884898da28047151d0e56f8dc6292773603d0d6aabbdd62a11ef721d1542d8\"\n",
        "  }\n",
        "\n",
        "  password = input(\"Enter password: \")\n",
        "\n",
        "  email = input(\"Enter email: \")\n",
        "\n",
        "  login(email, password, stored_credentials)\n",
        "\n",
        "\n",
        "if __name__ == \"__main__\":\n",
        "  main()\n",
        "\n"
      ],
      "metadata": {
        "id": "bJoqHXqoL8Gf",
        "colab": {
          "base_uri": "https://localhost:8080/"
        },
        "outputId": "346e0f8f-1b56-4c93-e843-7ebcb3fb25ff"
      },
      "execution_count": 21,
      "outputs": [
        {
          "output_type": "stream",
          "name": "stdout",
          "text": [
            "Enter password: hello\n",
            "Enter email: habib@khatarnak.com\n",
            "Login successful\n"
          ]
        }
      ]
    },
    {
      "cell_type": "markdown",
      "source": [
        "# ***05 loops_control_flow***"
      ],
      "metadata": {
        "id": "oYn88CVAFTdR"
      }
    },
    {
      "cell_type": "markdown",
      "source": [
        "# **00 guess_my_number**"
      ],
      "metadata": {
        "id": "nux_ZWvXFQBT"
      }
    },
    {
      "cell_type": "code",
      "source": [
        "import random\n",
        "def main():\n",
        "  random_number = random.randint(1,100)\n",
        "  while True:\n",
        "    user_input = int(input(\"\\nGuess the number Between 1 to 100: \"))\n",
        "    if user_input == random_number:\n",
        "      print(\"\\n🤓 Congrats! you guessed it right.\")\n",
        "      break\n",
        "\n",
        "    if user_input > random_number:\n",
        "      print(\"\\nToo high, guess a smaller one\")\n",
        "\n",
        "    if user_input <random_number:\n",
        "      print(\"\\nToo low, guess a greater one.\")\n",
        "\n",
        "\n",
        "if __name__ == \"__main__\":\n",
        "  main()\n"
      ],
      "metadata": {
        "colab": {
          "base_uri": "https://localhost:8080/"
        },
        "id": "b-yBjXmeFSkz",
        "outputId": "b3bb4508-ec14-4127-8954-4876a328f2c5"
      },
      "execution_count": 24,
      "outputs": [
        {
          "output_type": "stream",
          "name": "stdout",
          "text": [
            "Guess the number Between 1 to 1005\n",
            "Too low, guess a greater one.\n",
            "Guess the number Between 1 to 10010\n",
            "Too low, guess a greater one.\n",
            "Guess the number Between 1 to 10050\n",
            "Too high, guess a smaller one\n",
            "Guess the number Between 1 to 10040\n",
            "Too high, guess a smaller one\n",
            "Guess the number Between 1 to 10035\n",
            "Too low, guess a greater one.\n",
            "Guess the number Between 1 to 10038\n",
            "Too low, guess a greater one.\n",
            "Guess the number Between 1 to 10039\n",
            "🤓 Congrats! you guessed it right.\n"
          ]
        }
      ]
    },
    {
      "cell_type": "markdown",
      "source": [
        "# **01 fibonacci**"
      ],
      "metadata": {
        "id": "0NDP99wxHHCB"
      }
    },
    {
      "cell_type": "code",
      "source": [
        "LIMIT = 10000\n",
        "\n",
        "def febonacci_generator():\n",
        "\n",
        "  curr, next = 0, 1\n",
        "\n",
        "  while curr <= LIMIT:\n",
        "    new_term = curr + next\n",
        "\n",
        "    if new_term >= LIMIT:\n",
        "      break\n",
        "\n",
        "    print(new_term, end=\" \")\n",
        "    curr, next = next, new_term\n",
        "\n",
        "def main():\n",
        "  febonacci_generator()\n",
        "\n",
        "if __name__ == \"__main__\":\n",
        "  main()\n",
        "\n"
      ],
      "metadata": {
        "colab": {
          "base_uri": "https://localhost:8080/"
        },
        "id": "rVmObnCwHNst",
        "outputId": "ffa4791c-1b56-443b-bbea-68fc85280ff4"
      },
      "execution_count": 34,
      "outputs": [
        {
          "output_type": "stream",
          "name": "stdout",
          "text": [
            "1 2 3 5 8 13 21 34 55 89 144 233 377 610 987 1597 2584 4181 6765 "
          ]
        }
      ]
    },
    {
      "cell_type": "markdown",
      "source": [
        "# **02 print_events**"
      ],
      "metadata": {
        "id": "KetojKGDKxW6"
      }
    },
    {
      "cell_type": "code",
      "source": [
        "def main():\n",
        "  for even in range(0, 20):\n",
        "    print(even * 2, end=\" \")\n",
        "\n",
        "\n",
        "if __name__ == \"__main__\":\n",
        "  main()"
      ],
      "metadata": {
        "colab": {
          "base_uri": "https://localhost:8080/"
        },
        "id": "pAwQFs2vK44_",
        "outputId": "b73ef405-392d-4830-a91b-4a2cd434c865"
      },
      "execution_count": 40,
      "outputs": [
        {
          "output_type": "stream",
          "name": "stdout",
          "text": [
            "0 2 4 6 8 10 12 14 16 18 20 22 24 26 28 30 32 34 36 38 "
          ]
        }
      ]
    },
    {
      "cell_type": "markdown",
      "source": [
        "# **03 wholesome_machine**"
      ],
      "metadata": {
        "id": "6WqxzvNgLcGm"
      }
    },
    {
      "cell_type": "code",
      "source": [
        "AFFIRMATION : str = \"I am capable of doing anything I put my mind to.\"\n",
        "\n",
        "def main():\n",
        "  while True:\n",
        "    print( f\"\\nPlease type: {AFFIRMATION}\" )\n",
        "    user_input = input(\"\")\n",
        "\n",
        "    if user_input == AFFIRMATION:\n",
        "      break\n",
        "    else:\n",
        "      continue\n",
        "if __name__ == \"__main__\":\n",
        "  main()"
      ],
      "metadata": {
        "colab": {
          "base_uri": "https://localhost:8080/"
        },
        "id": "N1KdNDBfLh5u",
        "outputId": "3b315342-cfcb-4ff1-f749-5b4d4e5b5486"
      },
      "execution_count": 44,
      "outputs": [
        {
          "name": "stdout",
          "output_type": "stream",
          "text": [
            "\n",
            "Please type: I am capable of doing anything I put my mind to.\n",
            "helo world\n",
            "\n",
            "Please type: I am capable of doing anything I put my mind to.\n",
            "I am capable of doing anything I put my mind to.\n"
          ]
        }
      ]
    },
    {
      "cell_type": "markdown",
      "source": [
        "# **04 liftoff**"
      ],
      "metadata": {
        "id": "fEdy02VfM0SX"
      }
    },
    {
      "cell_type": "code",
      "source": [
        "import time\n",
        "def main():\n",
        "\n",
        "  for i in range(10,0, -1):\n",
        "    print(i)\n",
        "    time.sleep(1)\n",
        "  print(\"Lift Off 👺\")\n",
        "\n",
        "if __name__ == \"__main__\":\n",
        "  main()\n"
      ],
      "metadata": {
        "colab": {
          "base_uri": "https://localhost:8080/"
        },
        "id": "4RpzMUffM4un",
        "outputId": "fb862bda-152a-4f65-97c4-6e0fed6b133d"
      },
      "execution_count": 51,
      "outputs": [
        {
          "output_type": "stream",
          "name": "stdout",
          "text": [
            "10\n",
            "9\n",
            "8\n",
            "7\n",
            "6\n",
            "5\n",
            "4\n",
            "3\n",
            "2\n",
            "1\n",
            "Lift Off 👺\n"
          ]
        }
      ]
    },
    {
      "cell_type": "markdown",
      "source": [
        "# **05 double_it**"
      ],
      "metadata": {
        "id": "7-_Pm-xFO2Na"
      }
    },
    {
      "cell_type": "code",
      "source": [
        "def main():\n",
        "  user_input = int(input(\"Enter a number to double it.\"))\n",
        "  curr_value = user_input *2\n",
        "  print(curr_value)\n",
        "  while curr_value <= 100:\n",
        "    curr_value *= 2\n",
        "    print(curr_value)\n",
        "\n",
        "if __name__ == \"__main__\":\n",
        "  main()\n"
      ],
      "metadata": {
        "colab": {
          "base_uri": "https://localhost:8080/"
        },
        "id": "bmlaeUjlO7Sz",
        "outputId": "4eecb245-d1f8-4684-aec0-4e76be1cb308"
      },
      "execution_count": 53,
      "outputs": [
        {
          "output_type": "stream",
          "name": "stdout",
          "text": [
            "Enter a number to double it.2\n",
            "4\n",
            "8\n",
            "16\n",
            "32\n",
            "64\n",
            "128\n"
          ]
        }
      ]
    },
    {
      "cell_type": "markdown",
      "source": [
        "# ***06_functions***"
      ],
      "metadata": {
        "id": "_853iM95QuTF"
      }
    },
    {
      "cell_type": "markdown",
      "source": [
        "# **00 averages**"
      ],
      "metadata": {
        "id": "0agd2swlQmqx"
      }
    },
    {
      "cell_type": "code",
      "source": [
        "def averages(num1, num2):\n",
        "  return (num1 + num2) / 2\n",
        "\n",
        "def main():\n",
        "  print(averages(2.5, 4))\n",
        "\n",
        "if __name__ == \"__main__\":\n",
        "  main()"
      ],
      "metadata": {
        "colab": {
          "base_uri": "https://localhost:8080/"
        },
        "id": "ZAFgQd54QtjS",
        "outputId": "c1e445ad-e14c-40d3-e425-43244c0699a5"
      },
      "execution_count": 5,
      "outputs": [
        {
          "output_type": "stream",
          "name": "stdout",
          "text": [
            "3.25\n"
          ]
        }
      ]
    },
    {
      "cell_type": "markdown",
      "source": [
        "# **01 chaotic_counting**"
      ],
      "metadata": {
        "id": "e4yj6XU-grDL"
      }
    },
    {
      "cell_type": "code",
      "source": [
        "import random\n",
        "\n",
        "DONE_LIKELIHOOD = 0.2\n",
        "\n",
        "def done():\n",
        "    return random.random() < DONE_LIKELIHOOD\n",
        "\n",
        "def chaotic_counting():\n",
        "    \"\"\"Prints numbers from 1 to 10, but may stop early if done() returns True.\"\"\"\n",
        "    for i in range(1, 11):\n",
        "        if done():\n",
        "            return  # Stop the function immediately if done() is True.\n",
        "        print(i)\n",
        "\n",
        "def main():\n",
        "    chaotic_counting()\n",
        "    print(\"I'm done.\")\n",
        "\n",
        "if __name__ == '__main__':\n",
        "    main()\n"
      ],
      "metadata": {
        "colab": {
          "base_uri": "https://localhost:8080/"
        },
        "id": "vkdaKRMJgtNT",
        "outputId": "a39f2bb3-ab8a-44ec-e33d-9b4cd2d789f2"
      },
      "execution_count": 15,
      "outputs": [
        {
          "output_type": "stream",
          "name": "stdout",
          "text": [
            "I'm done.\n"
          ]
        }
      ]
    },
    {
      "cell_type": "markdown",
      "source": [
        "# **02_count_even**"
      ],
      "metadata": {
        "id": "8et6PZT3i__C"
      }
    },
    {
      "cell_type": "code",
      "source": [
        "def main():\n",
        "  lst = []\n",
        "  while True:\n",
        "    user_input = input(\"Enter numbers, 'PRESS ENTER WHEN DONE': \")\n",
        "    if user_input == \"\":\n",
        "      break\n",
        "    lst.append(int(user_input))\n",
        "\n",
        "  even_lst = [num for num in lst if num % 2 == 0]\n",
        "  print(even_lst)\n",
        "\n",
        "if __name__ == \"__main__\":\n",
        "  main()"
      ],
      "metadata": {
        "colab": {
          "base_uri": "https://localhost:8080/"
        },
        "id": "OA3vWvdWjDuU",
        "outputId": "0b599fae-01c2-4970-e45f-5b7cde5a8e24"
      },
      "execution_count": 18,
      "outputs": [
        {
          "output_type": "stream",
          "name": "stdout",
          "text": [
            "Enter numbers, 'PRESS ENTER WHEN DONE': 1\n",
            "Enter numbers, 'PRESS ENTER WHEN DONE': 2\n",
            "Enter numbers, 'PRESS ENTER WHEN DONE': 3\n",
            "Enter numbers, 'PRESS ENTER WHEN DONE': 4\n",
            "Enter numbers, 'PRESS ENTER WHEN DONE': 5\n",
            "Enter numbers, 'PRESS ENTER WHEN DONE': 6\n",
            "Enter numbers, 'PRESS ENTER WHEN DONE': \n",
            "[2, 4, 6]\n"
          ]
        }
      ]
    },
    {
      "cell_type": "markdown",
      "source": [
        "# **04 double**"
      ],
      "metadata": {
        "id": "mwabGD50je0Y"
      }
    },
    {
      "cell_type": "code",
      "source": [
        "def double(num):\n",
        "  return num * 2\n",
        "\n",
        "def main():\n",
        "  user_input = int(input(\"Enter a number: \"))\n",
        "  print(f\"double that is {double(user_input)}\")\n",
        "\n",
        "if __name__ == \"__main__\":\n",
        "  main()\n"
      ],
      "metadata": {
        "colab": {
          "base_uri": "https://localhost:8080/"
        },
        "id": "0S6rlkcsjj-i",
        "outputId": "30a6e228-a54b-4bd8-9441-babefc96e483"
      },
      "execution_count": 20,
      "outputs": [
        {
          "output_type": "stream",
          "name": "stdout",
          "text": [
            "Enter a number: 5\n",
            "double that is 10\n"
          ]
        }
      ]
    },
    {
      "cell_type": "markdown",
      "source": [
        "# **05 get_name**"
      ],
      "metadata": {
        "id": "OgcZAobekC6j"
      }
    },
    {
      "cell_type": "code",
      "source": [
        "def get_name():\n",
        "  return input(\"Enter your name: \")\n",
        "\n",
        "def main():\n",
        "  print(f\"Hello {get_name()} 🤗\")\n",
        "\n",
        "if __name__ == \"__main__\":\n",
        "  main()"
      ],
      "metadata": {
        "colab": {
          "base_uri": "https://localhost:8080/"
        },
        "id": "GxmEIf0ekG9Y",
        "outputId": "7f5c730c-5425-4422-b589-d83844d41970"
      },
      "execution_count": 22,
      "outputs": [
        {
          "output_type": "stream",
          "name": "stdout",
          "text": [
            "Enter your name: habib\n",
            "Hello habib 🤗\n"
          ]
        }
      ]
    },
    {
      "cell_type": "markdown",
      "source": [
        "# **06 is_odd**"
      ],
      "metadata": {
        "id": "9_wkD1UpkfI5"
      }
    },
    {
      "cell_type": "code",
      "source": [
        "def main():\n",
        "  def is_odd(numb: int):\n",
        "    return numb % 2 != 0\n",
        "\n",
        "  for i in range(11):\n",
        "    if is_odd(i):\n",
        "      print(\"is odd {}\".format(i))\n",
        "    else:\n",
        "      print(f\"Is even {i}\")\n",
        "\n",
        "\n",
        "if __name__ == \"__main__\":\n",
        "    main()"
      ],
      "metadata": {
        "colab": {
          "base_uri": "https://localhost:8080/"
        },
        "id": "J4y67y68kjJf",
        "outputId": "67268acf-b587-481b-e305-8e6603f61bc5"
      },
      "execution_count": 31,
      "outputs": [
        {
          "output_type": "stream",
          "name": "stdout",
          "text": [
            "Is even 0\n",
            "is odd 1\n",
            "Is even 2\n",
            "is odd 3\n",
            "Is even 4\n",
            "is odd 5\n",
            "Is even 6\n",
            "is odd 7\n",
            "Is even 8\n",
            "is odd 9\n",
            "Is even 10\n"
          ]
        }
      ]
    },
    {
      "cell_type": "markdown",
      "source": [
        "# **07 print_divisor**"
      ],
      "metadata": {
        "id": "529ZZ84SlqhR"
      }
    },
    {
      "cell_type": "code",
      "source": [
        "def print_divisors(num):\n",
        "  print(f\"Divisors of {num} are: \")\n",
        "  for i in range(1, num + 1):\n",
        "    if num % i == 0:\n",
        "      print(i, end=\" \")\n",
        "\n",
        "def main():\n",
        "  user_input = int(input(\"Enter a number: \"))\n",
        "  print_divisors(user_input)\n",
        "\n",
        "if __name__ == \"__main__\":\n",
        "  main()"
      ],
      "metadata": {
        "colab": {
          "base_uri": "https://localhost:8080/"
        },
        "id": "P2T-SU7XluCm",
        "outputId": "7d983448-90c4-4730-d581-796d29d0da0e"
      },
      "execution_count": 32,
      "outputs": [
        {
          "output_type": "stream",
          "name": "stdout",
          "text": [
            "Enter a number: 100\n",
            "Divisors of 100 are: \n",
            "1 2 4 5 10 20 25 50 100 "
          ]
        }
      ]
    },
    {
      "cell_type": "markdown",
      "source": [
        "# **08 print_multiple**"
      ],
      "metadata": {
        "id": "BJINXj9OmUr9"
      }
    },
    {
      "cell_type": "code",
      "source": [
        "def main():\n",
        "  def print_multiple(message: str, repeats: int):\n",
        "    for _ in range(repeats):\n",
        "      print(message)\n",
        "\n",
        "  print_multiple(\"hello world!\", 10)\n",
        "\n",
        "if __name__ == \"__main__\":\n",
        "  main()"
      ],
      "metadata": {
        "colab": {
          "base_uri": "https://localhost:8080/"
        },
        "id": "TtxW5qHRmYrj",
        "outputId": "9c001a5b-fa8e-458b-bd5f-1008ef958cef"
      },
      "execution_count": 33,
      "outputs": [
        {
          "output_type": "stream",
          "name": "stdout",
          "text": [
            "hello world!\n",
            "hello world!\n",
            "hello world!\n",
            "hello world!\n",
            "hello world!\n",
            "hello world!\n",
            "hello world!\n",
            "hello world!\n",
            "hello world!\n",
            "hello world!\n"
          ]
        }
      ]
    },
    {
      "cell_type": "markdown",
      "source": [
        "# **09 sentence_generator**"
      ],
      "metadata": {
        "id": "OvQr4FbUm52f"
      }
    },
    {
      "cell_type": "code",
      "source": [
        "def make_sentence(word, part_of_speech):\n",
        "  if part_of_speech == 0:\n",
        "        # noun\n",
        "        print(\"I am excited to add this \" + word + \" to my vast collection of them!\")\n",
        "  elif part_of_speech == 1:\n",
        "        # verb\n",
        "        print(\"It's so nice outside today it makes me want to \" + word + \"!\")\n",
        "  elif part_of_speech == 2:\n",
        "        # adjective\n",
        "        print(\"Looking out my window, the sky is big and \" + word + \"!\")\n",
        "  else:\n",
        "        # part_of_speech is invalid (not 0, 1, or 2)\n",
        "        print(\"Part of speech must be 0, 1, or 2! Can't make a sentence.\")\n",
        "\n",
        "\n",
        "def main():\n",
        "  user_input_word = input(\"Enter a word: \")\n",
        "  user_input_part_of_speech = int(input(\"Enter a part of speech (Type 0 for noun, 1 for verb, 2 for adjective): \"))\n",
        "  make_sentence(user_input_word, user_input_part_of_speech)\n",
        "\n",
        "if __name__ == \"__main__\":\n",
        "  main()\n"
      ],
      "metadata": {
        "colab": {
          "base_uri": "https://localhost:8080/"
        },
        "id": "qpYPmebFm-SS",
        "outputId": "1889a500-4e74-43c8-e476-38edab715009"
      },
      "execution_count": 35,
      "outputs": [
        {
          "output_type": "stream",
          "name": "stdout",
          "text": [
            "Enter a word: Processor\n",
            "Enter a part of speech (Type 0 for noun, 1 for verb, 2 for adjective): 0\n",
            "I am excited to add this Processor to my vast collection of them!\n"
          ]
        }
      ]
    },
    {
      "cell_type": "markdown",
      "source": [
        "# **10 print_ones_digit**"
      ],
      "metadata": {
        "id": "yFeTnNPeoM4r"
      }
    },
    {
      "cell_type": "code",
      "source": [
        "def print_ones_digit(num):\n",
        "  return num % 10\n",
        "\n",
        "\n",
        "def main():\n",
        "  user_input = int(input(\"Enter a number, to know its ones digit\"))\n",
        "  print(print_ones_digit(user_input))\n",
        "\n",
        "if __name__ == \"__main__\":\n",
        "  main()"
      ],
      "metadata": {
        "colab": {
          "base_uri": "https://localhost:8080/"
        },
        "id": "bdMZTqzfq8eX",
        "outputId": "f6d2c406-f8d4-4eef-e558-d5f97b2368a4"
      },
      "execution_count": 36,
      "outputs": [
        {
          "output_type": "stream",
          "name": "stdout",
          "text": [
            "Enter a number, to know its ones digit98\n",
            "8\n"
          ]
        }
      ]
    },
    {
      "cell_type": "markdown",
      "source": [
        "# ***07_information_flow***"
      ],
      "metadata": {
        "id": "lLNW5OXusRNL"
      }
    },
    {
      "cell_type": "markdown",
      "source": [
        "# **00 choosing_returns**"
      ],
      "metadata": {
        "id": "qQJ2q1txsOPh"
      }
    },
    {
      "cell_type": "code",
      "source": [
        "ADULT_AGE = 18\n",
        "\n",
        "def main():\n",
        "\n",
        "  def adult_checker(age: int):\n",
        "    return age >= ADULT_AGE\n",
        "\n",
        "\n",
        "  user_input = int(input(\"Enter age to see you are adult or not: \"))\n",
        "  print(adult_checker(user_input))\n",
        "\n",
        "if __name__ == \"__main__\":\n",
        "  main()"
      ],
      "metadata": {
        "colab": {
          "base_uri": "https://localhost:8080/"
        },
        "id": "cCjaZTR0sQd7",
        "outputId": "64907839-2260-4bb5-fac6-593b940d86cf"
      },
      "execution_count": 39,
      "outputs": [
        {
          "output_type": "stream",
          "name": "stdout",
          "text": [
            "Enter age to see you are adult or not: 17\n",
            "False\n"
          ]
        }
      ]
    },
    {
      "cell_type": "markdown",
      "source": [
        "# **01_greetings**"
      ],
      "metadata": {
        "id": "VXgIlI3sttO7"
      }
    },
    {
      "cell_type": "code",
      "source": [
        "def greet(name: str):\n",
        "  print(f\"Hello {name} !☺\")\n",
        "\n",
        "def main():\n",
        "  user_input = input(\"Enter your name: \")\n",
        "  greet(user_input)\n",
        "\n",
        "if __name__ == \"__main__\":\n",
        "  main()\n"
      ],
      "metadata": {
        "colab": {
          "base_uri": "https://localhost:8080/"
        },
        "id": "ttMvmDmLtvU_",
        "outputId": "a7ea2f2f-8bde-4cd0-e08d-a07a97740d5e"
      },
      "execution_count": 41,
      "outputs": [
        {
          "output_type": "stream",
          "name": "stdout",
          "text": [
            "Enter your name: habib\n",
            "Hello habib !☺\n"
          ]
        }
      ]
    },
    {
      "cell_type": "markdown",
      "source": [
        "# **02 in_range**"
      ],
      "metadata": {
        "id": "nrFxFSnRzo7b"
      }
    },
    {
      "cell_type": "code",
      "source": [
        "def in_range(n, low, high):\n",
        "  return low < n < high\n",
        "\n",
        "def main():\n",
        "  print(in_range(10, 5, 15))\n",
        "\n",
        "if __name__ == \"__main__\":\n",
        "  main()"
      ],
      "metadata": {
        "colab": {
          "base_uri": "https://localhost:8080/"
        },
        "id": "ocAMBuEwzuCp",
        "outputId": "30687acb-5441-438a-e897-9fb303657cc8"
      },
      "execution_count": 42,
      "outputs": [
        {
          "output_type": "stream",
          "name": "stdout",
          "text": [
            "True\n"
          ]
        }
      ]
    },
    {
      "cell_type": "markdown",
      "source": [
        "# **03 in_stock**"
      ],
      "metadata": {
        "id": "Or_xrQCw0S7q"
      }
    },
    {
      "cell_type": "code",
      "source": [
        "def num_in_stock(fruit: str):\n",
        "  stock = {\n",
        "      \"apple\": 1000,\n",
        "      \"mango\": 500,\n",
        "      \"banana\": 1200,\n",
        "      \"orange\": 300\n",
        "  }\n",
        "\n",
        "  if fruit in stock:\n",
        "    return f\"{fruit} are {stock[fruit]}, available\"\n",
        "  else:\n",
        "    return f\"{fruit} not in stock\"\n",
        "\n",
        "def main():\n",
        "  user_input = input(\"Enter a fruit to check it's stock: \")\n",
        "  print(num_in_stock(user_input))\n",
        "\n",
        "\n",
        "if __name__ == \"__main__\":\n",
        "  main()"
      ],
      "metadata": {
        "colab": {
          "base_uri": "https://localhost:8080/"
        },
        "id": "f__eZ1Gw0Xd-",
        "outputId": "7c6c01b9-a1a5-4150-818e-73ecaf8631de"
      },
      "execution_count": 44,
      "outputs": [
        {
          "output_type": "stream",
          "name": "stdout",
          "text": [
            "Enter a fruit to check it's stock: mango\n",
            "mango are 500, available\n"
          ]
        }
      ]
    },
    {
      "cell_type": "markdown",
      "source": [
        "# **04 multiple_returns**"
      ],
      "metadata": {
        "id": "Ko56xB_C1hnf"
      }
    },
    {
      "cell_type": "code",
      "source": [
        "def get_user_data():\n",
        "  first_name = input(\"Enter your first name: \")\n",
        "  last_name = input(\"Enter your last name: \")\n",
        "  email = input(\"Enter your email address: \")\n",
        "\n",
        "  return first_name, last_name, email\n",
        "\n",
        "def main():\n",
        "  print(get_user_data())\n",
        "\n",
        "if __name__ == \"__main__\":\n",
        "  main()\n",
        "\n"
      ],
      "metadata": {
        "colab": {
          "base_uri": "https://localhost:8080/"
        },
        "id": "2VvnD_z21mG6",
        "outputId": "2c6ce243-ed71-47d4-82c8-fb4b49a9efe3"
      },
      "execution_count": 46,
      "outputs": [
        {
          "output_type": "stream",
          "name": "stdout",
          "text": [
            "Enter your first name: habib\n",
            "Enter your last name: ullah\n",
            "Enter your email address: habibullah@gmail.com\n",
            "('habib', 'ullah', 'habibullah@gmail.com')\n"
          ]
        }
      ]
    },
    {
      "cell_type": "markdown",
      "source": [
        "# **05 subtract_7**"
      ],
      "metadata": {
        "id": "5sf7oYIj2iHN"
      }
    },
    {
      "cell_type": "code",
      "source": [
        "def  subtract_seven(num):\n",
        "  return num - 7\n",
        "\n",
        "def main():\n",
        "  user_input = int(input(\"Enter a number: \"))\n",
        "  print(subtract_seven(user_input))\n",
        "\n",
        "if __name__ == \"__main__\":\n",
        "  main()"
      ],
      "metadata": {
        "colab": {
          "base_uri": "https://localhost:8080/"
        },
        "id": "4nJk3Rw22nk9",
        "outputId": "124a8487-ab22-466b-8192-af59cf31402d"
      },
      "execution_count": 47,
      "outputs": [
        {
          "output_type": "stream",
          "name": "stdout",
          "text": [
            "Enter a number: 7\n",
            "0\n"
          ]
        }
      ]
    }
  ]
}