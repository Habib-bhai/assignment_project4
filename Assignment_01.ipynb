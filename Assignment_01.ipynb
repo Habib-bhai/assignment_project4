{
  "nbformat": 4,
  "nbformat_minor": 0,
  "metadata": {
    "colab": {
      "provenance": [],
      "authorship_tag": "ABX9TyMUEeln8WDQs1ZMQTJYbFRV",
      "include_colab_link": true
    },
    "kernelspec": {
      "name": "python3",
      "display_name": "Python 3"
    },
    "language_info": {
      "name": "python"
    }
  },
  "cells": [
    {
      "cell_type": "markdown",
      "metadata": {
        "id": "view-in-github",
        "colab_type": "text"
      },
      "source": [
        "<a href=\"https://colab.research.google.com/github/Habib-bhai/assignment_project4/blob/main/Assignment_01.ipynb\" target=\"_parent\"><img src=\"https://colab.research.google.com/assets/colab-badge.svg\" alt=\"Open In Colab\"/></a>"
      ]
    },
    {
      "cell_type": "markdown",
      "source": [
        "# ***01_basics***"
      ],
      "metadata": {
        "id": "ZTVnUY5ZsAqY"
      }
    },
    {
      "cell_type": "markdown",
      "source": [
        "# **00 joke_bot**"
      ],
      "metadata": {
        "id": "t-RlNytrrVij"
      }
    },
    {
      "cell_type": "code",
      "source": [
        "PROMPT = \"What you want?\"\n",
        "JOKE = \"Panaversity GPT - Sophia is heading out to the grocery store. A programmer tells her: get a liter of milk, and if they have eggs, get 12. Sophia returns with 13 liters of milk. The programmer asks why and Sophia replies: 'because they had eggs\"\n",
        "SORRY = \"SORRY, I ONLY TELL JOKES\"\n",
        "def main():\n",
        "  user_input = input(PROMPT).lower()\n",
        "  if user_input == \"joke\":\n",
        "    print(JOKE)\n",
        "  else:\n",
        "    print(SORRY)\n",
        "main()\n",
        "\n"
      ],
      "metadata": {
        "colab": {
          "base_uri": "https://localhost:8080/"
        },
        "id": "ksS77xMsrX8g",
        "outputId": "a88e03c9-b4ac-43d2-d2ed-7f7ea454aad6"
      },
      "execution_count": 4,
      "outputs": [
        {
          "output_type": "stream",
          "name": "stdout",
          "text": [
            "What you want?joKe\n",
            "Panaversity GPT - Sophia is heading out to the grocery store. A programmer tells her: get a liter of milk, and if they have eggs, get 12. Sophia returns with 13 liters of milk. The programmer asks why and Sophia replies: 'because they had eggs\n"
          ]
        }
      ]
    },
    {
      "cell_type": "markdown",
      "source": [
        "# **01_double_it**"
      ],
      "metadata": {
        "id": "86sPSlUCsHw8"
      }
    },
    {
      "cell_type": "code",
      "source": [
        "def double_it_until_100():\n",
        "  user_input = int(input(\"Enter a number to double it: \"))\n",
        "  while user_input <= 100:\n",
        "    user_input *= 2\n",
        "    print(user_input)\n",
        "\n",
        "double_it_until_100()"
      ],
      "metadata": {
        "colab": {
          "base_uri": "https://localhost:8080/"
        },
        "id": "4cbMowX_sMVB",
        "outputId": "9742452b-965a-404b-e509-7a0913abcff5"
      },
      "execution_count": 8,
      "outputs": [
        {
          "output_type": "stream",
          "name": "stdout",
          "text": [
            "Enter a number to double it: 5\n",
            "10\n",
            "20\n",
            "40\n",
            "80\n",
            "160\n"
          ]
        }
      ]
    },
    {
      "cell_type": "markdown",
      "source": [
        "# **02 liftoff**"
      ],
      "metadata": {
        "id": "9iF_R1gxvU3I"
      }
    },
    {
      "cell_type": "code",
      "source": [
        "import time\n",
        "def liftoff(x:int):\n",
        "  for countdown in range(x, 0, -1):\n",
        "    print(countdown)\n",
        "    time.sleep(1)\n",
        "  print(\"LiftOff 🚀\")\n",
        "\n",
        "liftoff(10)\n"
      ],
      "metadata": {
        "colab": {
          "base_uri": "https://localhost:8080/"
        },
        "id": "Ud5v3oMLvZJO",
        "outputId": "b1f4e7ed-aff5-48bd-8a68-d00db90ab079"
      },
      "execution_count": 10,
      "outputs": [
        {
          "output_type": "stream",
          "name": "stdout",
          "text": [
            "10\n",
            "9\n",
            "8\n",
            "7\n",
            "6\n",
            "5\n",
            "4\n",
            "3\n",
            "2\n",
            "1\n",
            "LiftOff 🚀\n"
          ]
        }
      ]
    },
    {
      "cell_type": "markdown",
      "source": [
        "# **03 guess_my_number**"
      ],
      "metadata": {
        "id": "M-gR2dauv2tF"
      }
    },
    {
      "cell_type": "code",
      "source": [
        "import random\n",
        "def guess_my_number():\n",
        "  user_input = 0\n",
        "  random_number = random.randint(1, 100)\n",
        "\n",
        "  while user_input != random_number:\n",
        "    user_input = int(input(\"Enter a number between 1 and 100: \"))\n",
        "    if user_input < random_number:\n",
        "      print(f\"{ user_input} Too low, try again\")\n",
        "    else:\n",
        "      print(f\"{ user_input} Too high, try again\")\n",
        "\n",
        "  print(f\"{user_input} Congrats, you guessed it, {random_number}\")\n",
        "\n",
        "\n",
        "guess_my_number()\n"
      ],
      "metadata": {
        "colab": {
          "base_uri": "https://localhost:8080/"
        },
        "id": "cT40lHpNv9AJ",
        "outputId": "af13e1a4-d783-4ccb-f7a3-fc743b95bc46"
      },
      "execution_count": 1,
      "outputs": [
        {
          "output_type": "stream",
          "name": "stdout",
          "text": [
            "Enter a number between 1 and 100: 50\n",
            "50 Too low, try again\n",
            "Enter a number between 1 and 100: 80\n",
            "80 Too low, try again\n",
            "Enter a number between 1 and 100: 90\n",
            "90 Too low, try again\n",
            "Enter a number between 1 and 100: 95\n",
            "95 Too low, try again\n",
            "Enter a number between 1 and 100: 99\n",
            "99 Too high, try again\n",
            "Enter a number between 1 and 100: 98\n",
            "98 Too high, try again\n",
            "98 Congrats, you guessed it, 98\n"
          ]
        }
      ]
    },
    {
      "cell_type": "markdown",
      "source": [
        "# **04_random_numbers**"
      ],
      "metadata": {
        "id": "AVMEiLLjxGF9"
      }
    },
    {
      "cell_type": "code",
      "source": [
        "import random\n",
        "\n",
        "def main():\n",
        "  for _ in range(10):\n",
        "    random_number = random.randint(1, 100)\n",
        "    print(random_number, end=\" \")\n",
        "\n",
        "main()"
      ],
      "metadata": {
        "id": "blwRpmMBxKDx",
        "outputId": "246051d3-c2d8-4db8-db96-6059b76a9b2f",
        "colab": {
          "base_uri": "https://localhost:8080/"
        }
      },
      "execution_count": 12,
      "outputs": [
        {
          "output_type": "stream",
          "name": "stdout",
          "text": [
            "91 45 100 32 92 60 78 79 88 13 "
          ]
        }
      ]
    }
  ]
}