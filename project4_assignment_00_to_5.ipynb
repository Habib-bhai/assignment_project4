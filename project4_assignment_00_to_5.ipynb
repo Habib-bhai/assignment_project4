{
  "nbformat": 4,
  "nbformat_minor": 0,
  "metadata": {
    "colab": {
      "provenance": [],
      "authorship_tag": "ABX9TyP3Nkjznx0kX2ixrEBr5L8s",
      "include_colab_link": true
    },
    "kernelspec": {
      "name": "python3",
      "display_name": "Python 3"
    },
    "language_info": {
      "name": "python"
    }
  },
  "cells": [
    {
      "cell_type": "markdown",
      "metadata": {
        "id": "view-in-github",
        "colab_type": "text"
      },
      "source": [
        "<a href=\"https://colab.research.google.com/github/Habib-bhai/assignment_project4/blob/main/project4_assignment_00_to_5.ipynb\" target=\"_parent\"><img src=\"https://colab.research.google.com/assets/colab-badge.svg\" alt=\"Open In Colab\"/></a>"
      ]
    },
    {
      "cell_type": "markdown",
      "source": [
        "# ***00_intro_python***"
      ],
      "metadata": {
        "id": "__KwG16DFQdF"
      }
    },
    {
      "cell_type": "markdown",
      "source": [
        "# **01 add two numbers**"
      ],
      "metadata": {
        "id": "yO1m0sLXFCi3"
      }
    },
    {
      "cell_type": "code",
      "execution_count": null,
      "metadata": {
        "id": "4wU1oXbAPVgw",
        "colab": {
          "base_uri": "https://localhost:8080/"
        },
        "outputId": "18185743-5ce8-4b6d-f65f-a1b29facf76d"
      },
      "outputs": [
        {
          "output_type": "stream",
          "name": "stdout",
          "text": [
            "Enter first number01\n",
            "Enter first number01\n",
            "1 + 1 = 2\n"
          ]
        }
      ],
      "source": [
        "#\n",
        "def main():\n",
        "\n",
        "  first_input = int(input(\"Enter first number: \"))\n",
        "  second_input = int(input(\"Enter first number: \"))\n",
        "\n",
        "  print(f\"{first_input} + {second_input} = {first_input + second_input}\")\n",
        "\n",
        "if __name__ == \"__main__\":\n",
        "  main()\n",
        "\n"
      ]
    },
    {
      "cell_type": "markdown",
      "source": [
        "# 02 **Agreement Bot**"
      ],
      "metadata": {
        "id": "5I3L2Qn23c9S"
      }
    },
    {
      "cell_type": "code",
      "source": [
        "def main():\n",
        "  favourite_animal: str = input(\"What is your Favourite animal? \")\n",
        "  print(f\"My favorite animal is also {favourite_animal}\" )\n",
        "\n",
        "if __name__ == \"__main__\":\n",
        "  main()"
      ],
      "metadata": {
        "colab": {
          "base_uri": "https://localhost:8080/"
        },
        "id": "yKejUWlW3k0P",
        "outputId": "a8a1da4c-20c7-4737-cb68-ee73f5644f3b"
      },
      "execution_count": null,
      "outputs": [
        {
          "output_type": "stream",
          "name": "stdout",
          "text": [
            "What is your Favourite animal? FOX\n",
            "My favorite animal is also FOX\n"
          ]
        }
      ]
    },
    {
      "cell_type": "markdown",
      "source": [
        "# **03 Fahrenhite to celcius**"
      ],
      "metadata": {
        "id": "KYWYG3ci-dvm"
      }
    },
    {
      "cell_type": "code",
      "source": [
        "def main():\n",
        "  user_input = float(input(\"Enter temperature in Fahrenhite: \"))\n",
        "  temp_in_degrees = (user_input - 32) * 5.0/9.0\n",
        "  print(f\"{user_input} Fahrenhite is equal to {temp_in_degrees} degrees celcius\")\n",
        "\n",
        "if __name__ == \"__main__\":\n",
        "  main()\n"
      ],
      "metadata": {
        "id": "6Uu9HCwx-nVr",
        "colab": {
          "base_uri": "https://localhost:8080/"
        },
        "outputId": "5cc976a6-72fb-454e-fd13-bf89e62a464f"
      },
      "execution_count": 3,
      "outputs": [
        {
          "output_type": "stream",
          "name": "stdout",
          "text": [
            "Enter temperature in Fahrenhite: 88.2\n",
            "88.2 Fahrenhite is equal to 31.22222222222222 degrees celcius\n"
          ]
        }
      ]
    },
    {
      "cell_type": "markdown",
      "source": [
        "# **04 how old are they**"
      ],
      "metadata": {
        "id": "kFVmN5zHBqfK"
      }
    },
    {
      "cell_type": "code",
      "source": [
        "def main():\n",
        "  Anton = 21\n",
        "  Beth = Anton + 6\n",
        "  Chen = 20 + Beth\n",
        "  Drew = Chen + Anton\n",
        "  Ethan = Chen\n",
        "\n",
        "  print(f\"Anton is {Anton} years old\")\n",
        "  print(f\"Beth is {Beth} years old\")\n",
        "  print(f\"Chen is {Chen} years old\")\n",
        "  print(f\"Drew is {Drew} years old\")\n",
        "  print(f\"Ethan is {Ethan} years old\")\n",
        "\n",
        "if __name__ == \"__main__\":\n",
        "  main()"
      ],
      "metadata": {
        "colab": {
          "base_uri": "https://localhost:8080/"
        },
        "id": "DqBqNQMsBz4L",
        "outputId": "2d5c3fe4-8418-42b1-8dea-5d17a07dfc1d"
      },
      "execution_count": 4,
      "outputs": [
        {
          "output_type": "stream",
          "name": "stdout",
          "text": [
            "Anton is 21 years old\n",
            "Beth is 27 years old\n",
            "Chen is 47 years old\n",
            "Drew is 68 years old\n",
            "Ethan is 47 years old\n"
          ]
        }
      ]
    },
    {
      "cell_type": "markdown",
      "source": [
        "# **05 triangle perimeter**"
      ],
      "metadata": {
        "id": "jyJv66yuDRT7"
      }
    },
    {
      "cell_type": "code",
      "source": [
        "def main():\n",
        "  side_a = float(input(\"Enter side a: \"))\n",
        "  side_b = float(input(\"Enter side b: \"))\n",
        "  side_c = float(input(\"Enter side c: \"))\n",
        "\n",
        "  perimeter = side_a + side_b + side_c\n",
        "  print(f\"The perimeter of the triangle is {perimeter}\")\n",
        "\n",
        "if __name__ == \"__main__\":\n",
        "  main()"
      ],
      "metadata": {
        "colab": {
          "base_uri": "https://localhost:8080/"
        },
        "id": "ZVHLL1mCDXIK",
        "outputId": "0306db1f-5cd1-4f86-aa5d-df521f7bd0df"
      },
      "execution_count": 5,
      "outputs": [
        {
          "output_type": "stream",
          "name": "stdout",
          "text": [
            "Enter side a: 12\n",
            "Enter side b: 33\n",
            "Enter side c: 78\n",
            "The perimeter of the triangle is 123.0\n"
          ]
        }
      ]
    },
    {
      "cell_type": "markdown",
      "source": [
        "# **06 square number**"
      ],
      "metadata": {
        "id": "MCjDKOWmDr-w"
      }
    },
    {
      "cell_type": "code",
      "source": [
        "def main():\n",
        "  user_input = float(input(\"Enter a number: \"))\n",
        "  square = user_input * user_input\n",
        "  print(f\"{user_input} squared is {square}\")\n",
        "\n",
        "if __name__ == \"__main__\":\n",
        "   main()"
      ],
      "metadata": {
        "colab": {
          "base_uri": "https://localhost:8080/"
        },
        "id": "PkN3KLupFfxy",
        "outputId": "838276a1-4e07-443e-aa0f-cda3c1393015"
      },
      "execution_count": 7,
      "outputs": [
        {
          "output_type": "stream",
          "name": "stdout",
          "text": [
            "Enter a number: 88\n",
            "88.0 squared is 7744.0\n"
          ]
        }
      ]
    },
    {
      "cell_type": "markdown",
      "source": [
        "# ***01_expressions***"
      ],
      "metadata": {
        "id": "YpPakP8HFwo0"
      }
    },
    {
      "cell_type": "markdown",
      "source": [
        "# **01 dicesimulator**\n"
      ],
      "metadata": {
        "id": "nx2XB60wFoVd"
      }
    },
    {
      "cell_type": "code",
      "source": [
        "import random\n",
        "\n",
        "def die_roll():\n",
        "   die1 = random.randint(1, 6)\n",
        "   die2 = random.randint(1, 6)\n",
        "\n",
        "   print(f\"Die 1: {die1}\")\n",
        "   print(f\"Die 2: {die2}\")\n",
        "   print(f\"Sum of both die: {die1 + die2}\")\n",
        "\n",
        "\n",
        "\n",
        "def main():\n",
        "  die_roll()\n",
        "  die_roll()\n",
        "  die_roll()\n",
        "\n",
        "if __name__ == \"__main__\":\n",
        "  main()\n"
      ],
      "metadata": {
        "colab": {
          "base_uri": "https://localhost:8080/"
        },
        "id": "2RK087aPFtuH",
        "outputId": "da74fad4-5c3d-48fa-eba3-44b1b81b75a2"
      },
      "execution_count": 8,
      "outputs": [
        {
          "output_type": "stream",
          "name": "stdout",
          "text": [
            "Die 1: 5\n",
            "Die 2: 3\n",
            "Sum of both die: 8\n",
            "Die 1: 6\n",
            "Die 2: 3\n",
            "Sum of both die: 9\n",
            "Die 1: 5\n",
            "Die 2: 6\n",
            "Sum of both die: 11\n"
          ]
        }
      ]
    },
    {
      "cell_type": "markdown",
      "source": [
        "# **02 e=mc2**"
      ],
      "metadata": {
        "id": "HLmQfVbWIIGo"
      }
    },
    {
      "cell_type": "code",
      "source": [
        "def main():\n",
        "  user_input = float(input(\"Enter mass in KG: \"))\n",
        "  Energy = user_input * 299792458\n",
        "  print(f\"The energy in Joules is {Energy}\")\n",
        "\n",
        "if __name__ == \"__main__\":\n",
        "  main()\n"
      ],
      "metadata": {
        "colab": {
          "base_uri": "https://localhost:8080/"
        },
        "id": "WChUgHRBINgO",
        "outputId": "f7e3bf14-ca2d-4be5-c317-6a1c5135a0bf"
      },
      "execution_count": 10,
      "outputs": [
        {
          "output_type": "stream",
          "name": "stdout",
          "text": [
            "Enter mass in KG: 75\n",
            "The energy in Joules is 22484434350.0\n"
          ]
        }
      ]
    },
    {
      "cell_type": "markdown",
      "source": [
        "# **03 feet_to_inches**"
      ],
      "metadata": {
        "id": "S-nGOQPfIvAB"
      }
    },
    {
      "cell_type": "code",
      "source": [
        "def main():\n",
        "  user_input = float(input(\"Enter length in feet: \"))\n",
        "  inches = user_input * 12\n",
        "  print(f\"{user_input} feet = {inches} inches\")\n",
        "\n",
        "if __name__ == \"__main__\":\n",
        "  main()\n"
      ],
      "metadata": {
        "colab": {
          "base_uri": "https://localhost:8080/"
        },
        "id": "Cv71jpSeIx9F",
        "outputId": "7054cad0-81ed-4639-eae4-ec44a6a07c67"
      },
      "execution_count": 11,
      "outputs": [
        {
          "output_type": "stream",
          "name": "stdout",
          "text": [
            "Enter length in feet: 4.5\n",
            "4.5 feet = 54.0 inches\n"
          ]
        }
      ]
    },
    {
      "cell_type": "markdown",
      "source": [
        "# **04 pythagorean_theorem**"
      ],
      "metadata": {
        "id": "6vlCS4kbI8pD"
      }
    },
    {
      "cell_type": "code",
      "source": [
        "import math\n",
        "\n",
        "def main():\n",
        "  base = float(input(\"Enter Measure of base: \"))\n",
        "  perpendicular = float(input(\"Enter Measure of perpendicular: \"))\n",
        "\n",
        "  hyp = math.sqrt(base**2 + perpendicular**2)\n",
        "\n",
        "  print(f\"Hypotenuse of triangle having base {base} and perpendicular {perpendicular} is: {hyp}\")\n",
        "\n",
        "if __name__ == \"__main__\":\n",
        "  main()\n"
      ],
      "metadata": {
        "colab": {
          "base_uri": "https://localhost:8080/"
        },
        "id": "fQOeArU0JCS3",
        "outputId": "6f8eb38e-b593-4227-e360-f09c8f031986"
      },
      "execution_count": 21,
      "outputs": [
        {
          "output_type": "stream",
          "name": "stdout",
          "text": [
            "Enter Measure of base: 9\n",
            "Enter Measure of perpendicular: 9\n",
            "Hypotenuse of triangle having base 9.0 and perpendicular 9.0 is: 12.727922061357855\n"
          ]
        }
      ]
    },
    {
      "cell_type": "markdown",
      "source": [
        "# **05 remainder_division**"
      ],
      "metadata": {
        "id": "h1bstyGsLNbj"
      }
    },
    {
      "cell_type": "code",
      "source": [
        "def main():\n",
        "  first_num = int(input(\"Enter first number: \"))\n",
        "  second_num = int(input(\"Enter second number: \"))\n",
        "\n",
        "  if second_num == 0:\n",
        "    print(\"Cannot divide by zero\")\n",
        "    return\n",
        "  remainder = first_num % second_num\n",
        "  print(f\"The remainder of {first_num} divided by {second_num} = {remainder}\")\n",
        "if __name__ == \"__main__\":\n",
        "  main()"
      ],
      "metadata": {
        "colab": {
          "base_uri": "https://localhost:8080/"
        },
        "id": "luX-qYH0LRuo",
        "outputId": "0af586b1-d674-4392-ae9e-9c2cf5bf757a"
      },
      "execution_count": 24,
      "outputs": [
        {
          "output_type": "stream",
          "name": "stdout",
          "text": [
            "Enter first number: 12\n",
            "Enter second number: 2\n",
            "The remainder of 12 divided by 2 = 0\n"
          ]
        }
      ]
    },
    {
      "cell_type": "markdown",
      "source": [
        "# **06 rolldice**"
      ],
      "metadata": {
        "id": "0U-xbKwwMUrB"
      }
    },
    {
      "cell_type": "code",
      "source": [
        "import random\n",
        "\n",
        "def main():\n",
        "    die_roll()\n",
        "\n",
        "\n",
        "if __name__ == '__main__':\n",
        "    main()\n"
      ],
      "metadata": {
        "colab": {
          "base_uri": "https://localhost:8080/"
        },
        "id": "PaUPKsntMcI2",
        "outputId": "84665fd4-3298-4f06-f830-0e4aa82c47dc"
      },
      "execution_count": 31,
      "outputs": [
        {
          "output_type": "stream",
          "name": "stdout",
          "text": [
            "Die 1: 4\n",
            "Die 2: 6\n",
            "Sum of both die: 10\n"
          ]
        }
      ]
    },
    {
      "cell_type": "markdown",
      "source": [
        "# **06 seconds_in_year**\n",
        "\n"
      ],
      "metadata": {
        "id": "XPQHveO6M4Xh"
      }
    },
    {
      "cell_type": "code",
      "source": [
        "DAYS_IN_YEAR = 365\n",
        "HOURS_IN_A_DAY = 24\n",
        "MINIUTES_IN_AN_HOUR = 60\n",
        "SECONDS_IN_A_MINUTE = 60\n",
        "\n",
        "\n",
        "def main():\n",
        "  print(f\"There are {DAYS_IN_YEAR * HOURS_IN_A_DAY * MINIUTES_IN_AN_HOUR * SECONDS_IN_A_MINUTE} seconds in a year\")\n",
        "\n",
        "if __name__ == \"__main__\":\n",
        "  main()"
      ],
      "metadata": {
        "colab": {
          "base_uri": "https://localhost:8080/"
        },
        "id": "dycP8B17NWX3",
        "outputId": "840a7057-15a1-497a-96c6-1338af96eb66"
      },
      "execution_count": 32,
      "outputs": [
        {
          "output_type": "stream",
          "name": "stdout",
          "text": [
            "There are 31536000 seconds in a year\n"
          ]
        }
      ]
    },
    {
      "cell_type": "markdown",
      "source": [
        "# **07 tiny_mad_lib**"
      ],
      "metadata": {
        "id": "jTIZVWjbN2WC"
      }
    },
    {
      "cell_type": "code",
      "source": [
        "SENTENCE_START: str = \"Panaversity is fun. I learned to program and used Python to make my \"\n",
        "\n",
        "\n",
        "def main():\n",
        "  adjective: str  = input(\"Enter an adjective: \")\n",
        "  noun: str  = input(\"Enter an noun: \")\n",
        "  verb: str  = input(\"Enter an verb: \")\n",
        "\n",
        "  print(f\"{SENTENCE_START} {adjective} {noun} {verb} \")\n",
        "\n",
        "if __name__ == \"__main__\":\n",
        "  main()"
      ],
      "metadata": {
        "colab": {
          "base_uri": "https://localhost:8080/"
        },
        "id": "14HjtO5zN8IU",
        "outputId": "77727897-e851-47f5-c2b5-21935f77a441"
      },
      "execution_count": 33,
      "outputs": [
        {
          "output_type": "stream",
          "name": "stdout",
          "text": [
            "Enter an adjective: naughty\n",
            "Enter an noun: boy\n",
            "Enter an verb: play\n",
            "Panaversity is fun. I learned to program and used Python to make my  naughty boy play \n"
          ]
        }
      ]
    },
    {
      "cell_type": "markdown",
      "source": [
        "# ***02_lists***"
      ],
      "metadata": {
        "id": "9Bej3GMuPICW"
      }
    },
    {
      "cell_type": "markdown",
      "source": [
        "# **01 add_many_number**"
      ],
      "metadata": {
        "id": "_n0iwo0WPA-5"
      }
    },
    {
      "cell_type": "code",
      "source": [
        "def main():\n",
        ""
      ],
      "metadata": {
        "id": "XdEOgoAxPGsp"
      },
      "execution_count": null,
      "outputs": []
    }
  ]
}